{
 "cells": [
  {
   "cell_type": "code",
   "execution_count": null,
   "id": "319afeb9",
   "metadata": {},
   "outputs": [],
   "source": [
    "import google.colab\n",
    "import os\n",
    "import sys\n",
    "import subprocess\n",
    "\n",
    "REPO_URL = \"https://github.com/zivbeker42/llm-guesstimator.git\"\n",
    "\n",
    "bash_setup = f\"\"\"\n",
    "setup_llm_guesstimator() {{\n",
    "  if [[ -n \\\"${{COLAB_RELEASE_TAG:-}}\\\" ]]; then\n",
    "    local repo_path=\\\"/content/llm-guesstimator\\\"\n",
    "    if [[ ! -d \\\"$repo_path\\\" ]]; then\n",
    "      git clone \\\"{REPO_URL}\\\" \\\"$repo_path\\\"\n",
    "    fi\n",
    "  fi\n",
    "}}\n",
    "setup_llm_guesstimator\n",
    "\"\"\"\n",
    "\n",
    "subprocess.run([\"bash\", \"-lc\", bash_setup])\n",
    "\n",
    "repo_path = \"/content/llm-guesstimator\" if \"google.colab\" in sys.modules else os.path.abspath('.')\n",
    "\n",
    "if repo_path not in sys.path:\n",
    "    sys.path.append(repo_path)\n",
    "os.chdir(repo_path)\n"
   ]
  },
  {
   "cell_type": "code",
   "execution_count": null,
   "id": "6c7ad141",
   "metadata": {},
   "outputs": [],
   "source": [
    "!pip install numpy matplotlib pandas"
   ]
  },
  {
   "cell_type": "markdown",
   "id": "6e82a82a",
   "metadata": {
    "id": "6e82a82a"
   },
   "source": [
    "\n",
    "# Transformer Inference Compute Estimates (KV-Cache)\n",
    "\n",
    "This notebook walks from basic matrix-multiplication complexity to practical, closed-form estimates for **per-token** compute and **time** during autoregressive decoding with **KV-cache**. It includes:\n",
    "\n",
    "1. A quick refresher on matrix multiplication FLOPs.\n",
    "2. Per-layer FLOPs for a Transformer block with and without KV-cache.\n",
    "3. A server-level compute model with **fixed token budget** $(P = S\\cdot L)$ (concurrent requests \\(S\\), context length \\(L\\)).\n",
    "4. Plots of total **time per new decoded token** vs. \\(L\\) and \\(S\\) for a given GPU peak FLOPs.\n"
   ]
  },
  {
   "cell_type": "markdown",
   "id": "95acd85f",
   "metadata": {
    "id": "95acd85f"
   },
   "source": [
    "\n",
    "## 1) Matrix multiplication complexity (short refresher)\n",
    "\n",
    "Multiplying an $m \\times n$ matrix by an $n \\times p$ matrix costs approximately:\n",
    "\n",
    "$$\n",
    "\\text{FLOPs} \\approx 2\\,m\\,n\\,p\n",
    "$$\n",
    "\n",
    "counting a multiply and an add as two FLOPs. This is the core building block behind linear layers in Transformers.\n"
   ]
  },
  {
   "cell_type": "markdown",
   "id": "9badbce0",
   "metadata": {
    "id": "9badbce0"
   },
   "source": [
    "\n",
    "## 2) Transformer per-layer FLOPs\n",
    "\n",
    "We separate each Transformer layer into **attention** and **FFN** parts. Let:\n",
    "\n",
    "- $L$: sequence length / context length (number of tokens attended over).\n",
    "- $d$: hidden size.\n",
    "- $h$: number of attention heads (each head size $(d_h = d/h)$).\n",
    "- $r$: FFN expansion ratio (usually $(r \\approx 4$)).\n",
    "\n",
    "### 2.1) Without KV-cache (full recomputation)\n",
    "Processing a length-$L$ sequence **per layer** costs approximately:\n",
    "\n",
    "$$\n",
    "\\underbrace{8Ld^2}_{Q,K,V,O \\text{ projections}} \\;+\\; \\underbrace{4L^2 d}_{QK^\\top \\text{ and weights}\\times V} \\;+\\; \\underbrace{4rLd^2}_{\\text{FFN}}\n",
    "\\;=\\; (8+4r)Ld^2 \\;+\\; 4L^2 d.\n",
    "$$\n",
    "\n",
    "\n",
    "### 2.2) With KV-cache (incremental decode, per **new token**)\n",
    "Only the new token's attention is computed (past keys/values are reused). Per layer, per new token:\n",
    "\n",
    "$$\n",
    "\\underbrace{8d^2}_{Q,K,V,O \\text{ for the new token}} \\;+\\; \\underbrace{4Ld}_{qK^\\top \\text{ and weights}\\times V} \\;+\\; \\underbrace{4rd^2}_{\\text{FFN}}\n",
    "\\;=\\; (8+4r)d^2 \\;+\\; 4Ld.\n",
    "$$\n",
    "\n",
    "\n",
    "We will use this last expression as our **per-request, per-layer, per-token** FLOPs for decoding with KV-cache.\n"
   ]
  },
  {
   "cell_type": "markdown",
   "id": "2809f754",
   "metadata": {
    "id": "2809f754"
   },
   "source": [
    "\n",
    "## 3) Server-level model with fixed token budget $(P = S\\cdot L)$\n",
    "\n",
    "Let:\n",
    "- $S$: number of concurrent requests (each decoding one new token at a step).\n",
    "- $P = S \\cdot L$: fixed \"token budget\" across the server at each decoding step.\n",
    "\n",
    "Then total **per-layer** FLOPs across all \\(S\\) requests is:\n",
    "\n",
    "$$\n",
    "\\big((8+4r)d^2 + 4Ld\\big)\\,S\n",
    "\\;=\\;\n",
    "\\frac{P(8+4r)d^2}{L} \\;+\\; 4Pd.\n",
    "$$\n",
    "\n",
    "\n",
    "This exhibits a \\(1/L\\) term plus a constant \\(2Pd\\) asymptote.\n",
    "\n",
    "For the full model with $n_\\text{layers}$ layers, multiply by $n_\\text{layers}$. To convert to **time per token**, divide by **GPU peak FLOPs/sec**.\n"
   ]
  },
  {
   "cell_type": "markdown",
   "id": "8b388a6d",
   "metadata": {
    "id": "8b388a6d"
   },
   "source": [
    "\n",
    "## 4) Parameters\n",
    "\n",
    "We define the following parameters in code:\n",
    "\n",
    "- `r` — FFN expansion ratio (default: 4).\n",
    "- `d` — hidden size (default: 4096).\n",
    "- `P` — fixed token budget $P=S\\cdot L$ (default: 20,000).\n",
    "- `n_layers` — number of Transformer layers (default: 64).\n",
    "- `gpu_flops_per_sec` — GPU peak FLOPs/sec (default: 312e12 for NVIDIA A100 ~312 TFLOPS).\n",
    "\n",
    "You can adjust these to match your setup.\n"
   ]
  },
  {
   "cell_type": "code",
   "execution_count": 2,
   "id": "f87ff5fe",
   "metadata": {
    "id": "f87ff5fe"
   },
   "outputs": [],
   "source": [
    "import numpy as np\n",
    "import matplotlib.pyplot as plt\n",
    "import pandas as pd\n",
    "\n",
    "from utils.config import (\n",
    "    S_L_GRID_SETTINGS,\n",
    "    DEFAULT_DECODE_MODEL_NAME,\n",
    "    get_hardware_config,\n",
    "    get_model_config,\n",
    "    get_workload_config,\n",
    ")\n",
    "from utils.math_utils import (\n",
    "    activation_io_bytes,\n",
    "    decode_memory_time,\n",
    "    kv_read_bytes,\n",
    "    kv_write_bytes,\n",
    "    time_per_token_from_L,\n",
    "    time_per_token_from_S,\n",
    "    weights_bytes,\n",
    ")\n",
    "\n",
    "hardware = get_hardware_config()\n",
    "workload = get_workload_config()\n",
    "decode_model = get_model_config(DEFAULT_DECODE_MODEL_NAME)\n",
    "\n",
    "P = workload.total_prompt_tokens\n",
    "d = decode_model.hidden_size\n",
    "r = decode_model.expansion_ratio\n",
    "n_layers = decode_model.num_layers\n",
    "gpu_flops_per_sec = hardware.flops_per_second\n",
    "\n",
    "decode_settings = S_L_GRID_SETTINGS[\"decode\"]\n"
   ]
  },
  {
   "cell_type": "markdown",
   "id": "f6034971",
   "metadata": {
    "id": "f6034971"
   },
   "source": [
    "\n",
    "## 5) Functions for FLOPs and time\n",
    "We implement small helpers for clarity and reuse.\n"
   ]
  },
  {
   "cell_type": "markdown",
   "id": "39976dee",
   "metadata": {
    "id": "39976dee"
   },
   "source": [
    "\n",
    "## 6) Plot: Time per token vs. $L$ and $S$ (with fixed $P$)\n",
    "\n",
    "This plots\n",
    "$$T(L) = \\dfrac{n_\\text{layers}}{\\text{GPU}}\\left(\\dfrac{P(8+4r)d^2}{L} + 4Pd\\right)$$\n",
    "$$T(S) = \\dfrac{n_\\text{layers}}{\\text{GPU}}\\left({S(8+4r)d^2} + 4Pd\\right)$$\n",
    "and the asymptote $\\dfrac{n_\\text{layers} 4Pd}{\\text{GPU}}$.\n",
    "\n",
    "- Bottom x-axis: $L$ (log scale).\n",
    "- Top x-axis: $S$ (linear), related by $S = P / L$."
   ]
  },
  {
   "cell_type": "code",
   "execution_count": 10,
   "id": "21cd4eb4",
   "metadata": {
    "colab": {
     "base_uri": "https://localhost:8080/",
     "height": 492
    },
    "executionInfo": {
     "elapsed": 1096,
     "status": "ok",
     "timestamp": 1759258805503,
     "user": {
      "displayName": "ziv beker",
      "userId": "07904590467861271362"
     },
     "user_tz": -180
    },
    "id": "21cd4eb4",
    "outputId": "47f9e31f-609e-4c7d-b4b4-1aeb0c2dc7e4"
   },
   "outputs": [
    {
     "data": {
      "image/png": "[encoded data removed]",
      "text/plain": [
       "<Figure size 800x500 with 2 Axes>"
      ]
     },
     "metadata": {},
     "output_type": "display_data"
    }
   ],
   "source": [
    "# T(L)\n",
    "L_vals = np.logspace(\n",
    "    np.log10(decode_settings[\"context_min\"]),\n",
    "    np.log10(P),\n",
    "    int(decode_settings[\"context_samples\"]),\n",
    ")\n",
    "T_L = time_per_token_from_L(L_vals, P, decode_model, hardware)\n",
    "asymptote_time = (4 * P * d * n_layers) / gpu_flops_per_sec\n",
    "\n",
    "fig, axL = plt.subplots(figsize=(8, 5))\n",
    "axL.plot(L_vals, T_L, label=\"T(L) with P fixed\", linewidth=2)\n",
    "axL.axhline(\n",
    "    asymptote_time,\n",
    "    linestyle=\"--\",\n",
    "    label=f\"Asymptote = {asymptote_time * 1e6:.3f} µs\",\n",
    ")\n",
    "\n",
    "# T(S) \n",
    "start, stop, num = decode_settings[\"batch_range\"]\n",
    "S_vals = np.linspace(start, stop, int(num))\n",
    "T_S = time_per_token_from_S(S_vals, P, decode_model, hardware)\n",
    "\n",
    "\n",
    "axL.set_xscale(\"log\")\n",
    "axL.set_xlabel(\"Context length L (log scale)\")\n",
    "axL.set_ylabel(\"Seconds per new token (across S concurrent reqs)\")\n",
    "axL.grid(True, which=\"both\", linestyle=\":\")\n",
    "\n",
    "axS = axL.twiny()\n",
    "axS.plot(S_vals, T_S, label=\"T(S) with P fixed\", alpha=0.85, color=\"red\")\n",
    "axS.set_xlabel(\"Concurrency S (linear scale)\")\n",
    "\n",
    "lines_L, labels_L = axL.get_legend_handles_labels()\n",
    "lines_S, labels_S = axS.get_legend_handles_labels()\n",
    "axL.legend(lines_L + lines_S, labels_L + labels_S, loc=\"upper right\")\n",
    "\n",
    "plt.title(\"Per-token time with fixed P = S·L\")\n",
    "plt.tight_layout()\n",
    "plt.grid(True, which=\"both\", linestyle=\":\")\n",
    "plt.show()\n"
   ]
  },
  {
   "cell_type": "markdown",
   "id": "b4dd1cda",
   "metadata": {
    "id": "b4dd1cda"
   },
   "source": [
    "\n",
    "## 7) Sample values table\n",
    "\n",
    "Representative points for \\(L\\) and \\(S\\) with the current parameters.\n"
   ]
  },
  {
   "cell_type": "code",
   "execution_count": null,
   "id": "84dd5b83",
   "metadata": {
    "colab": {
     "base_uri": "https://localhost:8080/",
     "height": 739
    },
    "executionInfo": {
     "elapsed": 60,
     "status": "ok",
     "timestamp": 1759258978398,
     "user": {
      "displayName": "ziv beker",
      "userId": "07904590467861271362"
     },
     "user_tz": -180
    },
    "id": "84dd5b83",
    "outputId": "99c166e4-7885-4fb2-ca5d-9a314f9e5ff7"
   },
   "outputs": [],
   "source": [
    "rows = []\n",
    "for L in [50, 100, 200, 500, 1000, 2000, 4000, 8000, 10000, 20000]:\n",
    "    S = P / L\n",
    "    rows.append({\n",
    "        \"L (context)\": L,\n",
    "        \"S (concurrency)\": S,\n",
    "        \"Time per token (s)\": float(time_per_token_from_L(L, P, decode_model, hardware)),\n",
    "        \"Time per token (ms)\": float(time_per_token_from_L(L, P, decode_model, hardware) * 1e3),\n",
    "    })\n",
    "\n",
    "for S in [1, 2, 5, 10, 20, 50, 100, 200, 500, 1000, 2000, 5000]:\n",
    "    L = P / S\n",
    "    rows.append({\n",
    "        \"S (concurrency)\": S,\n",
    "        \"L (context)\": L,\n",
    "        \"Time per token (s)\": float(time_per_token_from_S(S, P, decode_model, hardware)),\n",
    "        \"Time per token (ms)\": float(time_per_token_from_S(S, P, decode_model, hardware) * 1e3),\n",
    "    })\n",
    "\n",
    "df = pd.DataFrame(rows)\n",
    "df\n"
   ]
  },
  {
   "cell_type": "markdown",
   "id": "9dc3f5b3",
   "metadata": {
    "id": "9dc3f5b3"
   },
   "source": [
    "\n",
    "# Memory-Bound Estimates for Transformer Decoding (KV-Cache)\n",
    "\n",
    "This part focuses **only on memory traffic** for per-token latency estimates during autoregressive decoding with KV-cache.\n",
    "It is designed to be appended to the previous compute-focused notebook.\n"
   ]
  },
  {
   "cell_type": "markdown",
   "id": "3de32213",
   "metadata": {
    "id": "3de32213"
   },
   "source": [
    "\n",
    "## Parameters\n",
    "\n",
    "- $r$ — FFN expansion ratio (default: 4)  \n",
    "- $d$ — hidden size (default: 4096)  \n",
    "- $P$ — fixed token budget $P=S\\cdot L$ (default: 20,000)  \n",
    "- $n_\\text{layers}$ — number of Transformer layers (default: 64)  \n",
    "- `dtype_bytes` — bytes per element (default: 2 for FP16/BF16)  \n",
    "- `BW` — memory bandwidth in Bytes/sec (e.g., A100-80GB $\\approx 2.0\\times 10^{12}$, A100-40GB $\\approx 1.555\\times 10^{12}$)\n"
   ]
  },
  {
   "cell_type": "markdown",
   "id": "5410bf11",
   "metadata": {
    "id": "5410bf11"
   },
   "source": [
    "\n",
    "## Plots\n",
    "\n",
    "- $T_{\\text{memory}}(L)$ with fixed $P=S\\cdot L$ (log-$L$ axis)  \n",
    "- $T_{\\text{memory}}(S)$ with fixed $P$ (linear-$S$ axis)  \n",
    "\n",
    "The asymptotic floor at large $L$ (small $S$) is given by **weights + KV read** only.\n"
   ]
  },
  {
   "cell_type": "markdown",
   "id": "e05892ad",
   "metadata": {},
   "source": [
    "## Memory Traffic Model\n",
    "\n",
    "We approximate the per-token memory bytes (across all $S$ concurrent requests at a step) as the sum of:\n",
    "\n",
    "1. **Weights read (dominant):** $(4+2r)d^2$ params per layer  \n",
    "   Bytes: $n_\\text{layers}\\,(4+2r)\\,d^2 \\cdot \\text{dtype\\_bytes}$\n",
    "\n",
    "2. **KV-cache read (constant vs $L$ at fixed $P$):** across $S$ requests per layer we read both $K$ and $V$ for past $L$ tokens  \n",
    "   Elements: $2SLd = 2Pd$  \n",
    "   Bytes: $n_\\text{layers}\\,2Pd \\cdot \\text{dtype\\_bytes}$\n",
    "\n",
    "3. **KV-cache write (grows with $S$):** writing new $K,V$ for the new token per request  \n",
    "   Elements: $2Sd$  \n",
    "   Bytes: $n_\\text{layers}\\,2Sd \\cdot \\text{dtype\\_bytes}$\n",
    "\n",
    "4. **Activation I/O (smaller term, but included):** for the six linears (Q,K,V,O and 2xFFN) we use a factor $c_\\text{act}=12$  \n",
    "   Bytes: $n_\\text{layers}\\,c_\\text{act}\\,Sd \\cdot \\text{dtype\\_bytes}$\n",
    "\n",
    "The **memory-bound time** is  \n",
    "$T_\\text{memory} = \\dfrac{\\text{Bytes}}{\\text{total\\_BW}}$.\n",
    "\n",
    "So in total **Memory time:**\n",
    "\n",
    "$$T_{\\text{prefill}}^{\\text{memory}}(S,L) = \\frac{n_\\ell \\Big((4+2r) d^2 + (2+c_{\\text{act}}) S d + 2 S L d \\Big) \\, \\text{dtype\\_bytes}}{BW}$$"
   ]
  },
  {
   "cell_type": "markdown",
   "id": "0f4a2a5c",
   "metadata": {},
   "source": [
    "\n",
    "## Plots\n",
    "\n",
    "- $T_{\\text{memory}}(L)$ with fixed $P=S\\cdot L$ (log-$L$ axis)  \n",
    "- $T_{\\text{memory}}(S)$ with fixed $P$ (linear-$S$ axis)  \n",
    "\n",
    "The asymptotic floor at large $L$ (small $S$) is given by **weights + KV read** only.\n"
   ]
  },
  {
   "cell_type": "code",
   "execution_count": 7,
   "id": "cbed3089",
   "metadata": {
    "colab": {
     "base_uri": "https://localhost:8080/",
     "height": 507
    },
    "executionInfo": {
     "elapsed": 629,
     "status": "ok",
     "timestamp": 1759259169960,
     "user": {
      "displayName": "ziv beker",
      "userId": "07904590467861271362"
     },
     "user_tz": -180
    },
    "id": "cbed3089",
    "outputId": "182eed3f-768e-4eae-f6a7-faa6838d59b2"
   },
   "outputs": [
    {
     "ename": "KeyError",
     "evalue": "'batch_range'",
     "output_type": "error",
     "traceback": [
      "\u001b[0;31m---------------------------------------------------------------------------\u001b[0m",
      "\u001b[0;31mKeyError\u001b[0m                                  Traceback (most recent call last)",
      "Cell \u001b[0;32mIn[7], line 1\u001b[0m\n\u001b[0;32m----> 1\u001b[0m start, stop, num \u001b[38;5;241m=\u001b[39m \u001b[43mdecode_settings\u001b[49m\u001b[43m[\u001b[49m\u001b[38;5;124;43m\"\u001b[39;49m\u001b[38;5;124;43mbatch_range\u001b[39;49m\u001b[38;5;124;43m\"\u001b[39;49m\u001b[43m]\u001b[49m\n\u001b[1;32m      2\u001b[0m S_vals \u001b[38;5;241m=\u001b[39m np\u001b[38;5;241m.\u001b[39mlinspace(start, stop, \u001b[38;5;28mint\u001b[39m(num))\n\u001b[1;32m      3\u001b[0m L_for_S \u001b[38;5;241m=\u001b[39m P \u001b[38;5;241m/\u001b[39m S_vals\n",
      "\u001b[0;31mKeyError\u001b[0m: 'batch_range'"
     ]
    }
   ],
   "source": [
    "start, stop, num = decode_settings[\"batch_range\"]\n",
    "S_vals = np.linspace(start, stop, int(num))\n",
    "L_for_S = P / S_vals\n",
    "Tmem_S = decode_memory_time(S_vals, L_for_S, decode_model, hardware)\n",
    "\n",
    "min_context = max(decode_settings[\"context_min\"], P / stop)\n",
    "L_vals = np.logspace(\n",
    "    np.log10(min_context),\n",
    "    np.log10(P),\n",
    "    int(decode_settings[\"context_samples\"]),\n",
    ")\n",
    "S_for_L = P / L_vals\n",
    "Tmem_L = decode_memory_time(S_for_L, L_vals, decode_model, hardware)\n",
    "\n",
    "T_asym = float(decode_memory_time(1.0, P, decode_model, hardware))\n",
    "\n",
    "fig, axL = plt.subplots(figsize=(8, 5))\n",
    "axL.plot(L_vals, Tmem_L * 1e3, label=\"T_memory(L) (ms)\", linewidth=2)\n",
    "axL.axhline(T_asym * 1e3, linestyle=\"--\", label=f\"Asymptote ≈ {T_asym * 1e3:.2f} ms\")\n",
    "axL.set_xscale(\"log\")\n",
    "axL.set_xlabel(\"Context length L (log scale)\")\n",
    "axL.set_ylabel(\"Estimated memory time per token (ms)\")\n",
    "axL.grid(True, which=\"both\", linestyle=\":\")\n",
    "\n",
    "axS = axL.twiny()\n",
    "axS.plot(S_vals, Tmem_S * 1e3, label=\"T_memory(S) (ms)\", alpha=0.85, color=\"red\")\n",
    "axS.set_xlabel(\"Concurrency S (linear scale)\")\n",
    "\n",
    "lines_L, labels_L = axL.get_legend_handles_labels()\n",
    "lines_S, labels_S = axS.get_legend_handles_labels()\n",
    "axL.legend(lines_L + lines_S, labels_L + labels_S, loc=\"upper right\")\n",
    "\n",
    "plt.title(\"Memory-bound per-token time\")\n",
    "plt.tight_layout()\n",
    "plt.show()\n"
   ]
  },
  {
   "cell_type": "markdown",
   "id": "e8b7ed78",
   "metadata": {},
   "source": [
    "\n",
    "## Plots\n",
    "\n",
    "- $T_{\\text{memory}}(L)$ with fixed $S$ (log-$L$ axis)  \n",
    "- $T_{\\text{memory}}(S)$ with fixed $L$ (linear-$S$ axis)  \n",
    "\n",
    "The asymptotic floor at large $L$ (small $S$) is given by **weights + KV read** only.\n"
   ]
  },
  {
   "cell_type": "code",
   "execution_count": 5,
   "id": "f9981436",
   "metadata": {},
   "outputs": [
    {
     "data": {
      "image/png": "[encoded data removed]",
      "text/plain": [
       "<Figure size 800x500 with 1 Axes>"
      ]
     },
     "metadata": {},
     "output_type": "display_data"
    },
    {
     "data": {
      "image/png": "[encoded data removed]",
      "text/plain": [
       "<Figure size 800x500 with 1 Axes>"
      ]
     },
     "metadata": {},
     "output_type": "display_data"
    }
   ],
   "source": [
    "surface_S_start, surface_S_stop, _ = decode_settings[\"surface_batch_range\"]\n",
    "surface_L_start, surface_L_stop, _ = decode_settings[\"surface_past_length_range\"]\n",
    "\n",
    "# S_samples = np.array([1, 4, 16, 64, 256, 512], dtype=float)\n",
    "S_samples = np.array([1, 4], dtype=float)\n",
    "\n",
    "# L_grid = np.logspace(\n",
    "#     np.log10(max(decode_settings[\"context_min\"], surface_L_start)),\n",
    "#     np.log10(surface_L_stop),\n",
    "#     1000,\n",
    "# )\n",
    "L_grid = np.linspace(surface_L_start, surface_L_stop, 1000)\n",
    "fig, ax = plt.subplots(figsize=(8, 5))\n",
    "for S_val in S_samples:\n",
    "    T_vals_ms = decode_memory_time(S_val, L_grid, decode_model, hardware) * 1e3\n",
    "    ax.plot(L_grid, T_vals_ms, label=f\"S = {S_val:g}\")\n",
    "\n",
    "# ax.set_xscale(\"log\")\n",
    "ax.set_xlabel(\"Context length L (tokens)\")\n",
    "ax.set_ylabel(\"T_memory(L) per token (ms)\")\n",
    "ax.set_title(\"Decode memory time vs. L for constant S\")\n",
    "ax.grid(True, which=\"both\", linestyle=\":\")\n",
    "ax.legend(title=\"Concurrency\", loc=\"upper left\", framealpha=0.9)\n",
    "plt.tight_layout()\n",
    "plt.show()\n",
    "\n",
    "# S_grid = np.linspace(surface_S_start, surface_S_stop, 200)\n",
    "L_samples = np.array([64, 256, 1024, 4096], dtype=float)\n",
    "# L_samples = np.array([1, 50], dtype=float)\n",
    "\n",
    "fig, ax = plt.subplots(figsize=(8, 5))\n",
    "for L_val in L_samples:\n",
    "    T_vals_ms = decode_memory_time(S_grid, L_val, decode_model, hardware) * 1e3\n",
    "    ax.plot(S_grid, T_vals_ms, label=f\"L = {int(L_val)}\")\n",
    "\n",
    "# ax.set_xscale(\"log\")\n",
    "ax.set_xlabel(\"Concurrency S\")\n",
    "ax.set_ylabel(\"T_memory(S) per token (ms)\")\n",
    "ax.set_title(\"Decode memory time vs. S for constant L\")\n",
    "ax.grid(True, which=\"both\", linestyle=\":\")\n",
    "ax.legend(title=\"Context length\", loc=\"upper right\", framealpha=0.9)\n",
    "plt.tight_layout()\n",
    "plt.show()\n"
   ]
  },
  {
   "cell_type": "markdown",
   "id": "7baa880f",
   "metadata": {
    "id": "7baa880f"
   },
   "source": [
    "\n",
    "## Sample Points\n",
    "\n",
    "A small table of representative $(L,S)$ values to validate magnitudes.\n"
   ]
  },
  {
   "cell_type": "code",
   "execution_count": null,
   "id": "0a66d8fc",
   "metadata": {
    "colab": {
     "base_uri": "https://localhost:8080/",
     "height": 206
    },
    "executionInfo": {
     "elapsed": 11,
     "status": "ok",
     "timestamp": 1759259373188,
     "user": {
      "displayName": "ziv beker",
      "userId": "07904590467861271362"
     },
     "user_tz": -180
    },
    "id": "0a66d8fc",
    "outputId": "038dd586-cdb7-4330-d03d-383de65cafe4"
   },
   "outputs": [],
   "source": [
    "rows = []\n",
    "for L in [50, 200, 1000, 4000, 20000]:\n",
    "    S = P / L\n",
    "    rows.append({\n",
    "        \"L\": L,\n",
    "        \"S\": S,\n",
    "        \"Bytes_weights_GB\": weights_bytes(decode_model, hardware) / 1e9,\n",
    "        \"Bytes_KV_read_GB\": kv_read_bytes(P, decode_model, hardware) / 1e9,\n",
    "        \"Bytes_KV_write_GB\": kv_write_bytes(S, decode_model, hardware) / 1e9,\n",
    "        \"Bytes_act_IO_GB\": activation_io_bytes(S, decode_model, hardware) / 1e9,\n",
    "        \"T_mem_ms\": float(decode_memory_time(S, L, decode_model, hardware) * 1e3),\n",
    "    })\n",
    "\n",
    "df = pd.DataFrame(rows)\n",
    "df\n"
   ]
  },
  {
   "cell_type": "markdown",
   "id": "0VI_yRMWkacz",
   "metadata": {
    "id": "0VI_yRMWkacz"
   },
   "source": [
    "# Combine memory and bandwidth time"
   ]
  },
  {
   "cell_type": "code",
   "execution_count": null,
   "id": "q6jbngMUaRdx",
   "metadata": {
    "colab": {
     "base_uri": "https://localhost:8080/"
    },
    "executionInfo": {
     "elapsed": 15447,
     "status": "ok",
     "timestamp": 1759232229750,
     "user": {
      "displayName": "ziv beker",
      "userId": "07904590467861271362"
     },
     "user_tz": -180
    },
    "id": "q6jbngMUaRdx",
    "outputId": "dd5fe382-ce94-497e-d912-fe7fd9c9941d"
   },
   "outputs": [],
   "source": [
    "# Install plotly if needed\n",
    "!pip install plotly nbformat"
   ]
  },
  {
   "cell_type": "code",
   "execution_count": 4,
   "id": "75NRTRD5aOw0",
   "metadata": {
    "colab": {
     "base_uri": "https://localhost:8080/",
     "height": 1000
    },
    "executionInfo": {
     "elapsed": 2895,
     "status": "ok",
     "timestamp": 1759259381303,
     "user": {
      "displayName": "ziv beker",
      "userId": "07904590467861271362"
     },
     "user_tz": -180
    },
    "id": "75NRTRD5aOw0",
    "outputId": "0b66387a-af44-4207-fce5-508585d2bb35"
   },
   "outputs": [
    {
     "data": {
      "application/vnd.plotly.v1+json": {
       "config": {
        "plotlyServerURL": "https://plot.ly"
       },
       "data": [
        {
         "showscale": true,
         "type": "surface",
         "x": {
          "bdata": "AAAAAAAA8D8AAAAAAIBJQAAAAAAAQFlAAAAAAADgYkAAAAAAACBpQAAAAAAAYG9AAAAAAADQckAAAAAAAPB1QAAAAAAAEHlAAAAAAAAwfEAAAAAAAFB/QAAAAAAAOIFAAAAAAADIgkAAAAAAAFiEQAAAAAAA6IVAAAAAAAB4h0AAAAAAAAiJQAAAAAAAmIpAAAAAAAAojEAAAAAAALiNQA==",
          "dtype": "f8"
         },
         "y": {
          "bdata": "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",
          "dtype": "f8"
         },
         "z": {
          "bdata": "9K4sKSAVOz9qm8+g1ZSVPwxCfWCrXqU/ZLaS8Ovyrz9dFVRAlkO1P4nPXoi2jbo/tYlp0NbXvz/wITqM+5DCPwZ/P7ALNsU/HNxE1Bvbxz8yOUr4K4DKP0eWTxw8Jc0/XfNUQEzKzz86KC0yrjfRP8TWL0Q2itI/T4UyVr7c0z/aMzVoRi/VP2XiN3rOgdY/8JA6jFbU1z97Pz2e3ibZP4DG+LIlHjs/Lj6eCgaclT+hTDi/yWWlPyt6IXmQ/a8/2lOFmatKtT+f6nn2jpa6P2SBblNy4r8/FIwx2CqXwj9316uGHD3FP9kiJjUO48c/PG6g4/+Iyj+euRqS8S7NPwEFlUDj1M8/MqiHd2o90T/jzcROY5DSP5TzASZc49M/RRk//VQ21T/3PnzUTYnWP6hkuatG3Nc/WYr2gj8v2T8L3sQ8Kyc7P/HgbHQ2o5U/NVfzHehspT/5HtiAGgSwP1eStvLAUbU/tQWVZGefuj8TeXPWDe2/Pzn2KCRancI/6C8YXS1ExT+XaQeWAOvHP0aj9s7Tkco/9dzlB6c4zT+kFtVAet/PPyoo4rwmQ9E/AcVZWZCW0j/ZYdH1+enTP7D+SJJjPdU/iJvALs2Q1j9fODjLNuTXPzfVr2egN9k/l/WQxjAwOz+0gzveZqqVP8lhrnwGdKU/3IAfxWwJsD/U0OdL1li1P8sgsNI/qLo/w3B4Wan3vz9dYCBwiaPCP1mIhDM+S8U/VbDo9vLyxz9Q2Ey6p5rKP0wAsX1cQs0/SCgVQRHqzz8iqDwC40jRPyC87mO9nNI/HtCgxZfw0z8b5FInckTVPxn4BIlMmNY/Fwy36ibs1z8VIGlMAUDZPyMNXVA2OTs/eCYKSJexlT9dbGnbJHulP8DiZgm/DrA/UA8ZpetftT/hO8tAGLG6Pzm0Pm4iAcA/gcoXvLipwj/K4PAJT1LFPxL3yVfl+sc/Ww2jpXujyj+jI3zzEUzNP+s5VUGo9M8/GiiXR59O0T8+s4Nu6qLSP2I+cJU199M/hslcvIBL1T+rVEnjy5/WP8/fNQoX9Nc/82oiMWJI2T+uJCnaO0I7PzvJ2LHHuJU/8nYkOkOCpT+jRK5NERSwP81NSv4AZ7U/91bmrvC5uj8RMMEvcAbAP6Y0Dwjor8I/Ozld4F9ZxT/QPau41wLIP2VC+ZBPrMo/+kZHacdVzT+PS5VBP//PPxKo8YxbVNE/XKoYeRep0j+nrD9l0/3TP/GuZlGPUtU/PLGNPUun1j+Hs7QpB/zXP9G12xXDUNk/Ojz1Y0FLOz/+a6cb+L+VP4aB35hhiaU/hqb1kWMZsD9KjHtXFm61Pw1yAR3Jwro/6KtD8b0LwD/KngZUF7bCP6yRybZwYMU/jYSMGcoKyD9vd098I7XKP1FqEt98X80/ma7qIOsE0D8KKEzSF1rRP3uhrYNEr9I/7BoPNXEE1D9dlHDmnVnVP80N0pfKrtY/PoczSfcD2D+vAJX6I1nZP8ZTwe1GVDs/wg52hSjHlT8ajJr3f5ClP2oIPda1HrA/xsqssCt1tT8jjRyLocu6P8AnxrILEcA/7gj+n0a8wj8d6jWNgWfFP0vLbXq8Esg/eaylZ/e9yj+ojd1UMmnNP2u3CqE2CtA/AqimF9Rf0T+ZmEKOcbXSPzCJ3gQPC9Q/yHl6e6xg1T9fahbySbbWP/ZasmjnC9g/jUtO34Rh2T9Sa413TF07P4WxRO9YzpU/rpZVVp6XpT9NaoQaCCSwP0MJ3glBfLU/Oag3+XnUuj+Yo0h0WRbAPxJz9et1wsI/jUKiY5JuxT8IEk/brhrIP4Ph+1LLxso//rCoyudyzT89wCohgg/QP/onAV2QZdE/uI/XmJ670j91963UrBHUPzNfhBC7Z9U/8MZaTMm91j+uLjGI1xPYP2uWB8Tladk/3YJZAVJmOz9IVBNZidWVP0OhELW8nqU/MczLXlopsD/ARw9jVoO1P0/DUmdS3bo/bx/LNacbwD833ew3pcjCP/6aDjqjdcU/xlgwPKEiyD+OFlI+n8/KP1XUc0CdfM0/DslKoc0U0D/yp1uiTGvRP9aGbKPLwdI/umV9pEoY1D+eRI6lyW7VP4Ejn6ZIxdY/ZQKwp8cb2D9J4cCoRnLZP2maJYtXbzs/DPfhwrnclT/Xq8sT26WlPxQuE6OsLrA/PYZAvGuKtT9l3m3VKua6P0ebTff0IMA/W0fkg9TOwj9v83oQtHzFP4SfEZ2TKsg/mEuoKXPYyj+s9z62UobNP+DRaiEZGtA/6ie25whx0T/0fQGu+MfSP//TTHToHtQ/CSqYOth11T8TgOMAyMzWPx3WLse3I9g/Jyx6jad62T/1sfEUXXg7P8+ZsCzq45U/a7aGcvmspT/3j1rn/jOwP7nEcRWBkbU/e/mIQwPvuj8eF9C4QibAP3+x288D1cI/4Evn5sSDxT9B5vL9hTLIP6KA/hRH4co/AxsKLAiQzT+y2oqhZB/QP+KnEC3FdtE/E3WWuCXO0j9DQhxEhiXUP3QPos/mfNU/pNwnW0fU1j/Vqa3mpyvYPwV3M3IIg9k/gcm9nmKBOz+SPH+WGuuVP//AQdEXtKU/2/GhK1E5sD82A6Nulpi1P5EUpLHb97o/9pJSepArwD+kG9MbM9vCP1GkU73VisU//yzUXng6yD+stVQAG+rKP1o+1aG9mc0/hOOqIbAk0D/aJ2tygXzRPzFsK8NS1NI/iLDrEyQs1D/f9Ktk9YPVPzY5bLXG29Y/jH0sBpgz2D/jwexWaYvZPwzhiShoijs/Vt9NAEvylT+Uy/wvNrulP75T6W+jPrA/s0HUx6uftT+nL78ftAC7P84O1TveMMA/yIXKZ2Lhwj/C/L+T5pHFP7xztb9qQsg/t+qq6+7yyj+xYaAXc6PNP1XsyqH7KdA/06fFtz2C0T9QY8DNf9rSP80eu+PBMtQ/Stq1+QOL1T/HlbAPRuPWP0RRqyWIO9g/wQymO8qT2T+Y+FWybZM7PxmCHGp7+ZU/KNa3jlTCpT+itTC09UOwPy+ABSHBprU/vUrajYwJuz+lilf9KzbAP+zvwbOR58I/M1UsaveYxT96upYgXUrIP8EfAdfC+8o/CIVrjSitzT8n9eohRy/QP8snIP35h9E/blpV2Kzg0j8SjYqzXznUP7W/v44SktU/WPL0acXq1j/8JCpFeEPYP59XXyArnNk/JBAiPHOcOz/cJOvTqwCWP7zgcu1yyaU/hRd4+EdJsD+svjZ61q21P9Nl9ftkErs/fQbavnk7wD8RWrn/wO3CP6StmEAIoMU/OAF4gU9SyD/LVFfClgTLP16oNgPets0/+f0KopI00D/Dp3pCto3RP4xR6uLZ5tI/VvtZg/0/1D8gpckjIZnVP+pOOcRE8tY/s/ioZGhL2D99ohgFjKTZP68n7sV4pTs/oMe5PdwHlj9Q6y1MkdClP2l5vzyaTrA/Kf1n0+u0tT/pgBBqPRu7P1WCXIDHQMA/NcSwS/Dzwj8VBgUXGafFP/VHWeJBWsg/1YmtrWoNyz+1ywF5k8DNP8sGKyLeOdA/uyfVh3KT0T+rSH/tBu3SP5tpKVObRtQ/i4rTuC+g1T97q30exPnWP2vMJ4RYU9g/W+3R6eys2T87P7pPfq47P2NqiKcMD5Y/5fXoqq/XpT9M2waB7FOwP6U7mSwBvLU//5sr2BUkuz8s/t5BFUbAP1kuqJcf+sI/hl5x7SmuxT+zjjpDNGLIP9++A5k+Fss/DO/M7kjKzT+dD0uiKT/QP7OnL80umdE/yT8U+DPz0j/g1/giOU3UP/Zv3U0+p9U/DAjCeEMB1z8joKajSFvYPzk4i85Ntdk/x1aG2YO3Oz8nDVcRPRaWP3kApAnO3qU/Lz1OxT5ZsD8iesqFFsO1PxW3RkbuLLs/BHphA2NLwD99mJ/jTgDDP/e23cM6tcU/cNUbpCZqyD/q81mEEh/LP2MSmGT+080/bhhrInVE0D+rJ4oS657RP+g2qQJh+dI/JEbI8tZT1D9hVefiTK7VP55kBtPCCNc/23Mlwzhj2D8Xg0Szrr3ZP1NuUmOJwDs/6q8le20dlj8NC19o7OWlPxOflQmRXrA/n7j73ivKtT8r0mG0xjW7P9z148SwUMA/ogKXL34Gwz9oD0qaS7zFPy4c/QQZcsg/9Ciwb+Ynyz+6NWPas93NP0Ahi6LASdA/o6fkV6ek0T8GLj4Njv/SP2m0l8J0WtQ/zDrxd1u11T8vwUotQhDXP5JHpOIoa9g/9c39lw/G2T/ehR7tjsk7P61S9OSdJJY/oRUaxwrtpT/2AN1N42OwPxz3LDhB0bU/Qe18Ip8+uz+zcWaG/lXAP8ZsjnutDMM/2We2cFzDxT/rYt5lC3rIP/5dBlu6MMs/EVkuUGnnzT8SKqsiDE/QP5snP51jqtE/JCXTF7sF0z+uImeSEmHUPzcg+wxqvNU/wR2Ph8EX1z9KGyMCGXPYP9MYt3xwztk/ap3qdpTSOz9x9cJOziuWPzYg1SUp9KU/2mIkkjVpsD+YNV6RVti1P1cImJB3R7s/i+3oR0xbwD/q1oXH3BLDP0rAIkdtysU/qam/xv2ByD8Ik1xGjjnLP2h8+cUe8c0/5DLLoldU0D+Tp5niH7DRP0McaCLoC9M/85A2YrBn1D+iBQWieMPVP1J60+FAH9c/Au+hIQl72D+xY3Bh0dbZP/a0tgCa2zs/NJiRuP4ylj/KKpCER/ulP73Ea9aHbrA/FXSP6mvftT9tI7P+T1C7P2NpawmaYMA/D0F9EwwZwz+7GI8dftHFP2fwoCfwicg/E8iyMWJCyz+/n8Q71PrNP7U76yKjWdA/iyf0J9y10T9hE/0sFRLTPzf/BTJObtQ/DesON4fK1T/j1hc8wCbXP7nCIEH5gtg/j64pRjLf2T+CzIKKn+Q7P/c6YCIvOpY/XjVL42UCpj+gJrMa2nOwP5KywEOB5rU/gz7ObChZuz865e3K52XAPzOrdF87H8M/K3H7847YxT8kN4KI4pHIPx39CB02S8s/FcOPsYkEzj+HRAuj7l7QP4OnTm2Yu9E/gAqSN0IY0z98bdUB7HTUP3jQGMyV0dU/dTNclj8u1z9xlp9g6YrYP2354iqT59k/DeROFKXtOz+73S6MX0GWP/I/BkKECaY/hIj6Xix5sD8O8fGclu21P5lZ6doAYrs/EmFwjDVrwD9XFWyraiXDP5zJZ8qf38U/4n1j6dSZyD8nMl8IClTLP2zmWic/Ds4/WU0rIzpk0D97J6myVMHRP54BJ0JvHtM/wduk0Yl71D/jtSJhpNjVPwaQoPC+Ndc/KWoegNmS2D9LRJwP9O/ZP5n7Gp6q9js/foD99Y9Ilj+HSsGgohCmP2fqQaN+frA/iy8j9qv0tT+vdARJ2Wq7P+nc8k2DcMA/e39j95krwz8NItSgsObFP5/ERErHocg/MWe1891cyz/DCSad9BfOPytWS6OFadA/dKcD+BDH0T+9+LtMnCTTPwVKdKEngtQ/Tpss9rLf1T+X7ORKPj3XP+A9nZ/Jmtg/KY9V9FT42T8lE+cnsP87P0EjzF/AT5Y/G1V8/8AXpj9LTInn0IOwPwhuVE/B+7U/xY8ft7Fzuz/BWHUP0XXAP6DpWkPJMcM/fnpAd8HtxT9dCyaruanIPzucC9+xZcs/Gi3xEqohzj/8Xmsj0W7QP2wnXj3NzNE/2+9QV8kq0z9KuENxxYjUP7mANovB5tU/KUkppb1E1z+YERy/uaLYPwfaDtm1ANo/sCqzsbUIPD8FxprJ8FaWP69fN17fHqY/Lq7QKyOJsD+FrIWo1gK2P9uqOiWKfLs/mdT30B57wD/EU1KP+DfDP+/SrE3S9MU/GlIHDKyxyD9G0WHKhW7LP3FQvIhfK84/zmeLoxx00D9kp7iCidLRP/nm5WH2MNM/jyYTQWOP1D8lZkAg0O3VP7qlbf88TNc/UOWa3qmq2D/lJMi9FgnaPzxCfzu7ETw/yGhpMyFelj9EavK8/SWmPxIQGHB1jrA/Aeu2AewJtj/xxVWTYoW7P3BQepJsgMA/6L1J2yc+wz9gKxkk4/vFP9iY6Gyeucg/UAa4tVl3yz/Ic4f+FDXOP6BwqyNoedA/XCcTyEXY0T8Y3npsIzfTP9SU4hABltQ/kEtKtd701T9MArJZvFPXPwe5Gf6Zstg/w2+BoncR2j/IWUvFwBo8P4sLOJ1RZZY/2HStGxwtpj/1cV+0x5OwP34p6FoBEbY/B+FwATuOuz9IzPxTuoXAPw0oQSdXRMM/0YOF+vMCxj+W38nNkMHIP1o7DqEtgMs/H5dSdMo+zj9yecujs37QP1SnbQ0C3tE/NtUPd1A90z8YA7LgnpzUP/swVErt+9U/3V72sztb1z+/jJgdirrYP6G6OofYGdo/VHEXT8YjPD9PrgYHgmyWP2x/aHo6NKY/2NOm+BmZsD/7Zxm0Fhi2Px38i28Tl7s/IEh/FQiLwD8xkjhzhkrDP0Lc8dAECsY/UyarLoPJyD9kcGSMAYnLP3a6Hep/SM4/Q4LrI/+D0D9MJ8hSvuPRP1XMpIF9Q9M/XXGBsDyj1D9mFl7f+wLWP267Og67Ytc/d2AXPXrC2D9/BfRrOSLaP9+I49jLLDw/ElHVcLJzlj8AiiPZWDumP7w17jxsnrA/d6ZKDSwftj8zF6fd65+7P/fDAddVkMA/Vfwvv7VQwz+zNF6nFRHGPxFtjI910cg/b6W6d9WRyz/M3ehfNVLOPxWLC6RKidA/RKcimHrp0T9zwzmMqknTP6LfUIDaqdQ/0ftndAoK1j8AGH9oOmrXPy80llxqytg/XVCtUJoq2j9roK9i0TU8P9Xzo9riepY/lZTeN3dCpj+flzWBvqOwP/Tke2ZBJrY/STLCS8Souz/PP4SYo5XAP3lmJwvlVsM/JI3KfSYYxj/Os23wZ9nIP3naEGOpmss/IwG01epbzj/nkysklo7QPzwnfd0279E/kbrOltdP0z/nTSBQeLDUPzzhcQkZEdY/kXTDwrlx1z/mBxV8WtLYPzubZjX7Mto/97d77NY+PD+ZlnJEE4KWPymfmZaVSaY/g/l8xRCpsD9xI62/Vi22P19N3bmcsbs/p7sGWvGawD+e0B5XFF3DP5XlNlQ3H8Y/jPpOUVrhyD+DD2dOfaPLP3okf0ugZc4/uZxLpOGT0D80p9ci8/TRP7CxY6EEVtM/K7zvHxa31D+nxnueJxjWPyLRBx05edc/ntuTm0ra2D8Z5h8aXDvaP4PPR3bcRzw/XDlBrkOJlj+9qVT1s1CmP2ZbxAljrrA/7mHeGGw0tj91aPgndbq7P343iRs/oMA/wjoWo0Njwz8GPqMqSCbGP0pBMLJM6cg/jUS9OVGsyz/RR0rBVW/OP4qlayQtmdA/LCcyaK/60T/OqPirMVzTP3Aqv++zvdQ/EqyFMzYf1j+0LUx3uIDXP1avErs64tg/+DDZ/rxD2j8O5xMA4lA8Px/cDxh0kJY/UbQPVNJXpj9JvQtOtbOwP2qgD3KBO7Y/i4MTlk3Duz9WswvdjKXAP+akDe9yacM/d5YPAVktxj8HiBETP/HIP5d5EyUltcs/KGsVNwt5zj9croukeJ7QPySnjK1rANI/7Z+Ntl5i0z+1mI6/UcTUP32Rj8hEJtY/RYqQ0TeI1z8Ng5HaKurYP9Z7kuMdTNo/mv7fiedZPD/jft6BpJeWP+a+yrLwXqY/LR9Tkge5sD/n3kDLlkK2P6GeLgQmzLs/Li+OntqqwD8LDwU7om/DP+jue9dpNMY/xc7yczH5yD+irmkQ+b3LP3+O4KzAgs4/LrerJMSj0D8cJ+fyJwbSPwuXIsGLaNM/+QZej+/K1D/odpldUy3WP9bm1Cu3j9c/xVYQ+hry2D+0xkvIflTaPyYWrBPtYjw/piGt69Selj96yYURD2amPxCBmtZZvrA/ZB1yJKxJtj+3uUly/tS7PwWrEGAosMA/L3n8htF1wz9ZR+itejvGP4IV1NQjAck/rOO/+8zGyz/WsasidozOPwDAy6QPqdA/FKdBOOQL0j8pjrfLuG7TPz51LV+N0dQ/U1yj8mE01j9oQxmGNpfXP30qjxkL+tg/khEFrd9c2j+xLXid8ms8P2nEe1UFppY/DtRAcC1tpj/04uEarMOwP+Bbo33BULY/zdRk4Nbduz/dJpMhdrXAP1Pj89IAfMM/yZ9UhItCxj9AXLU1FgnJP7YYFuegz8s/LNV2mCuWzj/RyOskW67QPw0nnH2gEdI/SIVM1uV00z+D4/wuK9jUP75BrYdwO9Y/+Z9d4LWe1z80/g05+wHZP3BcvpFAZdo/PUVEJ/h0PD8tZ0q/Na2WP6Le+85LdKY/10QpX/7IsD9dmtTW1le2P+Pvf06v5rs/tKIV48O6wD93TeseMILDPzr4wFqcScY//aKWlggRyT/ATWzSdNjLP4P4QQ7hn84/o9ELpaaz0D8Fp/bCXBfSP2Z84eASe9M/yFHM/sje1D8pJ7ccf0LWP4v8oTo1ptc/7NGMWOsJ2T9Op3d2oW3aP8lcELH9fTw/8AkZKWa0lj836bYtanumP7umcKNQzrA/2tgFMOxetj/5Cpu8h++7P4wemKQRwMA/nLfial+Iwz+rUC0xrVDGP7vpd/f6GMk/y4LCvUjhyz/aGw2ElqnOP3XaKyXyuNA//SZRCBkd0j+Fc3brP4HTPwzAm85m5dQ/lAzBsY1J1j8cWeaUtK3XP6SlC3jbEdk/LPIwWwJ22j9VdNw6A4c8P7Os55KWu5Y/y/NxjIiCpj+eCLjnotOwP1YXN4kBZrY/Dya2KmD4uz9kmhpmX8XAP8Ah2raOjsM/HKmZB75Xxj95MFlY7SDJP9W3GKkc6ss/MT/Y+Uuzzj9H40ulPb7QP/Wmq03VItI/o2oL9myH0z9RLmueBOzUP//xykacUNY/rbUq7zO11z9beYqXyxnZPwo96j9jfto/4IuoxAiQPD93T7b8xsKWP1/+LOumiaY/gWr/K/XYsD/TVWjiFm22PyVB0Zg4Abw/OxadJ63KwD/ki9ECvpTDP40BBt7OXsY/Nnc6ud8oyT/f7G6U8PLLP4hio28Bvc4/GOxrJYnD0D/tJgaTkSjSP8FhoACajdM/lpw6bqLy1D9q19TbqlfWPz8Sb0mzvNc/E00Jt7sh2T/oh6MkxIbaP2yjdE4OmTw/OvKEZvfJlj/zCOhJxZCmP2XMRnBH3rA/UJSZOyx0tj87XOwGEQq8PxOSH+n6z8A/CfbITu2awz/+WXK032XGP/S9GxrSMMk/6SHFf8T7yz/fhW7ltsbOP+r0i6XUyNA/5aZg2E0u0j/gWDULx5PTP9sKCj5A+dQ/1bzecLle1j/QbrOjMsTXP8sgiNarKdk/xtJcCSWP2j/4ukDYE6I8P/2UU9An0ZY/iBOjqOOXpj9ILo60meOwP83SypRBe7Y/UXcHdekSvD/rDaKqSNXAPy1gwJococM/b7LeivBsxj+xBP16xDjJP/RWG2uYBMw/Nqk5W2zQzj+8/aslIM7QP90mux0KNNI//k/KFfSZ0z8fedkN3v/UP0Ci6AXIZdY/Ycv3/bHL1z+D9Ab2mzHZP6QdFu6Fl9o/hNIMYhmrPD/BNyI6WNiWPxweXgcCn6Y/LJDV+OvosD9JEfztVoK2P2eSIuPBG7w/wokkbJbawD9RyrfmS6fDP+AKS2EBdMY/b0ve27ZAyT/+i3FWbA3MP43MBNEh2s4/jgbMpWvT0D/VphVjxjnSPx1HXyAhoNM/ZOeo3XsG1T+rh/Ka1mzWP/MnPFgx09c/OsiFFYw52T+CaM/S5p/aPw/q2OsetDw/hNrwo4jflj+wKBlmIKamPw/yHD0+7rA/xk8tR2yJtj99rT1RmiS8P5oFpy3k38A/dTSvMnutwz9RY7c3EnvGPyySvzypSMk/CMHHQUAWzD/j789G1+POP18P7CW32NA/zSZwqII/0j87PvQqTqbTP6lVeK0ZDdU/Fm38L+Vz1j+EhICysNrXP/KbBDV8Qdk/YLOIt0eo2j+bAaV1JL08P0h9vw255pY/RDPUxD6tpj/yU2SBkPOwP0OOXqCBkLY/k8hYv3ItvD9ygSnvMeXAP5qepn6qs8M/wrsjDiOCxj/q2KCdm1DJPxL2HS0UH8w/OhObvIztzj8xGAymAt7QP8Wmyu0+RdI/WTWJNXus0z/tw0d9txPVP4JSBsXzetY/FuHEDDDi1z+qb4NUbEnZPz7+QZyosNo/Jxlx/ynGPD8LII536e2WP9k9jyNdtKY/1rWrxeL4sD+/zI/5lpe2P6njcy1LNrw/Sf2rsH/qwD++CJ7K2bnDPzMUkOQzicY/qB+C/o1YyT8cK3QY6CfMP5E2ZjJC984/AyEsJk7j0D+9JiUz+0rSP3gsHkCostM/MjIXTVUa1T/tNxBaAoLWP6c9CWev6dc/YUMCdFxR2T8cSfuACbnaP7IwPYkvzzw/zsJc4Rn1lj9tSEqCe7umP7kX8wk1/rA/PAvBUqyetj+//o6bIz+8PyF5LnLN78A/4nKVFgnAwz+kbPy6RJDGP2VmY1+AYMk/J2DKA7wwzD/oWTGo9wDPP9UpTKaZ6NA/taZ/eLdQ0j+WI7NK1bjTP3eg5hzzINU/WB0a7xCJ1j84mk3BLvHXPxkXgZNMWdk/+pO0ZWrB2j8+SAkTNdg8P5JlK0tK/JY/AVMF4ZnCpj+deTpOhwOxP7lJ8qvBpbY/1RmqCfxHvD/59LAzG/XAPwfdjGI4xsM/FcVokVWXxj8jrUTAcmjJPzGVIO+POcw/P338Ha0Kzz+nMmwm5e3QP64m2r1zVtI/tRpIVQK/0z+8DrbskCfVP8MCJIQfkNY/yvaRG6741z/R6v+yPGHZP9jebUrLydo/yl/VnDrhPD9VCPq0egOXP5VdwD+4yaY/gNuBktkIsT82iCMF16y2P+s0xXfUULw/0HAz9Wj6wD8rR4SuZ8zDP4Yd1WdmnsY/4PMlIWVwyT87ynbaY0LMP5agx5NiFM8/eDuMpjDz0D+mpjQDMFzSP9MR3V8vxdM/AH2FvC4u1T8u6C0ZLpfWP1tT1nUtANg/iL5+0ixp2T+2KScvLNLaP1Z3oSZA6jw/GKvIHqsKlz8qaHue1tCmP2Q9ydYrDrE/ssZUXuyztj8BUODlrFm8P6jstba2/8A/T7F7+pbSwz/3dUE+d6XGP546B4JXeMk/Rf/MxTdLzD/tw5IJGB7PP0pErCZ8+NA/niaPSOxh0j/xCHJqXMvTP0XrVIzMNNU/mc03rjye1j/srxrQrAfYP0CS/fEccdk/lHTgE43a2j/hjm2wRfM8P9xNl4jbEZc/vnI2/fTXpj9HnxAbfhOxPy8FhrcBu7Y/F2v7U4VivD9/aDh4BAXBP3Qbc0bG2MM/aM6tFIisxj9cgejiSYDJP1A0I7ELVMw/ROddf80nzz8cTcymx/3QP5am6Y2oZ9I/EAAHdYnR0z+KWSRcajvVPwSzQUNLpdY/fgxfKiwP2D/4ZXwRDXnZP3K/mfjt4to/baY5Okv8PD+f8GXyCxmXP1J98VsT36Y/KgFYX9AYsT+sQ7cQF8K2Py2GFsJda7w/V+S6OVIKwT+YhWqS9d7DP9gmGuuYs8Y/GcjJQzyIyT9aaXmc31zMP5oKKfWCMc8/7lXsJhMD0T+OJkTTZG3SPy73m3+219M/z8fzKwhC1T9vmEvYWazWPw9po4SrFtg/rzn7MP2A2T9QClPdTuvaP/m9BcRQBT0/YpM0XDwglz/mh6y6MeamPw5jn6MiHrE/KILoaSzJtj9DoTEwNnS8Py9gPfufD8E/vO9h3iTlwz9Jf4bBqbrGP9cOq6QukMk/ZJ7Ph7NlzD/xLfRqODvPP79eDKdeCNE/hqaeGCFz0j9N7jCK493TPxM2w/ulSNU/2n1VbWiz1j+hxefeKh7YP2cNelDtiNk/LlUMwq/z2j+F1dFNVg49PyY2A8ZsJ5c/e5JnGVDtpj/xxObndCOxP6XAGcNB0LY/WbxMng59vD8G3L+87RTBP+BZWSpU68M/utfyl7rBxj+UVYwFIZjJP27TJXOHbsw/SFG/4O1Ezz+RZywnqg3RP34m+V3deNI/a+XFlBDk0z9YpJLLQ0/VP0VjXwJ3utY/MiIsOaol2D8f4fhv3ZDZPwygxaYQ/No/EO2d11sXPT/p2NEvnS6XPw+dInhu9KY/1SYuLMcosT8i/0ocV9e2P2/XZwznhbw/3ldCfjsawT8FxFB2g/HDPyswX27LyMY/UpxtZhOgyT94CHxeW3fMP590ilajTs8/Y3BMp/US0T92plOjmX7SP4ncWp896tM/nRJim+FV1T+wSGmXhcHWP8N+cJMpLdg/17R3j82Y2T/q6n6LcQTbP5wEamFhID0/rHugmc01lz+jp93WjPumP7iIdXAZLrE/nj18dWzetj+F8oJ6v468P7bTxD+JH8E/KS5IwrL3wz+ciMtE3M/GPw/jTscFqMk/gz3SSS+AzD/2l1XMWFjPPzV5bCdBGNE/biau6FWE0j+o0++pavDTP+GAMWt/XNU/Gy5zLJTI1j9V27TtqDTYP46I9q69oNk/yDU4cNIM2z8oHDbrZik9P3AebwP+PJc/N7KYNasCpz+b6ry0azOxPxt8rc6B5bY/mw2e6JeXvD+NT0cB1yTBP02YPw7i/cM/DeE3G+3Wxj/NKTAo+K/JP41yKDUDicw/TbsgQg5izz8GgoynjB3RP2amCC4SitI/xsqEtJf20z8m7wA7HWPVP4YTfcGiz9Y/5jf5Ryg82D9GXHXOrajZP6aA8VQzFds/szMCdWwyPT8zwT1tLkSXP8y8U5TJCac/f0wE+b04sT+Yut4nl+y2P7EouVZwoLw/ZcvJwiQqwT9yAjdaEQTEP345pPH93cY/i3ARieq3yT+Xp34g15HMP6Te67fDa88/2IqsJ9gi0T9eJmNzzo/SP+XBGb/E/NM/a13QCrtp1T/x+IZWsdbWP3eUPaKnQ9g//i/07Z2w2T+Ey6o5lB3bPz9Lzv5xOz0/9mMM115Llz9gxw7z5xCnP2KuSz0QPrE/FfkPgazztj/HQ9TESKm8Pz1HTIRyL8E/lmwupkAKxD/vkRDIDuXGP0i38uncv8k/odzUC6uazD/6AbcteXXPP6qTzKcjKNE/Vqa9uIqV0j8Dua7J8QLUP7DLn9pYcNU/XN6Q67/d1j8J8YH8JkvYP7UDcw2OuNk/YhZkHvUl2z/LYpqId0Q9P7oG20CPUpc/9NHJUQYYpz9GEJOBYkOxP5E3QdrB+rY/3V7vMiGyvD8Uw85FwDTBP7rWJfJvEMQ/YOp8nh/sxj8G/tNKz8fJP6wRK/d+o8w/USWCoy5/zz98nOwnby3RP04mGP5Gm9I/IbBD1B4J1D/0OW+q9nbVP8fDmoDO5NY/mk3GVqZS2D9t1/EsfsDZP0BhHQNWLts/V3pmEn1NPT99qamqv1mXP4jchLAkH6c/KXLaxbRIsT8OdnIz1wG3P/N5CqH5urw/7D5RBw46wT/eQB0+nxbEP9FC6XQw88Y/w0S1q8HPyT+2RoHiUqzMP6hITRnkiM8/TaUMqLoy0T9HpnJDA6HSP0Cn2N5LD9Q/Oag+epR91T8yqaQV3evWPyuqCrElWtg/JatwTG7I2T8erNbntjbbP+KRMpyCVj0/QEx4FPBglz8d5z8PQyanPw3UIQoHTrE/i7SjjOwItz8JlSUP0sO8P8S608hbP8E/A6sUis4cxD9Cm1VLQfrGP4GLlgy018k/wHvXzSa1zD//axiPmZLPPx+uLCgGONE/PybNiL+m0j9enm3peBXUP34WDkoyhNU/nY6uquvy1j+9Bk8LpWHYP9x+72te0Nk//PaPzBc/2z9uqf4liF89PwTvRn4gaJc/sfH6bWEtpz/wNWlOWVOxPwfz1OUBELc/H7BAfarMvD+bNlaKqUTBPycVDNb9IsQ/s/PBIVIBxz8+0ndtpt/JP8qwLbn6vcw/Vo/jBE+czz/xtkyoUT3RPzemJ857rNI/fZUC9KUb1D/ChN0Z0IrVPwh0uD/6+dY/TmOTZSRp2D+UUm6LTtjZP9pBSbF4R9s/+sDKr41oPT/HkRXoUG+XP0X8tcx/NKc/05ewkqtYsT+EMQY/Fxe3PzXLW+uC1bw/c7LYS/dJwT9LfwMiLSnEPyRMLvhiCMc//BhZzpjnyT/U5YOkzsbMP62yrnoEps8/w79sKJ1C0T8vJoITOLLSP5uMl/7SIdQ/B/Os6W2R1T9zWcLUCAHXP+C/17+jcNg/TCbtqj7g2T+4jAKW2U/bP4bYljmTcT0/ijTkUYF2lz/ZBnErnjunP7f599b9XbE/AXA3mCwetz9L5nZZW968P0suWw1FT8E/cOn6bVwvxD+VpJrOcw/HP7pfOi+L78k/3xraj6LPzD8E1nnwua/PP5TIjKjoR9E/J6bcWPS30j+5gywJACjUP0xhfLkLmNU/3j7MaRcI1z9xHBwaI3jYPwT6a8ou6Nk/lte7ejpY2z8R8GLDmHo9P07XsruxfZc/bhEsirxCpz+aWz8bUGOxP36uaPFBJbc/YQGSxzPnvD8iqt3OklTBP5RT8rmLNcQ/Bv0GpYQWxz93phuQfffJP+lPMHt22Mw/W/lEZm+5zz9m0awoNE3RPx8mN56wvdI/2HrBEy0u1D+Rz0uJqZ7VP0ok1v4lD9c/AnlgdKJ/2D+7zerpHvDZP3QidV+bYNs/nQcvTZ6DPT8ReoEl4oSXPwIc5+jaSac/fr2GX6JosT/67JlKVyy3P3ccrTUM8Lw/+iVgkOBZwT+4vekFuzvEP3ZVc3uVHcc/Ne388G//yT/zhIZmSuHMP7EcENwkw88/ONrMqH9S0T8XppHjbMPSP/ZxVh5aNNQ/1T0bWUel1T+1CeCTNBbXP5TVpM4hh9g/c6FpCQ/42T9SbS5E/GjbPykf+9ajjD0/1BxQjxKMlz+WJqJH+VCnP2EfzqP0bbE/dyvLo2wztz+NN8ij5Pi8P9Gh4lEuX8E/3CfhUepBxD/nrd9RpiTHP/Iz3lFiB8o//bncUR7qzD8IQNtR2szPPwrj7CjLV9E/DybsKCnJ0j8VaesohzrUPxqs6ijlq9U/IO/pKEMd1z8lMukooY7YPyt16Cj//9k/MLjnKF1x2z+0NsdgqZU9P5i/HvlCk5c/KjFdphdYpz9EgRXoRnOxP/Rp/PyBOrc/o1LjEb0BvT+pHWUTfGTBPwGS2J0ZSMQ/WAZMKLcrxz+wer+yVA/KPwjvMj3y8sw/X2Omx4/Wzz/b6wypFl3RPwemRm7lztI/M2CAM7RA1D9fGrr4grLVP4vU871RJNc/to4tgyCW2D/iSGdI7wfaPw4DoQ2+eds/QE6T6q6ePT9bYu1ic5qXP787GAU2X6c/KONcLJl4sT9wqC1Wl0G3P7lt/n+VCr0/gZnn1MlpwT8l/M/pSE7EP8leuP7HMsc/bsGgE0cXyj8SJIkoxvvMP7aGcT1F4M8/rfQsKWJi0T//JaGzodTSP1FXFT7hRtQ/pIiJyCC51T/2uf1SYCvXP0jrcd2fndg/mhzmZ98P2j/sTVryHoLbP8xlX3S0pz0/HgW8zKOhlz9TRtNjVGanPwtFpHDrfbE/7eZer6xItz/PiBnubRO9P1gVapYXb8E/SWbHNXhUxD86tyTV2DnHPysIgnQ5H8o/HFnfE5oEzT8Nqjyz+unPP3/9TKmtZ9E/96X7+F3a0j9wTqpIDk3UP+j2WJi+v9U/YZ8H6G4y1z/ZR7Y3H6XYP1LwZIfPF9o/ypgT13+K2z9YfSv+ubA9P+KnijbUqJc/51COwnJtpz/vpuu0PYOxP2olkAjCT7c/5aM0XEYcvT8wkexXZXTBP27QvoGnWsQ/qw+Rq+lAxz/pTmPVKyfKPyaONf9tDc0/ZM0HKbDzzz9RBm0p+WzRP+8lVj4a4NI/jkU/UztT1D8tZShoXMbVP8yEEX19Odc/a6T6kZ6s2D8JxOOmvx/aP6jjzLvgkts/45T3h7+5PT+lSlmgBLCXP3tbSSGRdKc/0ggz+Y+IsT/nY8Fh11a3P/u+T8oeJb0/CA1vGbN5wT+SOrbN1mDEPxxo/YH6R8c/ppVENh4vyj8ww4vqQRbNP7vw0p5l/c8/Ig+NqURy0T/opbCD1uXSP6081F1oWdQ/ctP3N/rM1T83ahsSjEDXP/wAP+wdtNg/wZdixq8n2j+GLoagQZvbP2+swxHFwj0/ae0nCjW3lz8QZgSAr3unP7Zqej3ijbE/Y6Lyuuxdtz8R2mo49y29P9+I8doAf8E/tqStGQZnxD+NwGlYC0/HP2TcJZcQN8o/O/jh1RUfzT8JCk+KjQPQP/QXrSmQd9E/4CULyZLr0j/LM2lolV/UP7ZBxweY09U/ok8lp5pH1z+NXYNGnbvYP3lr4eWfL9o/ZHk/haKj2z/7w4+byss9PyyQ9nNlvpc/pHC/3s2Cpz+ZzMGBNJOxP+DgIxQCZbc/J/WFps82vT+3BHScToTBP9oOpWU1bcQ//hjWLhxWxz8hIwf4Aj/KP0UtOMHpJ80/tJs0RWgI0D/GIM2p23zRP9ilZQ5P8dI/6Sr+csJl1D/7r5bXNdrVPw01LzypTtc/H7rHoBzD2D8wP2AFkDfaP0LE+GkDrNs/h9tbJdDUPT/vMsXdlcWXPzh7ej3siac/fC4JxoaYsT9dH1VtF2y3Pz0QoRSoP70/j4D2XZyJwT//eJyxZHPEP29xQgUtXcc/32noWPVGyj9PYo6svTDNP2AtGgBDDdA/mCntKSeC0T/QJcBTC/fSPwgik33va9Q/QB5mp9Pg1T94GjnRt1XXP7AWDPubytg/6BLfJIA/2j8gD7JOZLTbPxLzJ6/V3T0/s9WTR8bMlz/MhTWcCpGnP2CQUArZnbE/2V2Gxixztz9TK7yCgEi9P2b8eB/qjsE/I+OT/ZN5xD/gya7bPWTHP52wybnnTso/WZfkl5E5zT8Lv/+6HRLQP2kyDapyh9E/yKUamcf80j8mGSiIHHLUP4WMNXdx59U/4/9CZsZc1z9Bc1BVG9LYP6DmXURwR9o//llrM8W82z+eCvQ42+Y9P3Z4YrH205c/YZDw+iiYpz9D8pdOK6OxP1actx9Cerc/aUbX8FhRvT8+ePvgN5TBP0dNi0nDf8Q/USIbsk5rxz9a96oa2lbKP2TMOoNlQs0/t1DldfgW0D87Oy0qvozRP8Aldd6DAtM/RRC9kkl41D/J+gRHD+7VP07lTPvUY9c/08+Ur5rZ2D9YutxjYE/aP9ykJBgmxds/KiLAwuDvPT85GzEbJ9uXP/Waq1lHn6c/J1Tfkn2osT/T2uh4V4G3P39h8l4xWr0/FvR9ooWZwT9st4KV8oXEP8J6h4hfcsc/GD6Me8xeyj9uAZFuOUvNP2LiyjDTG9A/DURNqgmS0T+4pc8jQAjTP2MHUp12ftQ/DmnUFq301T+5ylaQ42rXP2Qs2Qka4dg/D45bg1BX2j+67938hs3bP7U5jEzm+D0//b3/hFfilz+JpWa4ZaanPwq2JtfPrbE/Txka0myItz+VfA3NCWO9P+1vAGTTnsE/kCF64SGMxD8z0/NecHnHP9WEbdy+Zso/eDbnWQ1UzT8NdLDrrSDQP99MbSpVl9E/sCUqafwN0z+B/uano4TUP1PXo+ZK+9U/JLBgJfJx1z/2iB1kmejYP8dh2qJAX9o/mDqX4efV2z9BUVjW6wE+P8Bgzu6H6Zc/HbAhF4Stpz/tF24bIrOxP8xXSyuCj7c/q5coO+JrvT/F64IlIaTBP7SLcS1RksQ/pCtgNYGAxz+Ty049sW7KP4JrPUXhXM0/uQWWpogl0D+wVY2qoJzRP6ilhK64E9M/oPV7stCK1D+YRXO26AHWP4+VaroAedc/h+Vhvhjw2D9/NVnCMGfaP3aFUMZI3ts/zWgkYPEKPj+DA51YuPCXP7K63HWitKc/0Xm1X3S4sT9JlnyEl5a3P8GyQ6m6dL0/nGcF526pwT/Y9Wh5gJjEPxSEzAuSh8c/UBIwnqN2yj+MoJMwtWXNP2SXe2FjKtA/gl6tKuyh0T+gJd/zdBnTP77sEL39kNQ/3LNChoYI1j/6enRPD4DXPxhCphiY99g/NgnY4SBv2j9U0AmrqebbP1mA8On2Ez4/R6Zrwuj3lz9GxZfUwLunP7Tb/KPGvbE/xtSt3aydtz/XzV4Xk329P3Tjh6i8rsE//V9gxa+exD+F3Djioo7HPw5ZEf+Vfso/l9XpG4luzT8QKWEcPi/QP1Rnzao3p9E/mKU5OTEf0z/d46XHKpfUPyEiElYkD9Y/ZWB+5B2H1z+qnupyF//YP+7cVgERd9o/MhvDjwrv2z/kl7xz/Bw+PwpJOiwZ/5c/2s9SM9/Cpz+YPUToGMOxP0IT3zbCpLc/7eh5hWuGvT9MXwpqCrTBPyHKVxHfpMQ/9jSluLOVxz/Mn/JfiIbKP6EKQAddd80/u7pG1xg00D8mcO0qg6zRP5AllH7tJNM/+9o60led1D9mkOElwhXWP9BFiHksjtc/O/suzZYG2T+msNUgAX/aPxBmfHRr99s/cK+I/QEmPj/N6wiWSQaYP27aDZL9yac/e5+LLGvIsT+/URCQ16u3PwMElfNDj70/I9uMK1i5wT9FNE9dDqvEP2eNEY/EnMc/iebTwHqOyj+rP5byMIDNP2dMLJLzONA/+HgNq86x0T+Ipe7DqSrTPxnSz9yEo9Q/qv6w9V8c1j87K5IOO5XXP8xXcycWDtk/XYRUQPGG2j/usDVZzP/bP/zGVIcHLz4/kY7X/3kNmD8D5cjwG9GnP18B03C9zbE/PJBB6eyytz8ZH7BhHJi9P/tWD+2lvsE/ap5GqT2xxD/Y5X1l1aPHP0cttSFtlso/tXTs3QSJzT8S3hFNzj3QP8mBLSsat9E/gSVJCWYw0z84yWTnsanUP+9sgMX9ItY/phCco0mc1z9etLeBlRXZPxVY01/hjto/zPvuPS0I3D+I3iARDTg+P1QxpmmqFJg/l++DTzrYpz9CYxq1D9OxP7jOckICurc/LzrLz/SgvT/T0pGu88PBP44IPvVst8Q/ST7qO+aqxz8EdJaCX57KP8CpQsnYkc0/vW/3B6lC0D+bik2rZbzRP3mlo04iNtM/VsD58d6v1D8020+VmynWPxL2pThYo9c/7xD82xQd2T/NK1J/0ZbaP6pGqCKOENw/E/bsmhJBPj8X1HTT2huYPyv6Pq5Y36c/JcVh+WHYsT81DaSbF8G3P0VV5j3Nqb0/qk4UcEHJwT+ycjVBnL3EP7qWVhL3scc/wrp341Gmyj/K3pi0rJrNP2kB3cKDR9A/bZNtK7HB0T9xJf6T3jvTP3W3jvwLttQ/eUkfZTkw1j9926/NZqrXP4FtQDaUJNk/hP/QnsGe2j+IkWEH7xjcP58NuSQYSj4/23ZDPQsjmD+/BPoMd+anPwknqT203bE/skvV9CzItz9bcAGspbK9P4LKljGPzsE/1twsjcvDxD8r78LoB7nHP4ABWURErso/1BPvn4CjzT8Uk8J9XkzQPz+cjav8xtE/aaVY2ZpB0z+TriMHObzUP7237jTXNtY/6MC5YnWx1z8SyoSQEyzZPzzTT76xpto/Ztwa7E8h3D8rJYWuHVM+P54ZEqc7Kpg/VA+1a5Xtpz/siPCBBuOxPy+KBk5Cz7c/cYscGn67vT9aRhnz3NPBP/tGJNn6ycQ/nEcvvxjAxz89SDqlNrbKP95IRYtUrM0/wCSoODlR0D8Qpa0rSMzRP2Elsx5XR9M/saW4EWbC1D8CJr4EdT3WP1Omw/eDuNc/oybJ6pIz2T/0ps7doa7aP0Qn1NCwKdw/tjxROCNcPj9hvOAQbDGYP+gZcMqz9Kc/0Oo3xljosT+ryDenV9a3P4emN4hWxL0/McKbtCrZwT8fsRslKtDEPw2gm5Upx8c/+44bBim+yj/pfZt2KLXNP2u2jfMTVtA/4q3Nq5PR0T9ZpQ1kE03TP9CcTRyTyNQ/R5SN1BJE1j++i82Mkr/XPzWDDUUSO9k/rHpN/ZG22j8ico21ETLcP0JUHcIoZT4/JV+vepw4mD98JCsp0vunP7NMfwqr7bE/KAdpAG3dtz+dwVL2Ls29Pwk+HnZ43sE/QxsTcVnWxD9++AdsOs7HP7jV/GYbxso/87LxYfy9zT8XSHOu7lrQP7S27Svf1tE/USVoqc9S0z/uk+ImwM7UP4wCXaSwStY/KXHXIaHG1z/G31GfkULZP2NOzByCvto/AL1GmnI63D/Oa+lLLm4+P+gBfuTMP5g/EC/mh/ACqD+WrsZO/fKxP6VFmlmC5Lc/s9xtZAfWvT/huaA3xuPBP2iFCr2I3MQ/71B0QkvVxz92HN7HDc7KP/3nR03Qxs0/wtlYaclf0D+Gvw2sKtzRP0mlwu6LWNM/DYt3Me3U1D/QcCx0TlHWP5RW4bavzdc/VzyW+RBK2T8bIks8csbaP94HAH/TQtw/WoO11TN3Pj+rpExO/UaYP6U5oeYOCqg/ehAOk0/4sT8hhMuyl+u3P8n3iNLf3r0/uDUj+RPpwT+M7wEJuOLEP2Cp4Bhc3Mc/M2O/KADWyj8HHZ44pM/NP21rPiSkZNA/V8gtLHbh0T9BJR00SF7TPyuCDDwa29Q/Fd/7Q+xX1j//O+tLvtTXP+mY2lOQUdk/0/XJW2LO2j+8UrljNEvcP+WagV85gD4/b0cbuC1OmD85RFxFLRGoP11yVdeh/bE/nsL8C63ytz/fEqRAuOe9P5Cxpbph7sE/sFn5VOfoxD/RAU3vbOPHP/GpoIny3co/EVL0I3jYzT8Z/SPffmnQPynRTazB5tE/OaV3eQRk0z9JeaFGR+HUP1pNyxOKXtY/aiH14Mzb1z969R6uD1nZP4rJSHtS1to/mp1ySJVT3D9xsk3pPok+PzLq6SFeVZg/zU4XpEsYqD9B1Jwb9AKyPxsBLmXC+bc/9S2/rpDwvT9nLSh8r/PBP9XD8KAW78Q/Qlq5xX3qxz+v8IHq5OXKPxyHSg9M4c0/xI4Jmllu0D/72W0sDezRPzEl0r7AadM/aHA2UXTn1D+eu5rjJ2XWP9UG/3Xb4tc/C1JjCI9g2T9CnceaQt7aP3noKy32W9w//ckZc0SSPj/1jLiLjlyYP2FZ0gJqH6g/JDbkX0YIsj+XP1++1wC4PwtJ2hxp+b0/P6mqPf34wT/5LejsRfXEP7KyJZyO8cc/bDdjS9ftyj8mvKD6H+rNP3Ag71Q0c9A/zeKNrFjx0T8ppSwEfW/TP4Zny1uh7dQ/4ylqs8Vr1j9A7AgL6unXP52up2IOaNk/+nBGujLm2j9XM+URV2TcP4nh5fxJmz4/uS+H9b5jmD/2Y41hiCaoPwiYK6SYDbI/FH6QF+0HuD8hZPWKQQK+PxclLf9K/sE/HZjfOHX7xD8jC5Jyn/jHPyp+RKzJ9co/MPH25fPyzT8bstQPD3jQP57rrSyk9tE/IiWHSTl10z+lXmBmzvPUPyiYOYNjctY/q9ESoPjw1z8uC+y8jW/ZP7FExdki7to/NX6e9rds3D8U+bGGT6Q+P3zSVV/vapg/im5IwKYtqD/r+XLo6hKyP5G8wXACD7g/N38Q+RkLvj/uoK/AmAPCP0EC14SkAcU/lGP+SLD/xz/nxCUNvP3KPzomTdHH+80/x0O6yul80D9w9M2s7/vRPxql4Y71etM/w1X1cPv51D9tBglTAXnWPxa3HDUH+Nc/wGcwFw132T9pGET5EvbaPxPJV9sYddw/oBB+EFWtPj8/dSTJH3KYPx55Ax/FNKg/zlu6LD0Ysj8O+/LJFxa4P02aK2fyE74/xhwyguYIwj9mbM7Q0wfFPwW8ah/BBsg/pQsHbq4Fyz9FW6O8mwTOP3LVn4XEgdA/Qv3tLDsB0j8SJTzUsYDTP+JMinsoANU/sXTYIp9/1j+BnCbKFf/XP1HEdHGMftk/IezCGAP+2j/xExHAeX3cPywoSppatj4/AxjzMlB5mD+yg7594zuoP7K9AXGPHbI/ijkkIy0duD9jtUbVyhy+P56YtEM0DsI/itbFHAMOxT92FNf10Q3IP2JS6M6gDcs/T5D5p28Nzj8eZ4VAn4bQPxQGDq2GBtI/CqWWGW6G0z8ARB+GVQbVP/bip/I8htY/7IEwXyQG2D/iILnLC4bZP9i/QTjzBds/z17KpNqF3D+3PxYkYL8+P8a6wZyAgJg/R4553AFDqD+VH0m14SKyPwd4VXxCJLg/edBhQ6Mlvj91FDcFghPCP65AvWgyFMU/52xDzOIUyD8gmckvkxXLP1nFT5NDFs4/yfhq+3mL0D/lDi4t0gvSPwIl8V4qjNM/Hju0kIIM1T87UXfC2ozWP1dnOvQyDdg/dH39JYuN2T+Qk8BX4w3bP62pg4k7jtw/Q1firWXIPj+KXZAGsYeYP9uYNDsgSqg/eYGQ+TMosj+EtobVVyu4P4/rfLF7Lr4/TZC5xs8Ywj/TqrS0YRrFP1jFr6LzG8g/3t+qkIUdyz9j+qV+Fx/OP3SKULZUkNA/txdOrR0R0j/6pEuk5pHTPz0ySZuvEtU/f79GkniT1j/CTESJQRTYPwXaQYAKldk/SGc/d9MV2z+L9DxunJbcP89urjdr0T4/TQBfcOGOmD9vo++ZPlGoP1zj1z2GLbI/APW3Lm0yuD+lBpgfVDe+PyUMPIgdHsI/9xSsAJEgxT/JHRx5BCPIP5smjPF3Jcs/bS/8aesnzj8gHDZxL5XQP4kgbi1pFtI/8iSm6aKX0z9bKd6l3BjVP8QtFmIWmtY/LTJOHlAb2D+WNobaiZzZPwA7vpbDHds/aT/2Uv2e3D9bhnrBcNo+PxCjLdoRlpg/A66q+FxYqD8/RR+C2DKyP30z6YeCObg/uyGzjSxAvj/8h75JayPCPxt/o0zAJsU/OnaITxUqyD9ZbW1Sai3LP3hkUlW/MM4/y60bLAqa0D9bKY6ttBvSP+qkAC9fndM/eiBzsAkf1T8JnOUxtKDWP5gXWLNeItg/KJPKNAmk2T+3Dj22syXbP0eKrzdep9w/5p1GS3bjPj/URfxDQp2YP5i4ZVd7X6g/I6dmxio4sj/6cRrhl0C4P9E8zvsESb4/1ANBC7kowj8/6ZqY7yzFP6vO9CUmMcg/FrROs1w1yz+CmahAkznOP3c/AefkntA/LDKuLQAh0j/iJFt0G6PTP5gXCLs2JdU/Tgq1AVKn1j8D/WFIbSnYP7nvDo+Iq9k/b+K71aMt2z8l1Wgcv6/cP3K1EtV77D4/l+jKrXKkmD8swyC2mWaoPwYJrgp9PbI/d7BLOq1HuD/nV+lp3VG+P6x/w8wGLsI/ZFOS5B4zxT8cJ2H8NjjIP9T6LxRPPcs/jM7+K2dCzj8i0eahv6PQP/46zq1LJtI/2qS1udeo0z+2Dp3FYyvVP5J4hNHvrdY/buJr3Xsw2D9LTFPpB7PZPye2OvWTNds/AyAiASC43D/+zN5egfU+P1qLmRejq5g/wM3bFLhtqD/qavVOz0KyP/PufJPCTrg//XIE2LVavj+D+0WOVDPCP4i9iTBOOcU/jX/N0kc/yD+SQRF1QUXLP5YDVRc7S84/zmLMXJqo0D/QQ+4tlyvSP9IkEP+TrtM/1QUy0JAx1T/X5lOhjbTWP9rHdXKKN9g/3KiXQ4e62T/eibkUhD3bP+Fq2+WAwNw/iuSq6Ib+Pj8eLmiB07KYP1XYlnPWdKg/zcw8kyFIsj9wLa7s11W4PxOOH0aOY74/W3fIT6I4wj+sJ4F8fT/FP/7XOalYRsg/T4jy1TNNyz+hOKsCD1TOP3n0sRd1rdA/okwOruIw0j/KpGpEULTTP/P8xtq9N9U/HFUjcSu71j9FrX8HmT7YP20F3J0Gwtk/ll04NHRF2z+/tZTK4cjcPxX8dnKMBz8/4dA26wO6mD/p4lHS9HuoP7EuhNdzTbI/7WvfRe1cuD8pqTq0Zmy+PzLzShHwPcI/0ZF4yKxFxT9vMKZ/aU3IPw3P0zYmVcs/q20B7uJczj8khpfST7LQP3NVLi4uNtI/wyTFiQy60z8S9Fvl6j3VP2HD8kDJwdY/sJKJnKdF2D//YSD4hcnZP04xt1NkTds/nQBOr0LR3D+hE0P8kRA/P6RzBVU0wZg/fe0MMRODqD+UkMsbxlKyP2mqEJ8CZLg/P8RVIj91vj8Kb83SPUPCP/X7bxTcS8U/4IgSVnpUyD/KFbWXGF3LP7WiV9m2Zc4/0Bd9jSq30D9FXk6ueTvSP7ukH8/Iv9M/MOvw7xdE1T+lMcIQZ8jWPxt4kzG2TNg/kL5kUgXR2T8FBTZzVFXbP3tLB5Sj2dw/LSsPhpcZPz9oFtS+ZMiYPxH4x48xiqg/d/ISYBhYsj/m6EH4F2u4P1XfcJAXfr4/4upPlItIwj8ZZmdgC1LFP1HhfiyLW8g/iFyW+Aplyz+/163Eim7OP3upYkgFvNA/F2duLsVA0j+zJHoUhcXTP07ihfpEStU/6p+R4ATP1j+GXZ3GxFPYPyEbqayE2Nk/vdi0kkRd2z9ZlsB4BOLcP7hC2w+dIj8/K7miKJXPmD+mAoPuT5GoP1tUWqRqXbI/YydzUS1yuD9r+ov+74a+P7lm0lXZTcI/PdBerDpYxT/BOesCnGLIP0Wjd1n9bMs/yQwEsF53zj8nO0gD4MDQP+lvjq4QRtI/q6TUWUHL0z9t2RoFclDVPy8OYbCi1dY/8UKnW9Na2D+zd+0GBODZP3WsM7I0Zds/N+F5XWXq3D9EWqeZois/P+5bcZLF1pg/Og0+TW6YqD8+tqHovGKyP+BlpKpCebg/gRWnbMiPvj+R4lQXJ1PCP2I6VvhpXsU/MpJX2axpyD8D6li673TLP9RBWpsygM4/0swtvrrF0D+6eK4uXEvSP6MkL5/90NM/i9CvD59W1T9zfDCAQNzWP1wosfDhYdg/RNQxYYPn2T8sgLLRJG3bPxUsM0LG8tw/0HFzI6g0Pz+y/j/89d2YP84X+auMn6g/IhjpLA9osj9cpNUDWIC4P5cwwtqgmL4/aV7X2HRYwj+GpE1EmWTFP6Pqw6+9cMg/wTA6G+J8yz/edrCGBonOP35eE3mVytA/jIHOrqdQ0j+bpInkudbTP6rHRBrMXNU/uOr/T97i1j/HDbuF8GjYP9YwdrsC79k/5FMx8RR12z/zduwmJ/vcP1yJP62tPT8/daEOZiblmD9iIrQKq6aoPwV6MHFhbbI/2eIGXW2HuD+tS91IeaG+P0DaWZrCXcI/qg5FkMhqxT8UQzCGznfIP353G3zUhMs/6KsGctqRzj8p8PgzcM/QP16K7i7zVdI/kyTkKXbc0z/Ivtkk+WLVP/1Yzx986dY/MvPEGv9v2D9njboVgvbZP5wnsBAFfds/0cGlC4gD3T/noAs3s0Y/PzhE3c9W7Jg/9yxvacmtqD/o23e1s3KyP1YhOLaCjrg/w2b4tlGqvj8YVtxbEGPCP894PNz3cMU/hZucXN9+yD88vvzcxozLP/LgXF2ums4/1IHe7krU0D8wkw6vPlvSP4ukPm8y4tM/5rVuLyZp1T9Cx57vGfDWP53Yzq8Nd9g/+On+bwH+2T9U+y4w9YTbP68MX/DoC90/c7jXwLhPPz/85qs5h/OYP4s3KsjntKg/zD2/+QV4sj/SX2kPmJW4P9mBEyUqs74/8NFeHV5owj/z4jMoJ3fFP/bzCDPwhcg/+QTePbmUyz/9FbNIgqPOP4ATxKkl2dA/ApwuL4pg0j+DJJm07ufTPwWtAzpTb9U/hjVuv7f21j8IvthEHH7YP4pGQ8qABdo/C8+tT+WM2z+NVxjVSRTdP//Po0q+WD8/v4l6o7f6mD8fQuUmBryoP6+fBj5YfbI/T56aaK2cuD/vnC6TAry+P8dN4d6rbcI/F00rdFZ9xT9nTHUJAY3IP7dLv56rnMs/B0sJNFaszj8rpalkAN7QP9OkTq/VZdI/e6Tz+art0z8jpJhEgHXVP8ujPY9V/dY/c6Pi2SqF2D8bo4ckAA3aP8OiLG/VlNs/a6LRuaoc3T+L52/Uw2E/P4IsSQ3oAZk/s0yghSTDqD+TAU6CqoKyP8zcy8HCo7g/BbhJAdvEvj+fyWOg+XLCPzu3IsCFg8U/2KTh3xGUyD91kqD/naTLPxGAXx8qtc4/1zaPH9vi0D+lrW4vIWvSP3MkTj9n89M/QpstT6171T8QEg1f8wPXP96I7G45jNg/rP/Lfn8U2j97dquOxZzbP0ntip4LJd0/Fv87XslqPz9Gzxd3GAmZP0hXW+RCyqg/dmOVxvyHsj9IG/0a2Kq4PxvTZG+zzb4/d0XmYUd4wj9gIRoMtYnFP0n9TbYim8g/MtmBYJCsyz8btbUK/r3OP4LIdNq159A/d7aOr2xw0j9rpKiEI/nTP2CSwlnagdU/VYDcLpEK1z9JbvYDSJPYPz5cENn+G9o/MkoqrrWk2z8nOESDbC3dP6IWCOjOcz8/CXLm4EgQmT/cYRZDYdGoP1rF3ApPjbI/xVkudO2xuD8x7n/di9a+P07BaCOVfcI/hIsRWOSPxT+6VbqMM6LIP/AfY8GCtMs/JeoL9tHGzj8uWlqVkOzQP0m/ri+4ddI/YyQDyt/+0z9+iVdkB4jVP5nuq/4uEdc/tFMAmVaa2D/PuFQzfiPaP+odqc2lrNs/BYP9Z8013T8uLtRx1Hw/P8wUtUp5F5k/cGzRoX/YqD89JyRPoZKyP0KYX80Cubg/RwmbS2Tfvj8mPevk4oLCP6j1CKQTlsU/K64mY0SpyD+tZkQidbzLPzAfYuGlz84/2es/UGvx0D8ayM6vA3vSP1ykXQ+cBNQ/nYDsbjSO1T/eXHvOzBfXPx85Ci5lodg/YBWZjf0q2j+i8SftlbTbP+PNtkwuPt0/uUWg+9mFPz+Qt4O0qR6ZPwR3jACe36g/IIlrk/OXsj+/1pAmGMC4P10ktrk86L4//rhtpjCIwj/NXwDwQpzFP5wGkzlVsMg/a60lg2fEyz86VLjMedjOP4V9JQtG9tA/7NDuL0+A0j9UJLhUWArUP7t3gXlhlNU/I8tKnmoe1z+KHhTDc6jYP/Jx3ed8Mto/WcWmDIa82z/BGHAxj0bdP0VdbIXfjj8/U1pSHtolmT+ZgUdfvOaoPwTrstdFnbI/OxXCfy3HuD9zP9EnFfG+P9U08Gd+jcI/8cn3O3KixT8NX/8PZrfIPyj0BuRZzMs/RIkOuE3hzj8wDwvGIPvQP77ZDrCahdI/TKQSmhQQ1D/abhaEjprVP2c5Gm4IJdc/9QMeWIKv2D+DziFC/DnaPxGZJSx2xNs/n2MpFvBO3T/RdDgP5Zc/Pxb9IIgKLZk/LYwCvtrtqD/nTPobmKKyP7hT89hCzrg/iVrsle35vj+tsHIpzJLCPxU074ehqMU/frdr5na+yD/mOuhETNTLP06+ZKMh6s4/26DwgPv/0D+Q4i4w5orSP0Qkbd/QFdQ/+GWrjrug1T+sp+k9pivXP2DpJ+2Qttg/FStmnHtB2j/JbKRLZszbP32u4vpQV90/XYwEmeqgPz/an+/xOjSZP8GWvRz59Kg/y65BYOqnsj81kiQyWNW4P591BwTGAr8/hCz16hmYwj85nubT0K7FP+8P2LyHxcg/pIHJpT7cyz9Z87qO9fLOP4cy1jvWBNE/YetOsDGQ0j88pMckjRvUPxZdQJnoptU/8RW5DUQy1z/LzjGCn73YP6aHqvb6SNo/gEAja1bU2z9b+ZvfsV/dP+ij0CLwqT8/nUK+W2s7mT9VoXh7F/yoP64QiaQ8rbI/sdBVi23cuD+1kCJyngu/P1yod6xnncI/XgjeHwC1xT9faESTmMzIP2HIqgYx5Ms/YygResn7zj8yxLv2sAnRPzP0bjB9ldI/NCQiakkh1D81VNWjFa3VPzaEiN3hONc/NrQ7F67E2D835O5QelDaPzgUoopG3Ns/OURVxBJo3T90u5ys9bI/P2DljMWbQpk/6qsz2jUDqT+RctDojrKyPy4Ph+SC47g/y6s94HYUvz80JPpttaLCP4Jy1Wsvu8U/0MCwaanTyD8fD4xnI+zLP21dZ2WdBM8/3lWhsYsO0T8F/Y6wyJrSPyykfK8FJ9Q/U0tqrkKz1T968letfz/XP6KZRay8y9g/yUAzq/lX2j/w5yCqNuTbPxePDqlzcN0/ANNoNvu7Pz8kiFsvzEmZP3627jhUCqk/ddQXLeG3sj+rTbg9mOq4P+HGWE5PHb8/C6B8LwOowj+m3My3XsHFP0EZHUC62sg/3FVtyBX0yz93kr1QcQ3PP4nnhmxmE9E/1wWvMBSg0j8kJNf0wSzUP3JC/7hvudU/v2AnfR1G1z8Nf09By9LYP1qddwV5X9o/qLufySbs2z/12ceN1HjdP4vqNMAAxT8/5yoqmfxQmT8SwamXchGpP1g2X3EzvbI/KIzplq3xuD/34XO8Jya/P+Mb//BQrcI/y0bEA47HxT+ycYkWy+HIP5qcTikI/Ms/gccTPEUWzz81eWwnQRjRP6gOz7BfpdI/HKQxOn4y1D+QOZTDnL/VPwTP9ky7TNc/eGRZ1tnZ2D/r+btf+GbaP1+PHukW9Ns/0ySBcjWB3T8XAgFKBs4/P6vN+AItWJk/pstk9pAYqT88mKa1hcKyP6TKGvDC+Lg/Df2OKgAvvz+7l4GynrLCP++wu0+9zcU/I8r17NvoyD9X4y+K+gPMP4z8aScZH88/4ApS4hsd0T96F+8wq6rSPxQkjH86ONQ/rjApzsnF1T9JPcYcWVPXP+NJY2vo4Ng/fVYAundu2j8XY50IB/zbP7FvOleWid0/oxnN0wvXPz9ucMdsXV+ZPzvWH1WvH6k/H/rt+dfHsj8hCUxJ2P+4PyMYqpjYN78/khMEdOy3wj8TG7Ob7NPFP5QiYsPs78g/FSoR6+wLzD+WMcAS7SfPP4ucN532IdE/TCAPsfav0j8MpObE9j3UP80nvtj2y9U/jauV7PZZ1z9OL20A9+fYPw6zRBT3ddo/zzYcKPcD3D+PuvM795HdPy8xmV0R4D8/MROW1o1mmT/P4NqzzSapPwNcNT4qzbI/nkd9ou0GuT85M8UGsUC/P2qPhjU6vcI/N4Wq5xvaxT8Fe86Z/fbIP9Nw8kvfE8w/oGYW/sAwzz83Lh1Y0SbRPx4pLzFCtdI/BCRBCrND1D/rHlPjI9LVP9IZZbyUYNc/uRR3lQXv2D+gD4ludn3aP4YKm0fnC9w/bQWtIFia3T+6SGXnFuk/P/W1ZEC+bZk/Y+uVEuwtqT/mvXyCfNKyPxqGrvsCDrk/T07gdIlJvz9CCwn3h8LCP1zvoTNL4MU/dtM6cA7+yD+Qt9Os0RvMP6qbbOmUOc8/4r8CE6wr0T/vMU+xjbrSP/2jm09vSdQ/Chbo7VDY1T8XiDSMMmfXPyT6gCoU9tg/MWzNyPWE2j8+3hln1xPcP0tQZgW5ot0/RmAxcRzyPz+4WDOq7nSZP/f1UHEKNak/yR/Exs7Xsj+XxN9UGBW5P2Vp++JhUr8/GYeLuNXHwj+AWZl/eubFP+crp0YfBck/Tv60DcQjzD+10MLUaELPP45R6M2GMNE/wTpvMdm/0j/1I/aUK0/UPygNffh93tU/W/YDXNBt1z+P34q/Iv3YP8LIESN1jNo/9rGYhscb3D8pmx/qGavdP9J3/foh+z8/e/sBFB98mT+MAAzQKDypP62BCwsh3bI/FAMRri0cuT97hBZROlu/P/ECDnojzcI/pMOQy6nsxT9YhBMdMAzJPwtFlm62K8w/vwUZwDxLzz85482IYTXRP5NDj7EkxdI/7aNQ2udU1D9GBBIDq+TVP6Bk0ytudNc/+sSUVDEE2T9UJVZ99JPaP62FF6a3I9w/B+bYznqz3T+vx2TCEwJAPz+e0H1Pg5k/IAvHLkdDqT+Q41JPc+KyP5BBQgdDI7k/kZ8xvxJkvz/JfpA7cdLCP8ktiBfZ8sU/ydx/80ATyT/Ji3fPqDPMP8k6b6sQVM8/5XSzQzw60T9lTK8xcMrSP+Ujqx+kWtQ/ZfumDdjq1T/l0qL7C3vXP2Wqnuk/C9k/5YGa13Ob2j9lWZbFpyvcP+UwkrPbu90/ddNKh5YGQD8CQZ/nf4qZP7QVgo1lSqk/dEWak8Xnsj8NgHNgWCq5P6e6TC3rbL8/oPoS/b7Xwj/tl39jCPnFPzo17MlRGsk/h9JYMJs7zD/Tb8WW5FzPP5AGmf4WP9E/NlXPsbvP0j/dowVlYGDUP4PyOxgF8dU/KkFyy6mB1z/Qj6h+ThLZP3be3jHzoto/HS0V5Zcz3D/De0uYPMTdPzvfMEwZC0A/xeNtUbCRmT9IID3sg1GpP1en4dcX7bI/ir6kuW0xuT+91Webw3W/P3h2lb4M3cI/EQJ3rzf/xT+rjVigYiHJP0QZOpGNQ8w/3qQbgrhlzz87mH658UPRPwhe7zEH1dI/1SNgqhxm1D+i6dAiMvfVP26vQZtHiNc/O3WyE10Z2T8IOyOMcqraP9QAlASIO9w/ocYEfZ3M3T8A6xYRnA9AP4mGPLvgmJk/3Sr4SqJYqT86CSkcavKyPwf91RKDOLk/0/CCCZx+vz9P8heAWuLCPzZsbvtmBcY/HObEdnMoyT8CYBvyf0vMP+jZcW2Mbs8/5ylkdMxI0T/aZg+yUtrSP82juu/Ya9Q/wOBlLV/91T+zHRFr5Y7XP6ZavKhrINk/mZdn5vGx2j+M1BIkeEPcP38RvmH+1N0/xvb81R4UQD9MKQslEaCZP3E1s6nAX6k/HmtwYLz3sj+DOwdsmD+5P+kLnnd0h78/J26aQajnwj9a1mVHlgvGP40+MU2EL8k/v6b8UnJTzD/yDshYYHfPP5K7SS+nTdE/rG8vMp7f0j/FIxU1lXHUP97X+jeMA9Y/+IvgOoOV1z8RQMY9eifZPyv0q0Bxudo/RKiRQ2hL3D9dXHdGX93dP4wC45qhGEA/D8zZjkGnmT8FQG4I32apPwHNt6QO/bI/AHo4xa1GuT//JrnlTJC/P//pHAP27MI/fkBdk8URxj/9lp0jlTbJP33t3bNkW8w//EMeRDSAzz8+TS/qgVLRP314T7Lp5NI/vaNvelF31D/9zo9CuQnWPz36rwohnNc/fCXQ0ogu2T+8UPCa8MDaP/x7EGNYU9w/O6cwK8Dl3T9SDslfJB1AP9NuqPhxrpk/mUopZ/1tqT/lLv/oYAKzP324aR7DTbk/FULUUyWZvz/WZZ/EQ/LCP6KqVN/0F8Y/bu8J+qU9yT86NL8UV2PMPwZ5dC8Iic8/6d4UpVxX0T9PgW8yNerSP7Ujyr8NfdQ/G8YkTeYP1j+BaH/avqLXP+cK2meXNdk/Ta009W/I2j+zT4+CSFvcPxny6Q8h7t0/GBqvJKchQD+WEXdiorWZPy5V5MUbdak/yJBGLbMHsz/59pp32FS5Pytd78H9ob8/ruEhhpH3wj/HFEwrJB7GP99HdtC2RMk/+HqgdUlrzD8Rrsoa3JHPP5Vw+l83XNE/IYqPsoDv0j+toyQFyoLUPzq9uVcTFtY/xtZOqlyp1z9S8OP8pTzZP98JeU/vz9o/ayMOojhj3D/3PKP0gfbdP94llekpJkA/WbRFzNK8mT/CX58kOnypP6zyjXEFDbM/djXM0O1buT9BeAow1qq/P4ZdpEff/MI/635Dd1Mkxj9QoOKmx0vJP7bBgdY7c8w/G+MgBrCazz9AAuAaEmHRP/OSrzLM9NI/pSN/SoaI1D9YtE5iQBzWPwtFHnr6r9c/vdXtkbRD2T9wZr2pbtfaPyP3jMEoa9w/1Ydc2eL+3T+kMXuurCpAPx1XFDYDxJk/Vmpag1iDqT+PVNW1VxKzP/Nz/SkDY7k/V5Mlnq6zvz9d2SYJLQLDPw/pOsOCKsY/wfhOfdhSyT9zCGM3LnvMPyUYd/GDo88/7JPF1exl0T/Em8+yF/rSP52j2Y9CjtQ/dqvjbG0i1j9Ps+1JmLbXPyi79ybDStk/AcMBBO7e2j/aygvhGHPcP7PSFb5DB94/aT1hcy8vQD/g+eKfM8uZP+p0FeJ2iqk/crYc+qkXsz9wsi6DGGq5P22uQAyHvL8/NVWpynoHwz80UzIPsjDGPzJRu1PpWck/MU9EmCCDzD8vTc3cV6zPP5clq5DHatE/lqTvMmP/0j+WIzTV/pPUP5WieHeaKNY/lCG9GTa91z+ToAG80VHZP5MfRl5t5to/kp6KAAl73D+RHc+ipA/ePy9JRziyM0A/o5yxCWTSmT9/f9BAlZGpP1YYZD78HLM/7PBf3C1xuT+DyVt6X8W/Pw3RK4zIDMM/WL0pW+E2xj+jqScq+mDJP+6VJfkSi8w/OoIjyCu1zz9Ct5BLom/RP2itD7OuBNM/jqOOGruZ1D+zmQ2Cxy7WP9mPjOnTw9c//oULUeBY2T8kfIq47O3aP0pyCSD5gtw/b2iIhwUY3j/1VC39NDhAP2c/gHOU2Zk/E4qLn7OYqT85equCTiKzP2kvkTVDeLk/meR26DfOvz/kTK5NFhLDP3wnIacQPcY/FAKUAAtoyT+s3AZaBZPMP0S3ebP/vc8/7kh2Bn100T86ti8z+gnTP4Yj6V93n9Q/0pCijPQ01j8e/lu5ccrXP2prFebuX9k/tdjOEmz12j8BRog/6YrcP02zQWxmIN4/u2ATwrc8QD8q4k7dxOCZP6eURv7Rn6k/HdzyxqAnsz/mbcKOWH+5P6//kVYQ178/vMgwD2QXwz+gkRjzP0PGP4VaANcbb8k/aSPouveazD9O7M+e08bPP5naW8FXedE/DL9Ps0UP0z9+o0OlM6XUP/CHN5chO9Y/YmwriQ/R1z/VUB97/WbZP0c1E23r/No/uRkHX9mS3D8r/vpQxyjeP4Fs+YY6QUA/7YQdR/XnmT87nwFd8KapPwA+OgvzLLM/Yqzz522GuT/FGq3E6N+/P5REs9CxHMM/xfsPP29Jxj/2smytLHbJPydqyRvqosw/WCEmiqfPzz9FbEF8Mn7RP93HbzORFNM/diOe6u+q1D8Of8yhTkHWP6fa+lit19c/QDYpEAxu2T/YkVfHagTbP3HthX7Jmtw/CUm0NSgx3j9HeN9LvUVAP7En7LAl75k/0Km8uw6uqT/jn4FPRTKzP9/qJEGDjbk/2zXIMsHovz9rwDWS/yHDP+llB4ueT8Y/ZwvZgz19yT/lsKp83KrMP2JWfHV72M8/8P0mNw2D0T+v0I+z3BnTP26j+C+ssNQ/LXZhrHtH1j/sSMooS97XP6sbM6Uaddk/au6bIeoL2z8owQSeuaLcP+eTbRqJOd4/DYTFEEBKQD90yroaVvaZP2S0dxottak/xwHJk5c3sz9cKVaamJS5P/FQ46CZ8b8/Qzy4U00nwz8N0P7WzVXGP9hjRVpOhMk/oveL3c6yzD9ti9JgT+HPP5yPDPLnh9E/gdmvMygf0z9mI1N1aLbUP0tt9raoTdY/MLeZ+Ojk1z8WAT06KXzZP/tK4HtpE9s/4JSDvamq3D/F3ib/6UHeP9KPq9XCTkA/N22JhIb9mT/4vjJ5S7ypP6pjENjpPLM/2GeH862buT8HbP4Ocvq/Pxq4OhWbLMM/Mjr2Iv1bxj9JvLEwX4vJP2A+bT7Busw/d8AoTCPqzz9HIfKswozRP1Piz7NzJNM/XqOtuiS81D9qZIvB1VPWP3UlaciG69c/geZGzzeD2T+MpyTW6BrbP5hoAt2Zstw/oyng40pK3j+Ym5GaRVNAP/sPWO62BJo/jMnt12nDqT+OxVccPEKzP1WmuEzDork/jsOMPqUBwD/yM73W6DHDP1ak7W4sYsY/uhQeB3CSyT8dhU6fs8LMP4H1fjf38s8/8rLXZ52R0T8k6+8zvynTP1YjCADhwdQ/iFsgzAJa1j+6kziYJPLXP+zLUGRGitk/HgRpMGgi2z9QPIH8ibrcP4F0mcirUt4/Xqd3X8hXQD++siZY5wuaPyHUqDaIyqk/cSefYI5Hsz/S5Oml2Km5PxlRmnURBsA/yq8/mDY3wz96DuW6W2jGPyttit2Amck/28svAKbKzD+LKtUiy/vPP55EvSJ4ltE/9vMPtAov0z9Oo2JFncfUP6ZStdYvYNY//wEIaML41z9XsVr5VJHZP69grYrnKds/BxAAHHrC3D9fv1KtDFvePySzXSRLXEA/gVX1wRcTmj+13mOVptGpP1WJ5qTgTLM/TyMb/+2wuT+k3qesfQrAP6ErwlmEPMM/nnjcBotuxj+bxfazkaDJP5kSEWGY0sw/y68Vh08C0D9J1qLdUpvRP8j8LzRWNNM/RiO9ilnN1D/FSUrhXGbWP0Nw1zdg/9c/wpZkjmOY2T9AvfHkZjHbP7/jfjtqytw/PQoMkm1j3j/qvkPpzWBAP0X4wytIGpo/Seke9MTYqT846y3pMlKzP8thTFgDuLk/L2y14+kOwD95p0Qb0kHDP8Pi01K6dMY/DB5jiqKnyT9WWfLBitrMP1DKwHy5BtA/9WeImC2g0T+aBVC0oTnTPz6jF9AV09Q/40Df64ls1j+I3qYH/gXYPy18biNyn9k/0hk2P+Y42z93t/1aWtLcPxtVxXbOa94/sMoprlBlQD8Im5KVeCGaP93z2VLj36k/G011LYVXsz9IoH2xGL+5P7r5whpWE8A/USPH3B9Hwz/nTMue6XrGP312z2Czrsk/FKDTIn3izD/V5GtyIwvQP6D5bVMIpdE/aw5wNO0+0z83I3IV0tjUPwI4dPa2ctY/zUx215sM2D+YYXi4gKbZP2N2epllQNs/Lot8ekra3D/6n35bL3TeP3bWD3PTaUA/yz1h/6gomj9y/pSxAeepP/+uvHHXXLM/xd6uCi7GuT9Fh9BRwhfAPyifSZ5tTMM/C7fC6hiBxj/uzjs3xLXJP9HmtINv6sw/Wv8WaI0P0D9Mi1MO46nRPz0XkLQ4RNM/L6PMWo7e1D8gLwkB5HjWPxK7Rac5E9g/A0eCTY+t2T/10r7z5EfbP+Ze+5k64tw/2Oo3QJB83j884vU3Vm5AP4/gL2nZL5o/BglQECDuqT/iEAS2KWKzP0Ed4GNDzbk/0BTeiC4cwD8AG8xfu1HDPzAhujZIh8Y/XyeoDdW8yT+PLZbkYfLMP98Zwl33E9A/9xw5yb2u0T8PILA0hEnTPycjJ6BK5NQ/PiaeCxF/1j9WKRV31xnYP24sjOKdtNk/hi8DTmRP2z+eMnq5KurcP7Y18STxhN4/Ae7b/NhyQD9Sg/7SCTeaP5oTC28+9ak/xnJL+ntnsz++WxG9WNS5P1ui67+aIMA/2JZOIQlXwz9Ui7GCd43GP9B/FOTlw8k/THR3RVT6zD9kNG1TYRjQP6KuHoSYs9E/4SjQtM9O0z8fo4HlBurUP10dMxY+hdY/m5fkRnUg2D/ZEZZ3rLvZPxeMR6jjVts/VQb52Bry3D+UgKoJUo3eP8f5wcFbd0A/FibNPDo+mj8uHsbNXPypP6nUkj7ObLM/O5pCFm7buT/mL/n2BiXAP68S0eJWXMM/ePWozqaTxj9B2IC69srJPwq7WKZGAs0/6U4YScsc0D9OQAQ/c7jRP7Ix8DQbVNM/FyPcKsPv1D97FMgga4vWP+AFtBYTJ9g/RPefDLvC2T+p6IsCY17bPw3ad/gK+tw/cstj7rKV3j+NBaiG3ntAP9nIm6ZqRZo/wyiBLHsDqj+MNtqCIHKzP7jYc2+D4rk/cb0GLnMpwD+HjlOkpGHDP5xfoBrWmcY/sjDtkAfSyT/IAToHOQrNP29pwz41IdA/+dHp+U290T+EOhC1ZlnTPw+jNnB/9dQ/mgtdK5iR1j8kdIPmsC3YP6/cqaHJydk/OkXQXOJl2z/FrfYX+wHdP1AWHdMTnt4/UxGOS2GAQD+ca2oQm0yaP1czPIuZCqo/cJghx3J3sz80F6XImOm5P/xKFGXfLcA/XwrWZfJmwz/ByZdmBaDGPyOJWWcY2ck/hUgbaCsSzT/0g240nyXQP6Vjz7QowtE/VkMwNbJe0z8HI5G1O/vUP7gC8jXFl9Y/aeJStk402D8awrM22NDZP8uhFLdhbds/fIF1N+sJ3T8uYda3dKbePxkddBDkhEA/YA45estTmj/rPffptxGqP1P6aAvFfLM/sVXWIa7wuT+H2CGcSzLAPzaGWCdAbMM/5TOPsjSmxj+U4cU9KeDJP0OP/MgdGs0/eZ4ZKgkq0D9Q9bRvA8fRPyhMULX9Y9M//6Lr+vcA1T/W+YZA8p3WP65QIobsOtg/hae9y+bX2T9d/lgR4XTbPzRV9FbbEd0/DKyPnNWu3j/fKFrVZolAPyOxB+T7Wpo/f0iySNYYqj83XLBPF4KzPy6UB3vD97k/EmYv07c2wD8OAtvojXHDPwmehv5jrMY/BToyFDrnyT8A1t0pECLNP/64xB9zLtA//IaaKt7L0T/5VHA1SWnTP/ciRkC0BtU/9fAbSx+k1j/zvvFVikHYP/CMx2D13tk/7lqda2B82z/sKHN2yxndP+r2SIE2t94/pTRAmumNQD/mU9ZNLGKaPxRTbaf0H6o/Gr73k2mHsz+q0jjU2P65P53zPAokO8A/5X1dqtt2wz8uCH5Kk7LGP3aSnupK7sk/vhy/igIqzT+D028V3TLQP6cYgOW40NE/y12QtZRu0z/voqCFcAzVPxPosFVMqtY/Ny3BJShI2D9bctH1A+bZP4C34cXfg9s/pPzxlbsh3T/IQQJml7/eP2pAJl9skkA/qvakt1xpmj+oXSgGEyeqP/4fP9i7jLM/JxFqLe4Fuj8ogUpBkD/AP73532spfMM/UnJ1lsK4xj/n6grBW/XJP3tjoOv0Mc0/CO4aC0c30D9TqmWgk9XRP51msDXgc9M/5yL7yiwS1T8y30VgebDWP3ybkPXFTtg/xlfbihLt2T8RFCYgX4vbP1vQcLWrKd0/poy7SvjH3j8wTAwk75ZAP22ZcyGNcJo/PGjjZDEuqj/hgYYcDpKzP6RPm4YDDbo/sw5YePxDwD+VdWItd4HDP3bcbOLxvsY/WEN3l2z8yT85qoFM5znNP40IxgCxO9A//jtLW27a0T9vb9C1K3nTP9+iVRDpF9U/UNbaaqa21j/BCWDFY1XYPzI95R8h9Nk/onBqet6S2z8TpO/UmzHdP4TXdC9Z0N4/9lfy6HGbQD8wPEKLvXeaP9BynsNPNao/xOPNYGCXsz8hjszfGBS6Pz6cZa9oSMA/bPHk7sSGwz+aRmQuIcXGP8mb4219A8o/9/BirdlBzT8SI3H2GkDQP6nNMBZJ39E/QHjwNXd+0z/XIrBVpR3VP2/Nb3XTvNY/BngvlQFc2D+dIu+0L/vZPzTNrtRdmts/y3du9Is53T9iIi4UutjeP7xj2K30n0A/9N4Q9e1+mj9lfVkibjyqP6hFFaWynLM/ncz9OC4buj/JKXPm1EzAP0RtZ7ASjMM/v7BbelDLxj859E9EjgrKP7Q3RA7MSc0/lz0c7IRE0D9VXxbRI+TRPxKBELbCg9M/0KIKm2Ej1T+NxASAAMPWP0rm/mSfYtg/CAj5ST4C2j/FKfMu3aHbP4JL7RN8Qd0/QG3n+Brh3j+Cb75yd6RAP7eB314ehpo/+YcUgYxDqj+Lp1zpBKKzPxoLL5JDIro/VLeAHUFRwD8c6elxYJHDP+MaU8Z/0cY/qky8Gp8Ryj9yfiVvvlHNPx1Yx+HuSNA/APH7i/7o0T/kiTA2DonTP8giZeAdKdU/q7uZii3J1j+PVM40PWnYP3PtAt9MCdo/VoY3iVyp2z86H2wzbEndPx64oN176d4/SHukN/qoQD96JK7ITo2aP42Sz9+qSqo/bwmkLVensz+XSWDrWCm6P99EjlStVcA/82RsM66Wwz8HhUoSr9fGPxulKPGvGMo/L8UG0LBZzT+icnLXWE3QP6yC4UbZ7dE/tpJQtlmO0z/Aor8l2i7VP8qyLpVaz9Y/1MKdBNtv2D/e0gx0WxDaP+jie+PbsNs/8vLqUlxR3T/8AlrC3PHePw6Hivx8rUA/Psd8Mn+Umj8hnYo+yVGqP1Jr63GprLM/E4iRRG4wuj9q0puLGVrAP8vg7vT7m8M/LO9BXt7dxj+M/ZTHwB/KP+0L6DCjYc0/J40dzcJR0D9XFMcBtPLRP4ebcDalk9M/uCIaa5Y01T/oqcOfh9XWPxgxbdR4dtg/SbgWCWoX2j95P8A9W7jbP6nGaXJMWd0/2k0Tpz363j/TknDB/7FAPwFqS5yvm5o/tqdFnedYqj81zTK2+7GzP5DGwp2DN7o/9V+pwoVewD+jXHG2SaHDP1BZOaoN5MY//VUBntEmyj+rUsmRlWnNP6ynyMIsVtA/A6asvI730T9ZpJC28JjTP7CidLBSOtU/B6FYqrTb1j9dnzykFn3YP7SdIJ54Hto/CpwEmNq/2z9hmuiRPGHdP7iYzIueAt8/mZ5WhoK2QD/EDBoG4KKaP0qyAPwFYKo/GS96+k23sz8NBfT2mD66P4DttvnxYsA/etjzd5emwz90wzD2POrGP26ubXTiLco/aJmq8odxzT8xwnO4llrQP643kndp/NE/K62wNjye0z+oIs/1DkDVPyWY7bTh4dY/og0MdLSD2D8fgyozhyXaP5z4SPJZx9s/GW5nsSxp3T+W44Vw/wrfP1+qPEsFu0A/iK/obxCqmj/evLtaJGeqP/yQwT6gvLM/iUMlUK5Fuj8Le8QwXmfAP1JUdjnlq8M/mS0oQmzwxj/fBtpK8zTKPybgi1N6ec0/ttwergBf0D9ZyXcyRAHSP/210LaHo9M/oKIpO8tF1T9Dj4K/DujWP+d720NSitg/img0yJUs2j8tVY1M2c7bP9FB5tAccd0/dC4/VWAT3z8ltiIQiL9AP0tSt9lAsZo/csd2uUJuqj/g8giD8sGzPwaCVqnDTLo/lgjSZ8prwD8q0Pj6MrHDP72XH46b9sY/UF9GIQQ8yj/jJm20bIHNPzv3yaNqY9A/BVtd7R4G0j/OvvA206jTP5gihICHS9U/YoYXyjvu1j8r6qoT8JDYP/VNPl2kM9o/v7HRpljW2z+IFWXwDHndP1J5+DnBG98/68EI1QrEQD8O9YVDcbiaPwfSMRhhdao/w1RQx0THsz+DwIcC2VO6PyGW3542cMA/AUx7vIC2wz/hARfayvzGP8G3svcUQ8o/oW1OFV+JzT/AEXWZ1GfQP7DsQqj5CtI/oMcQtx6u0z+Qot7FQ1HVP4B9rNRo9NY/cFh6442X2D9gM0jysjraP1AOFgHY3ds/QOnjD/2A3T8wxLEeIiTfP7HN7pmNyEA/0pdUraG/mj+b3Ox2f3yqP6e2lwuXzLM/AP+4W+5auj+sI+3VonTAP9nH/X3Ou8M/BWwOJvoCxz8yEB/OJUrKP160L3ZRkc0/RSwgjz5s0D9cfihj1A/SP3LQMDdqs9M/iCI5CwBX1T+fdEHflfrWP7XGSbMrntg/yxhSh8FB2j/halpbV+XbP/i8Yi/tiN0/Dg9rA4Ms3z932dReEM1AP5U6IxfSxpo/L+en1Z2Dqj+KGN9P6dGzP3w96rQDYro/N7H6DA95wD+wQ4A/HMHDPyrWBXIpCcc/o2iLpDZRyj8c+xDXQ5nNP8tGy4SocNA/BxAOHq8U0j9E2VC3tbjTP4Cik1C8XNU/vWvW6cIA1z/6NBmDyaTYPzb+WxzQSNo/c8eetdbs2z+vkOFO3ZDdP+xZJOjjNN8/PeW6I5PRQD9Y3fGAAs6aP8PxYjS8iqo/bXomlDvXsz/5exsOGWm6P8I+CER7fcA/iL8CAWrGwz9OQP29WA/HPxTB93pHWMo/2kHyNzahzT9QYXZ6EnXQP7Oh89iJGdI/FuJwNwG+0z94Iu6VeGLVP9tia/TvBtc/PqPoUmer2D+h42Wx3k/aPwQk4w9W9Ns/Z2Rgbs2Y3T/KpN3MRD3fPwLxoOgV1kA/HIDA6jLVmj9Y/B2T2pGqP1HcbdiN3LM/drpMZy5wuj9NzBV754HAP2A7hcK3y8M/cqr0CYgVxz+FGWRRWF/KP5eI05goqc0/1XshcHx50D9eM9mTZB7SP+fqkLdMw9M/caJI2zRo1T/6WQD/HA3XP4MRuCIFstg/DMlvRu1W2j+VgCdq1fvbPx843429oN0/qO+WsaVF3z/I/IatmNpAP98ij1Rj3Jo/7AbZ8fiYqj80PrUc4OGzP/L4fcBDd7o/2FkjslOGwD83tweEBdHDP5cU7FW3G8c/9nHQJ2lmyj9Vz7T5GrHNP1qWzGXmfdA/CcW+Tj8j0j+587A3mMjTP2kioyDxbdU/GFGVCUoT1z/If4fyorjYP3euedv7Xdo/J91rxFQD3D/WC16trajdP4Y6UJYGTt8/jghtchvfQD+ixV2+k+OaP4ARlFAXoKo/GKD8YDLnsz9vN68ZWX66P2PnMOm/isA/DzOKRVPWwz+7fuOh5iHHP2fKPP55bco/EhaWWg25zT/fsHdbUILQP7VWpAkaKNI/i/zQt+PN0z9hov1lrXPVPzdIKhR3Gdc/DO5WwkC/2D/ik4NwCmXaP7g5sB7UCtw/jt/czJ2w3T9khQl7Z1bfP1QUUzee40A/ZmgsKMTqmj8UHE+vNaeqP/sBRKWE7LM/7HXgcm6Fuj/udD4gLI/AP+euDAeh28M/3+ja7RUoxz/YIqnUinTKP9Bcd7v/wM0/ZMsiUbqG0D9g6InE9CzSP10F8Tcv09M/WSJYq2l51T9VP78epB/XP1FcJpLexdg/TXmNBRls2j9KlvR4UxLcP0azW+yNuN0/QtDCX8he3z8aIDn8IOhAPykL+5H08Zo/qSYKDlSuqj/eY4vp1vGzP2m0EcyDjLo/eQJMV5iTwD++Ko/I7uDDPwNT0jlFLsc/SHsVq5t7yj+No1gc8sjNP+nlzUYki9A/DHpvf88x0j8uDhG4etjTP1GisvAlf9U/czZUKdEl1z+WyvVhfMzYP7hel5onc9o/2/I409IZ3D/9htoLfsDdPyAbfEQpZ98/4CsfwaPsQD/srcn7JPmaPz0xxWxytao/wsXSLSn3sz/l8kIlmZO6PwSQWY4EmMA/lqYRijzmwz8ovcmFdDTHP7nTgYGsgso/S+o5feTQzT9uAHk8jo/QP7cLVTqqNtI/ABcxOMbd0z9JIg024oTVP5It6TP+K9c/2zjFMRrT2D8jRKEvNnraP2xPfS1SIdw/tVpZK27I3T/+ZTUpim/fP6Y3BYYm8UA/sFCYZVUAmz/RO4DLkLyqP6UnGnJ7/LM/YjF0fq6auj+PHWfFcJzAP24ilEuK68M/TCfB0aM6xz8qLO5XvYnKPwkxG97W2M0/8xokMviT0D9jnTr1hDvSP9IfUbgR49M/QaJne56K1T+wJH4+KzLXPx+nlAG42dg/jimrxESB2j/+q8GH0SjcP20u2Epe0N0/3LDuDet33z9rQ+tKqfVAP3PzZs+FB5s/ZkY7Kq/Dqj+JiWG2zQG0P99vpdfDobo/Gqt0/NygwD9FnhYN2PDDP3CRuB3TQMc/m4RaLs6Qyj/Gd/w+yeDNP3k1zydimNA/Di8gsF9A0j+kKHE4XejTPzkiwsBakNU/zxsTSVg41z9kFWTRVeDYP/oOtVlTiNo/jwgG4lAw3D8lAldqTtjdP7r7p/JLgN8/MU/RDyz6QD83ljU5tg6bP/pQ9ojNyqo/bOuo+h8HtD9brtYw2ai6P6U4gjNJpcA/HRqZziX2wz+V+69pAkfHPwzdxgTfl8o/hL7dn7vozT/+T3odzJzQP7rABWs6RdI/dTGRuKjt0z8xohwGF5bVP+0SqFOFPtc/qYMzofPm2D9l9L7uYY/aPyBlSjzQN9w/3NXViT7g3T+YRmHXrIjfP/dat9Su/kA/+jgEo+YVmz+OW7Hn69GqP1BN8D5yDLQ/2OwHiu6vuj8wxo9qtanAP/WVG5Bz+8M/uWWntTFNxz99NTPb757KP0EFvwCu8M0/g2olEzah0D9lUuslFUrSP0c6sTj08tM/KSJ3S9Ob1T8LCj1eskTXP+3xAnGR7dg/0NnIg3CW2j+ywY6WTz/cP5SpVKku6N0/dpEavA2R3z+9Zp2ZMQNBP73b0gwXHZs/ImZsRgrZqj8zrzeDxBG0P1UrOeMDt7o/u1OdoSGuwD/MEZ5RwQDEP93PngFhU8c/7o2fsQCmyj//S6BhoPjNPwiF0AigpdA/EOTQ4O9O0j8ZQ9G4P/jTPyGi0ZCPodU/KgHSaN9K1z8yYNJAL/TYPzu/0hh/ndo/Qx7T8M5G3D9MfdPIHvDdP1Tc06Bumd8/g3KDXrQHQT+BfqF2RySbP7dwJ6Uo4Ko/FhF/xxYXtD/RaWo8Gb66P0bhqtiNssA/pI0gEw8GxD8BOpZNkFnHP1/mC4gRrco/vZKBwpIAzj+Nn3v+CarQP7x1tpvKU9I/60vxOIv90z8ZIizWS6fVP0j4ZnMMUdc/d86hEM362D+mpNytjaTaP9V6F0tOTtw/A1FS6A743T8yJ42Fz6HfP0l+aSM3DEE/RCFw4Hcrmz9Le+IDR+eqP/pyxgtpHLQ/TqiblS7Fuj/RbrgP+rbAP3wJo9RcC8Q/JqSNmb9fxz/QPnheIrTKP3rZYiOFCM4/Erom9HOu0D9nB5xWpVjSP7xUEbnWAtQ/EaKGGwit1T9n7/t9OVfXP7w8ceBqAdk/EYrmQpyr2j9m11ulzVXcP7sk0Qf//90/EHJGajCq3z8Pik/ouRBBPwfEPkqoMps/34WdYmXuqj/d1A1QuyG0P8vmzO5DzLo/XPzFRma7wD9ThSWWqhDEP0oOheXuZcc/QZfkNDO7yj84IESEdxDOP5fU0endstA/E5mBEYBd0j+OXTE5IgjUPwoi4WDEstU/heaQiGZd1z8Aq0CwCAjZP3xv8Neqsto/9zOg/0xd3D9z+E8n7wfeP+68/06Rst8/1JU1rTwVQT/LZg202DmbP3OQWMGD9ao/wTZVlA0ntD9IJf5HWdO6P+eJ033Sv8A/KwGoV/gVxD9ueHwxHmzHP7LvUAtEwso/9WYl5WkYzj8c73zfR7fQP74qZ8xaYtI/YGZRuW0N1D8CojumgLjVP6PdJZOTY9c/RRkQgKYO2T/nVPpsubnaP4mQ5FnMZNw/KszORt8P3j/MB7kz8rrfP5qhG3K/GUE/jgncHQlBmz8ImxMgovyqP6SYnNhfLLQ/xGMvoW7auj9yF+G0PsTAPwJ9KhlGG8Q/k+JzfU1yxz8jSL3hVMnKP7OtBkZcIM4/oQko1bG70D9qvEyHNWfSPzJvcTm5EtQ/+iGW6zy+1T/C1LqdwGnXP4qH309EFdk/UjoEAsjA2j8a7Si0S2zcP+KfTWbPF94/qlJyGFPD3z9grQE3Qh5BP1Gsqoc5SJs/nKXOfsADqz+H+uMcsjG0P0GiYPqD4bo//aTu66rIwD/a+KzakyDEP7dMa8l8eMc/lKApuGXQyj9w9OemTijOPyck08obwNA/FU4yQhBs0j8DeJG5BBjUP/Kh8DD5w9U/4MtPqO1v1z/P9a4f4hvZP70fDpfWx9o/q0ltDstz3D+ac8yFvx/eP4idK/2zy98/Jrnn+8QiQT8VT3nxaU+bPzCwid3eCqs/a1wrYQQ3tD++4JFTmei6P4gy/CIXzcA/snQvnOElxD/btmIVrH7HPwX5lY5218o/LjvJB0Ewzj+sPn7AhcTQP8DfF/3qcNI/1YCxOVAd1D/qIUt2tcnVP//C5LIadtc/E2R+738i2T8oBRgs5c7aPz2msWhKe9w/UUdLpa8n3j9m6OThFNTfP+zEzcBHJ0E/2PFHW5pWmz/EukQ8/RGrP06+cqVWPLQ/Oh/DrK7vuj8TwAlag9HAP4nwsV0vK8Q//yBaYduExz92UQJlh97KP+yBqmgzOM4/MVkptu/I0D9scf23xXXSP6eJ0bmbItQ/4qGlu3HP1T8dunm9R3zXP1jSTb8dKdk/k+ohwfPV2j/OAvbCyYLcPwkbysSfL94/RDOexnXc3z+y0LOFyitBP5uUFsXKXZs/WcX/mhsZqz8yILrpqEG0P7dd9AXE9ro/nk0Xke/VwD9hbDQffTDEPySLUa0Ki8c/5qluO5jlyj+pyIvJJUDOP7Zz1KtZzdA/FwPjcqB60j95kvE55yfUP9ohAAEu1dU/O7EOyHSC1z+dQB2Puy/ZP/7PK1YC3do/X186HUmK3D/B7kjkjzfePyJ+V6vW5N8/eNyZSk0wQT9fN+Uu+2SbP+3Puvk5IKs/FYIBLvtGtD80nCVf2f26PynbJMhb2sA/Oei24Mo1xD9I9Uj5OZHHP1cC2xGp7Mo/Zw9tKhhIzj87jn+hw9HQP8OUyC17f9I/SpsRujIt1D/SoVpG6trVP1qoo9KhiNc/4a7sXlk22T9ptTXrEOTaP/G7fnfIkdw/ecLHA4A/3j8AyRCQN+3fPz3ofw/QNEE/ItqzmCtsmz+B2nVYWCerP/njSHJNTLQ/sdpWuO4Euz+0aDL/x97APxBkOaIYO8Q/bF9ARWmXxz/IWkfoufPKPyRWTosKUM4/wKgqly3W0D9uJq7oVYTSPxykMTp+MtQ/yiG1i6bg1T94nzjdzo7XPyYdvC73PNk/1Jo/gB/r2j+CGMPRR5ncPzCWRiNwR94/3hPKdJj13z8D9GXUUjlBP+V8ggJcc5s/FeUwt3Yuqz/cRZC2n1G0Py0ZiBEEDLs/P/Y/NjTjwD/o37tjZkDEP5HJN5GYncc/ObOzvsr6yj/inC/s/FfOP0XD1YyX2tA/GriTozCJ0j/urFG6yTfUP8KhD9Fi5tU/l5bN5/uU1z9ri4v+lEPZPz+ASRUu8to/FHUHLMeg3D/oacVCYE/eP7xeg1n5/d8/yf9LmdU9QT+pH1FsjHqbP6rv6xWVNas/v6fX+vFWtD+qV7lqGRO7P8qDTW2g58A/wFs+JbRFxD+1My/dx6PHP6oLIJXbAcs/n+MQTe9fzj/K3YCCAd/QP8VJeV4LjtI/wLVxOhU91D+6IWoWH+zVP7WNYvIom9c/sPlazjJK2T+qZVOqPPnaP6XRS4ZGqNw/oD1EYlBX3j/NVB4fLQPgP48LMl5YQkE/bMIf1ryBmz8++qZ0szyrP6MJHz9EXLQ/J5bqwy4auz9VEVukDOzAP5fXwOYBS8Q/2Z0mKfepxz8bZIxr7AjLP10q8q3hZ84/UPgreGvj0D9w214Z5pLSP5G+kbpgQtQ/sqHEW9vx1T/ThPf8VaHXP/RnKp7QUNk/FUtdP0sA2z82LpDgxa/cP1cRw4FAX94/PPp6kV0H4D9VFxgj20ZBPy9l7j/tiJs/0gRi09FDqz+Ga2aDlmG0P6PUGx1EIbs/4J5o23jwwD9vU0OoT1DEP/0HHnUmsMc/jLz4Qf0Pyz8bcdMO1G/OP9US123V59A/HG1E1MCX0j9jx7E6rEfUP6shH6GX99U/8nuMB4On1z851vltblfZP4AwZ9RZB9s/yIrUOkW33D8P5UGhMGfeP6uf1wOOC+A/GyP+511LQT/zB72pHZCbP2YPHTLwSqs/as2tx+hmtD8gE012WSi7P2ssdhLl9MA/R8/FaZ1VxD8ichXBVbbHP/0UZRgOF8s/2Le0b8Z3zj9aLYJjP+zQP8f+KY+bnNI/NdDRuvdM1D+joXnmU/3VPxBzIRKwrdc/fkTJPQxe2T/rFXFpaA7bP1nnGJXEvtw/x7jAwCBv3j8aRTR2vg/gP+Eu5KzgT0E/tqqLE06Xmz/7GdiQDlKrP00v9Qs7bLQ/nVF+z24vuz/2uYNJUfnAPx5LSCvrWsQ/RtwMDYW8xz9ubdHuHh7LP5b+ldC4f84/30ctWanw0D9zkA9KdqHSPwfZ8TpDUtQ/myHUKxAD1j8varYc3bPXP8OymA2qZNk/Vvt6/nYV2z/qQ13vQ8bcP36MP+AQd94/ieqQ6O4T4D+nOspxY1RBP3lNWn1+nps/jyST7yxZqz8wkTxQjXG0PxqQryiENrs/gUeRgL39wD/2xsrsOGDEP2pGBFm0wsc/38U9xS8lyz9TRXcxq4fOP2Ri2E4T9dA/HiL1BFGm0j/Y4RG7jlfUP5OhLnHMCNY/TWFLJwq61z8HIWjdR2vZP8LghJOFHNs/fKChScPN3D82YL7/AH/eP/iP7VofGOA/bEawNuZYQT898CjnrqWbPyMvTk5LYKs/FPODlN92tD+WzuCBmT27PwzVnrcpAsE/zUJNroZlxD+PsPuk48jHP1AeqptALMs/EYxYkp2Pzj/pfINEffnQP8qz2r8rq9I/quoxO9pc1D+LIYm2iA7WP2tY4DE3wNc/TI83reVx2T8txo4olCPbPw395aNC1dw/7jM9H/GG3j9nNUrNTxzgPzJSlvtoXUE/AJP3UN+smz+3OQmtaWerP/dUy9gxfLQ/Ew0S265Euz+XYqzulQbBP6W+z2/UasQ/sxrz8BLPxz/BdhZyUTPLP8/SOfOPl84/bpcuOuf90D91RcB6BrDSP3zzUbslYtQ/g6Hj+0QU1j+KT3U8ZMbXP5H9Bn2DeNk/mKuYvaIq2z+fWSr+wdzcP6UHvD7hjt4/1tqmP4Ag4D/4XXzA62FBP8M1xroPtJs/TETEC4huqz/bthIdhIG0P5BLQzTES7s/IvC5JQILwT99OlIxInDEP9eE6jxC1cc/Ms+CSGI6yz+MGRtUgp/OP/Ox2S9RAtE/IdelNeG00j9O/HE7cWfUP3shPkEBGtY/qEYKR5HM1z/Va9ZMIX/ZPwORolKxMds/MLZuWEHk3D9d2zpe0ZbeP0WAA7KwJOA/vmlihW5mQT+H2JQkQLubP+BOf2qmdas/vhhaYdaGtD8MinSN2VK7P619x1xuD8E/VLbU8m91xD/77uGIcdvHP6Mn7x5zQcs/SmD8tHSnzj94zIQluwbRP8xoi/C7udI/IAWSu7xs1D9zoZiGvR/WP8c9n1G+0tc/GtqlHL+F2T9udqznvzjbP8ESs7LA69w/Fa+5fcGe3j+0JWAk4SjgP4R1SErxakE/SntjjnDCmz90WTrJxHyrP6J6oaUojLQ/icil5u5Zuz84C9WT2hPBPywyV7S9esQ/IFnZ1KDhxz8UgFv1g0jLPwen3RVnr84//uYvGyUL0T93+nCrlr7SP/ENsjsIctQ/ayHzy3kl1j/lNDRc69jXP19IdexcjNk/2Vu2fM4/2z9Tb/cMQPPcP82COJ2xpt4/I8u8lhEt4D9KgS4PdG9BPw0eMvigyZs/CGT1J+ODqz+F3OjpepG0PwYH1z8EYbs/w5jiykYYwT8Ertl1C4DEP0TD0CDQ58c/hNjHy5RPyz/F7b52WbfOP4MB2xCPD9E/I4xWZnHD0j/DFtK7U3fUP2OhTRE2K9Y/AyzJZhjf1z+ktkS8+pLZP0RBwBHdRts/5Ms7Z7/63D+EVre8oa7eP5JwGQlCMeA/EI0U1PZzQT/RwABi0dCbP51usIYBi6s/aD4wLs2WtD+CRQiZGWi7P04m8AGzHME/2ylcN1mFxD9oLchs/+3HP/UwNKKlVss/gjSg10u/zj8IHIYG+RPRP84dPCFMyNI/lR/yO5981D9bIahW8jDWPyIjXnFF5dc/6CQUjJiZ2T+vJsqm603bP3UogME+At0/PCo23JG23j8BFnZ7cjXgP9WY+ph5eEE/lGPPywHYmz8xeWvlH5KrP0ygd3IfnLQ//4M58i5vuz/Zs/04HyHBP7Ol3vimisQ/jZe/uC70xz9miaB4tl3LP0B7gTg+x84/jTYx/GIY0T96ryHcJs3SP2coErzqgdQ/U6ECnK421j9AGvN7cuvXPy2T41s2oNk/GgzUO/pU2z8HhcQbvgndP/T9tPuBvt4/cLvS7aI54D+bpOBd/HxBP1gGnjUy35s/xYMmRD6Zqz8vAr+2caG0P3zCaktEdrs/ZEELcIslwT+LIWG69I/EP7EBtwRe+sc/1+EMT8dkyz/+wWKZMM/OPxJR3PHMHNE/JUEHlwHS0j84MTI8NofUP0shXeFqPNY/XxGIhp/x1z9yAbMr1KbZP4Xx3dAIXNs/mOEIdj0R3T+r0TMbcsbeP99gL2DTPeA/YbDGIn+BQT8bqWyfYuabP1mO4aJcoKs/E2QG+8OmtD/5AJykWX27P+/OGKf3KcE/Yp3je0KVxD/Va65QjQDIP0g6eSXYa8s/uwhE+iLXzj+Xa4fnNiHRP9HS7FHc1tI/CjpSvIGM1D9EobcmJ0LWP30IHZHM99c/t2+C+3Gt2T/w1udlF2PbPyo+TdC8GN0/Y6WyOmLO3j9OBozSA0LgPye8rOcBhkE/3ks7CZPtmz/umJwBe6erP/bFTT8WrLQ/dT/N/W6Euz96XCbeYy7BPzoZZj2QmsQ/+tWlnLwGyD+5kuX76HLLP3lPJVsV384/HIYy3aAl0T98ZNIMt9vSP9xCcjzNkdQ/PCESbONH1j+b/7Gb+f3XP/vdUcsPtNk/W7zx+iVq2z+7mpEqPCDdPxt5MVpS1t4/vavoRDRG4D/tx5KshIpBP6LuCXPD9Js/gqNXYJmuqz/ZJ5WDaLG0P/J9/laEi7s/BeozFdAywT8Slej+3Z/EPx5AnejrDMg/KutR0vl5yz82lga8B+fOP6Gg3dIKKtE/J/a3x5Hg0j+uS5K8GJfUPzShbLGfTdY/uvZGpiYE2D9ATCGbrbrZP8ah+480cds/TPfVhLsn3T/STLB5Qt7ePyxRRbdkSuA/s9N4cQePQT9lkdjc8/ubPxauEr+3tas/vYncx7q2tD9vvC+wmZK7P5B3QUw8N8E/6RBrwCulxD9CqpQ0GxPIP5tDvqgKgcs/9NznHPruzj8mu4jIdC7RP9OHnYJs5dI/f1SyPGSc1D8sIcf2W1PWP9jt27BTCtg/hbrwakvB2T8xhwUlQ3jbP95TGt86L90/iiAvmTLm3j+b9qEplU7gP3nfXjaKk0E/KDSnRiQDnD+quM0d1ryrP6DrIwwNvLQ/6/pgCa+Zuz8bBU+DqDvBP8GM7YF5qsQ/ZhSMgEoZyD8MnCp/G4jLP7IjyX3s9s4/rNUzvt4y0T9+GYM9R+rSP1Fd0ryvodQ/JKEhPBhZ1j/35HC7gBDYP8kowDrpx9k/nGwPulF/2z9vsF45ujbdP0L0rbgi7t4/Cpz+m8VS4D8+60T7DJhBP+zWdbBUCpw/P8OIfPTDqz+ETWtQX8G0P2g5kmLEoLs/ppJcuhRAwT+YCHBDx6/EP4t+g8x5H8g/ffSWVSyPyz9vaqre3v7OPzHw3rNIN9E/Kqto+CHv0j8jZvI8+6bUPxwhfIHUXtY/FdwFxq0W2D8Ol48Kh87ZPwdSGU9ghts/AA2jkzk+3T/5xyzYEvbeP3lBWw72VuA/BPcqwI+cQT+veUQahRGcP9PNQ9sSy6s/Z6+ylLHGtD/ld8O72ae7PzEgavGARME/cITyBBW1xD+v6HoYqSXIP+5MAyw9lss/LbGLP9EGzz+2CoqpsjvRP9U8TrP889I/9W4SvUas1D8UodbGkGTWPzPTmtDaHNg/UwVf2iTV2T9yNyPkbo3bP5Jp5+24Rd0/sZur9wL+3j/o5reAJlvgP8oCEYUSoUE/chwThLUYnD9n2P45MdKrP0sR+tgDzLQ/Yrb0FO+uuz+8rXco7UjBP0gAdcZiusQ/01JyZNgryD9fpW8CTp3LP+r3bKDDDs8/OyU1nxxA0T+BzjNu1/jSP8Z3Mj2SsdQ/DCExDE1q1j9Syi/bByPYP5hzLqrC29k/3RwteX2U2z8jxitIOE3dP2lvKhfzBd8/V4wU81Zf4D+QDvdJlaVBPza/4e3lH5w/++K5mE/Zqz8uc0EdVtG0P970JW4Etrs/RzuFX1lNwT8ffPeHsL/EP/i8abAHMsg/0P3b2F6kyz+oPk4BthbPP8A/4JSGRNE/LGAZKbL90j+YgFK93bbUPwShi1EJcNY/cMHE5TQp2D/c4f15YOLZP0gCNw6Mm9s/tCJwordU3T8hQ6k24w3fP8YxcWWHY+A/VhrdDhiqQT/5YbBXFiecP5DtdPdt4Ks/EdWIYajWtD9bM1fHGb27P9LIkpbFUcE/9/d5Sf7ExD8cJ2H8NjjIP0FWSK9vq8s/ZYUvYqgezz9FWouK8EjRP9fx/uOMAtM/aolyPSm81D/8IOaWxXXWP4+4WfBhL9g/IVDNSf7o2T+z50CjmqLbP0Z/tPw2XN0/2BYoVtMV3z81183Xt2fgPxwmw9OarkE/vAR/wUYunD8k+C9WjOerP/U20KX627Q/2HGIIC/Euz9dVqDNMVbBP89z/ApMysQ/QJFYSGY+yD+yrrSFgLLLPyPMEMOaJs8/ynQ2gFpN0T+Dg+SeZwfTPzySkr10wdQ/9KBA3IF71j+tr+76jjXYP2a+nBmc79k/Hs1KOKmp2z/X2/hWtmPdP5DqpnXDHd8/pHwqSuhr4D/iMamYHbNBP4CnTSt3NZw/uALrtKruqz/YmBfqTOG0P1SwuXlEy7s/6OOtBJ5awT+m737Mmc/EP2T7T5SVRMg/IgchXJG5yz/hEvIjjS7PP0+P4XXEUdE/LhXKWUIM0z8Nm7I9wMbUP+wgmyE+gdY/y6aDBbw72D+rLGzpOfbZP4qyVM23sNs/aTg9sTVr3T9IviWVsyXfPxMih7wYcOA/qD2PXaC3QT9DShyVpzycP0wNphPJ9as/vPpeLp/mtD/R7urSWdK7P3NxuzsKX8E/fmsBjufUxD+JZUfgxErIP5NfjTKiwMs/nlnThH82zz/UqYxrLlbRP9qmrxQdEdM/36PSvQvM1D/loPVm+obWP+qdGBDpQdg/75o7udf82T/1l15ixrfbP/qUgQu1ct0//5GktKMt3z+Cx+MuSXTgP21JdSIjvEE/Bu3q/tdDnD/hF2Fy5/yrP59cpnLx67Q/Ti0cLG/Zuz/+/shydmPBP1bng0812sQ/rc8+LPRQyD8EuPkIs8fLP1ygtOVxPs8/WsQ3YZha0T+FOJXP9xXTP7Gs8j1X0dQ/3SBQrLaM1j8Ila0aFkjYPzQJC4l1A9o/YH1o99S+2z+L8cVlNHrdP7dlI9STNd8/8WxAoXl44D8zVVvnpcBBP8qPuWgIS5w/dSIc0QUErD+Cvu22Q/G0P8prTYWE4Ls/iYzWqeJnwT8tYwYRg9/EP9E5NngjV8g/dRBm38POyz8Z55VGZEbPP9/e4lYCX9E/Mcp6itIa0z+DtRK+otbUP9WgqvFyktY/J4xCJUNO2D95d9pYEwraP8ticozjxds/HU4KwLOB3T9vOaLzgz3fP2ASnROqfOA/+WBBrCjFQT+NMojSOFKcPwkt1y8kC6w/ZiA1+5X2tD9Hqn7emee7PxQa5OBObME/Bd+I0tDkxD/2oy3EUl3IP+Zo0rXU1cs/1y13p1ZOzz9k+Y1MbGPRP9xbYEWtH9M/VL4yPu7b1D/NIAU3L5jWP0WD1y9wVNg/veWpKLEQ2j82SHwh8szbP66qThozid0/Jg0hE3RF3z/Pt/mF2oDgP79sJ3GryUE/UNVWPGlZnD+dN5KOQhKsP0mCfD/o+7Q/xOivN6/uuz+fp/EXu3DBP91aC5Qe6sQ/Gg4lEIJjyD9XwT6M5dzLP5R0WAhJVs8/6RM5QtZn0T+I7UUAiCTTPybHUr454dQ/xaBffOud1j9jemw6nVrYPwJUefhOF9o/oS2GtgDU2z8/B5N0spDdP97gnzJkTd8/Pl1W+AqF4D+FeA02Ls5BPxR4JaaZYJw/MkJN7WAZrD8t5MODOgG1P0En4ZDE9bs/KjX/Tid1wT+01o1VbO/EPz54HFyxacg/yBmrYvbjyz9SuzlpO17PP24u5DdAbNE/M38ru2Ip0z/4z3I+hebUP70gusGno9Y/gnEBRcpg2D9HwkjI7B3aPwwTkEsP29s/0WPXzjGY3T+WtB5SVFXfP60Cs2o7ieA/S4Tz+rDSQT/XGvQPymecP8ZMCEx/IKw/EEYLyIwGtT+9ZRLq2fy7P7XCDIaTecE/jFIQF7r0xD9i4hOo4G/IPzlyFzkH68s/EAIbyi1mzz/zSI8tqnDRP94QEXY9LtM/ytiSvtDr1D+1oBQHZKnWP6Bolk/3Ztg/jDAYmIok2j93+JngHeLbP2LAGymxn90/TYidcURd3z8cqA/da43gPxGQ2b8z10E/mr3CefpunD9aV8OqnSesP/SnUgzfC7U/OqRDQ+8DvD9AUBq9/33BP2POktgH+sQ/h0wL9A92yD+qyoMPGPLLP81I/Cogbs8/eGM6IxR10T+KovYwGDPTP5vhsj4c8dQ/rSBvTCCv1j+/XytaJG3YP9Ce52coK9o/4t2jdSzp2z/0HGCDMKfdPwVcHJE0Zd8/i01sT5yR4D/Wm7+EtttBP15gkeMqdpw/7mF+CbwurD/XCZpQMRG1P7fidJwEC7w/y90n9GuCwT87ShWaVf/EP6u2AkA/fMg/GyPw5Sj5yz+Lj92LEnbPP/195Rh+edE/NTTc6/I30z9t6tK+Z/bUP6WgyZHctNY/3VbAZFFz2D8VDbc3xjHaP03DrQo78Ns/hXmk3a+u3T+9L5uwJG3fP/ryyMHMleA/nKelSTngQT8hA2BNW32cP4NsOWjaNaw/umvhlIMWtT8zIab1GRK8P1ZrNSvYhsE/E8aXW6MExT/PIPqLboLIP4x7XLw5AMw/SNa+7AR+zz+CmJAO6H3RP+HFwabNPNM/P/PyPrP71D+dICTXmLrWP/tNVW9+edg/WnuGB2Q42j+4qLefSffbPxbW6Dcvtt0/dQMa0BR13z9pmCU0/ZngP2Kziw685EE/5KUut4uEnD8Xd/TG+DysP57NKNnVG7U/sF/XTi8ZvD/h+EJiRIvBP+pBGh3xCcU/9Irx152IyD/908iSSgfMPwYdoE33hc8/CLM7BFKC0T+MV6dhqEHTPxH8Er/+ANU/laB+HFXA1j8aRep5q3/YP57pVdcBP9o/I47BNFj+2z+oMi2Srr3dPyzXmO8Efd8/2D2Cpi2e4D8ov3HTPulBP6hI/SC8i5w/q4GvJRdErD+BL3AdKCG1Py2eCKhEILw/bIZQmbCPwT/CvZzePg/FPxj16CPNjsg/biw1aVsOzD/EY4Gu6Y3PP43N5vm7htE/OOmMHING0z/iBDM/SgbVP40g2WERxtY/ODx/hNiF2D/jVyWnn0XaP45zy8lmBdw/OY9x7C3F3T/kqhcP9YTfP0fj3hheouA/7spXmMHtQT9r68uK7JKcPz+MaoQ1S6w/ZZG3YXomtT+q3DkBWie8P/cTXtAclME/mjkfoIwUxT88X+Bv/JTIP9+EoT9sFcw/gapiD9yVzz8S6JHvJYvRP+N6ctddS9M/tA1Tv5UL1T+FoDOnzcvWP1czFI8FjNg/KMb0dj1M2j/5WNVedQzcP8rrtUatzN0/nH6WLuWM3z+2iDuLjqbgP7TWPV1E8kE/Lo6a9ByanD/UliXjU1KsP0jz/qXMK7U/JhtrWm8uvD+CoWsHiZjBP3G1oWHaGcU/YMnXuyubyD9Q3Q0WfRzMPz/xQ3DOnc8/lwI95Y+P0T+ODFiSOFDTP4YWcz/hENU/fiCO7InR1j91KqmZMpLYP200xEbbUto/ZD7f84MT3D9cSPqgLNTdP1NSFU7VlN8/JS6Y/b6q4D964iMix/ZBP/IwaV5NoZw/aKHgQXJZrD8rVUbqHjG1P6NZnLOENbw/DS95PvWcwT9JMSQjKB/FP4Uzzwdbocg/wDV67I0jzD/8NyXRwKXPPxwd6Nr5k9E/Op49TRNV0z9YH5O/LBbVP3ag6DFG19Y/lCE+pF+Y2D+xopMWeVnaP88j6YiSGtw/7aQ++6vb3T8LJpRtxZzfP5TT9G/vruA/P+4J50n7QT+10zfIfaicP/yrm6CQYKw/D7eNLnE2tT8gmM0Mmjy8P5i8hnVhocE/Ia2m5HUkxT+pncZTiqfIPzGO5sKeKsw/un4GMrOtzz+hN5PQY5jRP+UvIwjuWdM/KiizP3gb1T9uIEN3At3WP7IY066Mntg/9hBj5hZg2j86CfMdoSHcP38Bg1Ur490/w/kSjbWk3z8DeVHiH7PgPwX676vM/0E/eXYGMq6vnD+Qtlb/rmesP/IY1XLDO7U/nNb+Za9DvD8jSpSszaXBP/goKabDKcU/zQe+n7mtyD+i5lKZrzHMP3fF55Kltc8/JlI+xs2c0T+RwQjDyF7TP/sw07/DINU/ZqCdvL7i1j/QD2i5uaTYPzt/Mra0Zto/pe78sq8o3D8QXsevqurdP3rNkaylrN8/ch6uVFC34D/LBdZwTwRCPzwZ1Zvetpw/JcERXs1urD/Wehy3FUG1PxkVML/ESrw/rteh4zmqwT/QpKtnES/FP/Jxtevos8g/Ez+/b8A4zD81DMnzl73PP6ts6bs3odE/PFPufaNj0z/NOfM/DybVP14g+AF76NY/7wb9w+aq2D+A7QGGUm3aPxDUBki+L9w/oboLCiry3T8yoRDMlbTfP+HDCseAu+A/kRG8NdIIQj//u6MFD76cP7nLzLzrdaw/udxj+2dGtT+WU2EY2lG8PzllrxqmrsE/qCAuKV80xT8W3Kw3GLrIP4SXK0bRP8w/81KqVIrFzz8wh5SxoaXRP+jk0zh+aNM/n0ITwFor1T9WoFJHN+7WPw3+kc4Tsdg/xFvRVfBz2j97uRDdzDbcPzMXUGSp+d0/6nSP64W83z9QaWc5sb/gP1cdovpUDUI/w15ybz/FnD9N1ocbCn2sP50+qz+6S7U/E5KSce9YvD/E8rxRErPBP3+csOqsOcU/Okakg0fAyD/175cc4kbMP7CZi7V8zc8/tqE/pwuq0T+TdrnzWG3TP3FLM0CmMNU/TiCtjPPz1j8s9SbZQLfYPwnKoCWOeto/5p4acts93D/Ec5S+KAHeP6FIDgt2xN8/vw7Eq+HD4D8dKYi/1xFCP4YBQdlvzJw/4eBCeiiErD+AoPKDDFG1P4/Qw8oEYLw/T4DKiH63wT9XGDOs+j7FP16wm892xsg/ZkgE8/JNzD9u4GwWb9XPPzu86px1rtE/PgifrjNy0z9CVFPA8TXVP0agB9Kv+dY/Suy742292D9OOHD1K4HaP1KEJAfqRNw/VdDYGKgI3j9ZHI0qZszfPy60IB4SyOA/4zRuhFoWQj9JpA9DoNOcP3br/dhGi6w/YwI6yF5WtT8MD/UjGme8P9oN2L/qu8E/LpS1bUhExT+DGpMbpszIP9egcMkDVcw/KydOd2Hdzz/A1pWS37LRP+qZhGkOd9M/FF1zQD071T8+IGIXbP/WP2jjUO6aw9g/kqY/xcmH2j+9aS6c+EvcP+csHXMnEN4/EfALSlbU3z+dWX2QQszgP6lAVEndGkI/DUferNDanD8K9rg3ZZKsP0dkgQyxW7U/iU0mfS9uvD9lm+X2VsDBPwYQOC+WScU/p4SKZ9XSyD9I+dyfFFzMP+ltL9hT5c8/RfFAiEm30T+VK2ok6XvTP+Zlk8CIQNU/NqC8XCgF1z+H2uX4x8nYP9cUD5Vnjto/KE84MQdT3D94iWHNphfeP8nDimlG3N8/Df/ZAnPQ4D9uTDoOYB9CP9DprBYB4pw/ngB0loOZrD8qxshQA2G1PwWMV9ZEdbw/8CjzLcPEwT/ei7rw407FP8vugbME2cg/uVFJdiVjzD+mtBA5Ru3PP8oL7H2zu9E/Qb1P38OA0z+4brNA1EXVPy4gF6LkCtc/pdF6A/XP2D8cg95kBZXaP5M0QsYVWtw/CealJyYf3j+AlwmJNuTfP3ykNnWj1OA/NFgg0+IjQj+TjHuAMemcPzILL/WhoKw/DigQlVVmtT+CyogvWny8P3u2AGUvycE/tQc9sjFUxT/wWHn/M9/IPyqqtUw2asw/ZPvxmTj1zz9PJpdzHcDRP+xONZqehdM/iXfTwB9L1T8moHHnoBDXP8TIDw4i1tg/YfGtNKOb2j/+GUxbJGHcP5tC6oGlJt4/OGuIqCbs3z/rSZPn09jgP/pjBphlKEI/Vy9K6mHwnD/HFepTwKesP/GJV9mna7U//wi6iG+DvD8GRA6cm83BP42Dv3N/WcU/FMNwS2PlyD+bAiIjR3HMPyJC0/oq/c8/1EBCaYfE0T+Y4BpVeYrTP1uA80BrUNU/HyDMLF0W1z/iv6QYT9zYP6VffQRBoto/af9V8DJo3D8sny7cJC7eP/A+B8gW9N8/Wu/vWQTd4D/Ab+xc6CxCPxrSGFSS95w/WyClst6urD/U654d+nC1P3tH6+GEirw/kdEb0wfSwT9l/0E1zV7FPzgtaJeS68g/DFuO+Vd4zD9wRNqtjgLQP1lb7V7xyNE/Q3IAEFSP0z8tiRPBtlXVPxegJnIZHNc/ALc5I3zi2D/qzUzU3qjaP9TkX4VBb9w/vvtyNqQ13j+nEobnBvzfP8mUTMw04eA/hnvSIWsxQj/ddOe9wv6cP+8qYBH9taw/uE3mYUx2tT/4hRw7mpG8PxxfKQp01sE/PHvE9hpkxT9dl1/jwfHIP32z+s9of8w/zudK3ocG0D/edZhUW83RP+8D5soulNM//5EzQQJb1T8PIIG31SHXPx+uzi2p6Ng/LzwcpHyv2j8/ymkaUHbcP09Yt5AjPd4/MHOCg/sB4D84Oqk+ZeXgP0yHuObtNUI/oRe2J/MFnT+DNRtwG72sP5uvLaaee7U/dcRNlK+YvD+n7DZB4NrBPxT3RrhoacU/gQFXL/H3yD/uC2emeYbMPy2Luw6BCtA/ZJBDSsXR0T+alcuFCZnTP9CaU8FNYNU/B6Db/JEn1z89pWM41u7YP3Sq63Matto/qq9zr1593D/gtPvqokTePwvdQZPzBeA/p98FsZXp4D8Sk56rcDpCP2S6hJEjDZ0/GEDWzjnErD9/EXXq8IC1P/ICf+3En7w/MnpEeEzfwT/scsl5tm7FP6VrTnsg/sg/X2TTfIqNzD+MLiw/eg7QP+mq7j8v1tE/RSexQOSd0z+io3NBmWXVP/8fNkJOLdc/XJz4QgP12D+4GLtDuLzaPxWVfURthNw/chFARSJM3j/nRgGj6wngPxaFYiPG7eA/156EcPM+Qj8nXVP7UxSdP6xKkS1Yy6w/YnO8LkOGtT9uQbBG2qa8P70HUq+448E/w+5LOwR0xT/J1UXHTwTJP8+8P1OblMw/69Gcb3MS0D9uxZk1mdrRP/G4lvu+otM/dKyTweRq1T/3n5CHCjPXP3qTjU0w+9g//YaKE1bD2j+AeofZe4vcPwNuhJ+hU94/w7DAsuMN4D+FKr+V9vHgP52qajV2Q0I/6/8hZYQbnT9AVUyMdtKsP0bVA3OVi7U/63/hn++tvD9IlV/mJOjBP5tqzvxRecU/7j89E38KyT9AFawprJvMP0p1DaBsFtA/899EKwPf0T+cSny2mafTP0a1s0EwcNU/7x/rzMY41z+YiiJYXQHZP0L1WePzydo/61+RboqS3D+Uysj5IFveP58agMLbEeA/9M8bCCf24D9jtlD6+EdCP66i8M60Ip0/1F8H65TZrD8pN0u355C1P2i+EvkEtbw/0yJtHZHswT9z5lC+n37FPxKqNF+uEMk/sW0YAL2izD+oGH7QZRrQP3j67yBt49E/SNxhcXSs0z8XvtPBe3XVP+efRRKDPtc/t4G3YooH2T+GYymzkdDaP1ZFmwOZmdw/JicNVKBi3j97hD/S0xXgP2N1eHpX+uA/KcI2v3tMQj9xRb845SmdP2lqwkmz4Kw/DJmS+zmWtT/k/ENSGry8P16welT98ME/SmLTf+2DxT82FCyr3RbJPyLGhNbNqcw/B7zuAF8e0D/9FJsW1+fRP/NtRyxPsdM/6cbzQcd61T/fH6BXP0TXP9V4TG23Ddk/y9H4gi/X2j/BKqWYp6DcP7eDUa4fat4/V+7+4csZ4D/SGtXsh/7gP+/NHIT+UEI/NeiNohUxnT/9dH2o0eesP/D62T+Mm7U/YTt1qy/DvD/pPYiLafXBPyLeVUE7icU/W34j9wwdyT+THvGs3rDMP2ZfXzFYItA/gi9GDEHs0T+f/yznKbbTP7vPE8ISgNU/15/6nPtJ1z/0b+F35BPZPxBAyFLN3do/LBCvLban3D9J4JUIn3HePzJYvvHDHeA/QcAxX7gC4T+12QJJgVVCP/iKXAxGOJ0/kX84B/DurD/TXCGE3qC1P955pgRFyrw/dMuVwtX5wT/6WdgCiY7FP3/oGkM8I8k/BHddg++3zD/FAtBhUSbQPwdK8QGr8NE/SpESogS70z+N2DNCXoXVP88fVeK3T9c/Emd2ghEa2T9Vrpcia+TaP5f1uMLErtw/2jzaYh553j8Own0BvCHgP7BljtHoBuE/e+XoDQRaQj+7LSt2dj+dPyWK82UO9qw/t75oyDCmtT9buNddWtG8P/9Yo/lB/sE/0dVaxNaTxT+jUhKPaynJP3XPyVkAv8w/I6ZAkkoq0D+MZJz3FPXRP/Ui+Fzfv9M/XuFTwqmK1T/Hn68ndFXXPzBeC40+INk/mRxn8gjr2j8C28JX07XcP2uZHr2dgN4/6is9EbQl4D8fC+tDGQvhP0DxztKGXkI/f9D536ZGnT+6lK7ELP2sP5ogsAyDq7U/1/YIt2/YvD+K5rAwrgLCP6lR3YUkmcU/x7wJ25ovyT/mJzYwEcbMP4JJscJDLtA/En9H7X750T+htN0XusTTPzDqc0L1j9U/vx8KbTBb1z9PVaCXaybZP96KNsKm8do/bcDM7OG83D/99WIXHYjeP8aV/CCsKeA/jrBHtkkP4T8G/bSXCWNCP0JzyEnXTZ0/Tp9pI0sErT99gvdQ1bC1P1Q1OhCF37w/FXS+ZxoHwj+AzV9Hcp7FP+wmASfKNck/V4CiBiLNzD/h7CHzPDLQP5eZ8uLo/dE/TEbD0pTJ0z8C85PCQJXVP7ifZLLsYNc/bUw1opgs2T8j+QWSRPjaP9il1oHww9w/jlKncZyP3j+i/7swpC3gP/1VpCh6E+E/zAibXIxnQj8FFpezB1WdP+KpJIJpC60/YeQ+lSe2tT/Rc2tpmua8P6ABzJ6GC8I/WEniCMCjxT8Qkfhy+TvJP8jYDt0y1Mw/QJCSIzY20D8ctJ3YUgLSP/jXqI1vztM/1PuzQoya1T+wH7/3qGbXP4xDyqzFMtk/aGfVYeL+2j9Di+AW/8rcPx+v68sbl94/fml7QJwx4D9s+wCbqhfhP5IUgSEPbEI/ybhlHThcnT93tN/ghxKtP0RGhtl5u7U/TbKcwq/tvD8rj9nV8g/CPzDFZMoNqcU/NPvvvihCyT85MXuzQ9vMP58zA1QvOtA/oc5IzrwG0j+jaY5IStPTP6UE1MLXn9U/qJ8ZPWVs1z+qOl+38jjZP6zVpDGABds/r3Dqqw3S3D+xCzAmm57eP1rTOlCUNeA/26BdDdsb4T9YIGfmkXBCP4xbNIdoY50/C7+aP6YZrT8oqM0dzMC1P8rwzRvF9Lw/thznDF8Uwj8HQeeLW67FP1ll5wpYSMk/qonniVTizD/91nOEKD7QPybp88MmC9I/T/tzAyXY0z93DfRCI6XVP6AfdIIhctc/yDH0wR8/2T/xQ3QBHgzbPxpW9EAc2dw/Qmh0gBqm3j81PfpfjDngP0pGun8LIOE/HixNqxR1Qj9P/gLxmGqdP5/JVZ7EIK0/CwoVYh7GtT9HL/902vu8P0Gq9EPLGMI/37xpTamzxT99z95Wh07JPxviU2Bl6cw/XHrktCFC0D+rA5+5kA/SP/qMWb7/3NM/SRYUw26q1T+Yn87H3XfXP+coicxMRdk/NrJD0bsS2z+FO/7VKuDcP9TEuNqZrd4/Eae5b4Q94D+56xbyOyThP+Q3M3CXeUI/E6HRWslxnT8z1BD94ietP+9rXKZwy7U/w20wzu8CvT/MNwJ7Nx3CP7c47A73uMU/oTnWorZUyT+MOsA2dvDMP7sdVeUaRtA/MB5Kr/oT0j+lHj952uHTPxsfNEO6r9U/kB8pDZp91z8FIB7XeUvZP3ogE6FZGds/8CAIaznn3D9lIf00GbXeP+0QeX98QeA/KJFzZGwo4T+qQxk1Gn5CP9ZDoMT5eJ0/yN7LWwEvrT/SzaPqwtC1P0CsYScFCr0/V8UPsqMhwj+OtG7QRL7FP8Wjze7lWsk//ZIsDYf3zD8awcUVFErQP7U49aRkGNI/UbAkNLXm0z/sJ1TDBbXVP4ifg1JWg9c/JBez4aZR2T+/juJw9x/bP1sGEgBI7tw/9n1Bj5i83j/JejiPdEXgP5c20NacLOE/b0//+ZyCQj+a5m4uKoCdP1zphrofNq0/tS/rLhXWtT+96pKAGhG9P+JSHekPJsI/ZjDxkZLDxT/qDcU6FWHJP23rmOOX/sw/eWQ2Rg1O0D86U6CazhzSP/xBCu+P69M/vjB0Q1G61T+AH96XEonXP0IOSOzTV9k/BP2xQJUm2z/G6xuVVvXcP4jahekXxN4/peT3nmxJ4D8G3CxJzTDhPzVb5b4fh0I/XYk9mFqHnT/w80EZPj2tP5mRMnNn27U/OinE2S8YvT9t4CogfCrCPz6sc1PgyMU/Dni8hkRnyT/eQwW6qAXNP9cHp3YGUtA/wG1LkDgh0j+o0++pavDTP5A5lMOcv9U/eJ843c6O1z9gBd32AF7ZP0lrgRAzLds/MdElKmX83D8ZN8pDl8veP4FOt65kTeA/dYGJu/004T/7ZsuDootCPyAsDAKLjp0/hP78d1xErT9883m3ueC1P7Zn9TJFH70/+G04V+guwj8VKPYULs7FPzLis9Jzbck/T5xxkLkMzT82qxen/1XQP0WI9oWiJdI/U2XVZEX10z9iQrRD6MTVP3AfkyKLlNc/f/xxAS5k2T+N2VDg0DPbP5y2L79zA90/qpMOnhbT3j9cuHa+XFHgP+Qm5i0uOeE/wXKxSCWQQj/kztpru5WdPxkJuNZ6S60/YFXB+wvmtT8zpiaMWia9P4P7RY5UM8I/7aN41nvTxT9XTKseo3PJP8D03WbKE80/lU6I1/hZ0D/KoqF7DCrSP//2uh8g+tM/NEvUwzPK1T9on+1nR5rXP53zBgxbatk/0kcgsG462z8HnDlUggrdPzzwUviV2t4/OCI2zlRV4D9TzEKgXj3hP4d+lw2olEI/p3Gp1eucnT+tE3M1mVKtP0O3CEBe67U/sORX5W8tvT8OiVPFwDfCP8Uf+5fJ2MU/e7aiatJ5yT8xTUo92xrNP/Tx+AfyXdA/T71McXYu0j+qiKDa+v7TPwVU9EN/z9U/YB9IrQOg1z+86psWiHDZPxe2738MQds/coFD6ZAR3T/NTJdSFeLePxSM9d1MWeA/wnGfEo9B4T9Nin3SKplCP2oUeD8cpJ0/QR4ulLdZrT8mGVCEsPC1PywjiT6FNL0/mRZh/Cw8wj+cm31ZF97FP58gmrYBgMk/oqW2E+whzT9TlWk462HQP9TX92bgMtI/VhqGldUD1D/XXBTEytTVP1mfovK/pdc/2uEwIbV22T9bJL9PqkfbP91mTX6fGN0/XqnbrJTp3j/w9bTtRF3gPzEX/IS/ReE/E5Zjl62dQj8ut0apTKudP9Uo6fLVYK0/CnuXyAL2tT+pYbqXmju9PySkbjOZQMI/dBcAG2XjxT/DipECMYbJPxP+Iur8KM0/sTjaaORl0D9Z8qJcSjfSPwGsa1CwCNQ/qWU0RBba1T9RH/03fKvXP/jYxSvifNk/oJKOH0hO2z9ITFcTrh/dP/AFIAcU8d4/zF90/Txh4D+gvFj370nhP9ihSVwwokI/8VkVE32ynT9qM6RR9GetP+3c3gxV+7U/JqDr8K9CvT+vMXxqBUXCP0uTgtyy6MU/6PSITmCMyT+EVo/ADTDNPxDcSpndadA/3gxOUrQ70j+sPVELiw3UP3tuVMRh39U/SZ9XfTix1z8X0Fo2D4PZP+UAXu/lVNs/szFhqLwm3T+BYmRhk/jeP6jJMw01ZeA/D2K1aSBO4T+erS8hs6ZCP7T843ytuZ0//j1fsBJvrT/RPiZRpwC2P6PeHErFSb0/Or+JoXFJwj8jDwWeAO7FPwxfgJqPksk/9a77lh43zT9vf7vJ1m3QP2Mn+UceQNI/WM82xmUS1D9Md3REreTVP0EfssL0ttc/NcfvQDyJ2T8qby2/g1vbPx4Xaz3LLd0/E7+ouxIA3z+EM/McLWngP34HEtxQUuE/ZLkV5jWrQj94n7Lm3cCdP5JIGg8xdq0/tKBtlfkFtj8fHU6j2lC9P8VMl9jdTcI/+4qHX07zxT8wyXfmvpjJP2YHaG0vPs0/ziIs+s9x0D/oQaQ9iETSPwNhHIFAF9Q/HoCUxPjp1T85nwwIsbzXP1S+hEtpj9k/bt38jiFi2z+J/HTS2TTdP6Qb7RWSB98/X52yLCVt4D/trG5OgVbhPyrF+6q4r0I/O0KBUA7InT8mU9VtT32tP5gCtdlLC7Y/nFt//O9XvT9Q2qQPSlLCP9IGCiGc+MU/VTNvMu6eyT/XX9RDQEXNPy3GnCrJddA/blxPM/JI0j+v8gE8GxzUP/CItERE79U/MR9nTW3C1z9ytRlWlpXZP7NLzF6/aNs/9OF+Z+g73T81eDFwEQ/fPzsHcjwdceA/XFLLwLFa4T/w0OFvO7RCP/7kT7o+z50/u12QzG2ErT97ZPwdnhC2PxmasFUFX70/22eyRrZWwj+qgozi6f3FP3mdZn4dpck/SLhAGlFMzT+LaQ1bwnnQP/N2+ihcTdI/WoTn9vUg1D/CkdTEj/TVPymfwZIpyNc/kKyuYMOb2T/4uZsuXW/bP1/HiPz2Qt0/x9R1ypAW3z8XcTFMFXXgP8v3JzPiXuE/ttzHNL64Qj/Chx4kb9adP09oSyuMi60/XsZDYvAVtj+V2OGuGma9P2b1v30iW8I/gv4OpDcDxj+dB17KTKvJP7kQrfBhU80/6gx+i7t90D94kaUexlHSPwYWzbHQJdQ/k5r0RNv51T8hHxzY5c3XP6+jQ2vwodk/PShr/vp12z/KrJKRBUrdP1gxuiQQHt8/89rwWw154D86nYSlEmPhP3zorflAvUI/hSrtjZ/dnT/jcgaKqpKtP0Ioi6ZCG7Y/EhcTCDBtvT/xgs20jl/CP1l6kWWFCMY/wXFVFnyxyT8qaRnHclrNP0mw7ru0gdA//atQFDBW0j+xp7JsqyrUP2WjFMUm/9U/GZ92HaLT1z/Nmth1HajZP4GWOs6YfNs/NZKcJhRR3T/pjf5+jyXfP89EsGsFfeA/qULhF0Nn4T9B9JO+w8FCP0jNu/fP5J0/d33B6MiZrT8litLqlCC2P49VRGFFdL0/fBDb6/pjwj8x9hMn0w3GP+bbTGKrt8k/m8GFnYNhzT+oU1/srYXQP4LG+wmaWtI/XDmYJ4Yv1D83rDRFcgTWPxEf0WJe2dc/7JFtgEqu2T/GBAqeNoPbP6B3prsiWN0/e+pC2Q4t3z+rrm97/YDgPxjoPYpza+E/BwB6g0bGQj8McIphAOydPwyIfEfnoK0/CewZL+cltj8MlHW6Wnu9Pwee6CJnaMI/CXKW6CATxj8KRkSu2r3JPwsa8nOUaM0/BvfPHKeJ0D8H4ab/A1/SPwjLfeJgNNQ/CbVUxb0J1j8JnyuoGt/XPwqJAot3tNk/C3PZbdSJ2z8LXbBQMV/dPwxHhzOONN8/hhgvi/WE4D+HjZr8o2/hP80LYEjJykI/zxJZyzDznT+gkjemBaitP+xNYXM5K7Y/iNKmE3CCvT+SK/ZZ02zCP+DtGKpuGMY/LrA7+gnEyT98cl5KpW/NP2WaQE2gjdA/jPtR9W1j0j+zXGOdOznUP9q9dEUJD9Y/AR+G7dbk1z8ogJeVpLrZP0/hqD1ykNs/d0K65T9m3T+eo8uNDTzfP2KC7prtiOA/9jL3btRz4T+TF0YNTM9CP5K1JzVh+p0/NJ3yBCSvrT/Pr6i3izC2PwUR2GyFib0/HbkDkT9xwj+4aZtrvB3GP1MaM0Y5ysk/7crKILZ2zT/EPbF9mZHQPxEW/erXZ9I/X+5IWBY+1D+sxpTFVBTWP/me4DKT6tc/R3csoNHA2T+UT3gNEJfbP+InxHpObd0/LwAQ6IxD3z8+7K2q5YzgP2XYU+EEeOE/WSMs0s7TQj9WWPaekQGeP8inrWNCtq0/sxHw+901tj+CTwnGmpC9P6hGEcirdcI/kOUdLQojxj93hCqSaNDJP14jN/fGfc0/I+EhrpKV0D+XMKjgQWzSPwqALhPxQtQ/fs+0RaAZ1j/yHjt4T/DXP2Vuwar+xtk/2b1H3a2d2z9NDc4PXXTdP8BcVEIMS98/GlZtut2Q4D/UfbBTNXzhPx8vEpdR2EI/GfvECMIInj9dsmjCYL2tP5ZzN0AwO7Y//o06H7CXvT8z1B7/F3rCP2dhoO5XKMY/m+4h3pfWyT/Pe6PN14TNP4KEkt6LmdA/HEtT1qtw0j+2ERTOy0fUP1DY1MXrHtY/6p6VvQv21z+EZVa1K83ZPx4sF61LpNs/uPLXpGt73T9SuZici1LfP/a/LMrVlOA/QyMNxmWA4T/lOvhb1NxCP9ydk3LyD54/8bwjIX/ErT961X6EgkC2P3vMa3jFnr0/vmEsNoR+wj8/3SKwpS3GP79YGSrH3Mk/QNQPpOiLzT/gJwMPhZ3QP6Fl/ssVddI/YaP5iKZM1D8h4fRFNyTWP+Ie8ALI+9c/olzrv1jT2T9imuZ86arbPyPY4Tl6gt0/4xXd9gpa3z/SKezZzZjgP7LIaTiWhOE/q0beIFfhQj+gQGLcIheeP4XH3n+dy60/XTfGyNRFtj/4Cp3R2qW9P0nvOW3wgsI/FlmlcfMyxj/kwhB29uLJP7EsfHr5ks0/P8tzP36h0D8mgKnBf3nSPww130OBUdQ/8+kUxoIp1j/ankpIhAHYP8BTgMqF2dk/pwi2TIex2z+OvevOiIndP3RyIVGKYd8/rpOr6cWc4D8hbsaqxojhP3BSxOXZ5UI/Y+MwRlMenj8Z0pneu9KtP0GZDQ0nS7Y/dEnOKvCsvT/UfEekXIfCP+7UJzNBOMY/CC0IwiXpyT8ihehQCprNP55u5G93pdA/q5pUt+l90j+4xsT+W1bUP8XyNEbOLtY/0h6ljUAH2D/fShXVst/ZP+x2hRwluNs/+aL1Y5eQ3T8Gz2WrCWnfP4n9avm9oOA/kBMjHfeM4T82XqqqXOpCPyaG/6+DJZ4/rtxUPdrZrT8k+1RReVC2P/GH/4MFtL0/XwpV28iLwj/GUKr0jj3GPyyX/w1V78k/k91UJxuhzT/9EVWgcKnQPzC1/6xTgtI/Y1iquTZb1D+X+1TGGTTWP8qe/9L8DNg//UGq39/l2T8x5VTswr7bP2SI//ill90/lyuqBYlw3z9lZyoJtqTgP/+4f48nkeE//GmQb9/uQj/qKM4ZtCyeP0LnD5z44K0/B12clctVtj9uxjDdGru9P+qXYhI1kMI/ncwsttxCxj9RAfdZhPXJPwQ2wf0rqM0/XLXF0Gmt0D+1z6qivYbSPw/qj3QRYNQ/aAR1RmU51j/CHloYuRLYPxw5P+oM7Nk/dVMkvGDF2z/PbQmOtJ7dPymI7l8IeN8/QdHpGK6o4D9uXtwBWJXhP8J1djRi80I/rcucg+Qznj/W8cr6FuitP+u+49kdW7Y/6wRiNjDCvT91JXBJoZTCP3VIr3cqSMY/dWvupbP7yT91ji3UPK/NP7pYNgFjsdA/OupVmCeL0j+6e3Uv7GTUPzoNlcawPtY/up60XXUY2D86MNT0OfLZP7rB84v+y9s/OlMTI8Ol3T+65DK6h3/fPx07qSimrOA/3QM5dIiZ4T+IgVz55PdCP3Bua+0UO54/avyFWTXvrT/OICsecGC2P2dDk49Fyb0/ALN9gA2Zwj9NxDE5eE3GP5nV5fHiAco/5uaZqk22zT8Z/KYxXLXQP78EAY6Rj9I/Zg1b6sZp1D8MFrVG/EPWP7IeD6MxHtg/WCdp/2b42T//L8NbnNLbP6U4HbjRrN0/S0F3FAeH3z/5pGg4nrDgP0yplea4neE/To1Cvmf8Qj80ETpXRUKeP/8GQbhT9q0/soJyYsJltj/kgcToWtC9P4tAi7d5ncI/JEC0+sVSxj++P909EgjKP1c/BoFevc0/eJ8XYlW50D9FH6yD+5PSPxGfQKWhbtQ/3h7VxkdJ1j+qnmno7SPYP3ce/gmU/tk/Q56SKzrZ2z8QHidN4LPdP92du26Gjt8/1Q4oSJa04D+7TvJY6aHhPxSZKIPqAEM/97MIwXVJnj+TEfwWcv2tP5XkuaYUa7Y/YcD1QXDXvT8Wzpju5aHCP/y7NrwTWMY/4qnUiUEOyj/Il3JXb8TNP9dCiJJOvdA/yjlXeWWY0j+9MCZgfHPUP68n9UaTTtY/oh7ELaop2D+VFZMUwQTaP4gMYvvX39s/ewMx4u663T9u+v/IBZbfP7B451eOuOA/KvROyxmm4T/ZpA5IbQVDP7pW1yqmUJ4/Jxy3dZAErj94RgHrZnC2P93+JpuF3r0/oVumJVKmwj/UN7l9YV3GPwYUzNVwFMo/OfDeLYDLzT825vjCR8HQP09UAm/PnNI/aMILG1d41D+BMBXH3lPWP5qeHnNmL9g/tAwoH+4K2j/NejHLdebbP+boOnf9wd0//1ZEI4Wd3z+M4qZnhrzgP5mZqz1KquE/",
          "dtype": "f8",
          "shape": "312, 20"
         }
        },
        {
         "marker": {
          "opacity": 0.8,
          "size": 3
         },
         "mode": "markers",
         "type": "scatter3d",
         "x": {
          "bdata": "AAAAAABAWUAAAAAAAOBiQAAAAAAAIGlAAAAAAABgb0AAAAAAANByQAAAAAAA8HVAAAAAAADgYkAAAAAAACBpQAAAAAAAYG9AAAAAAADQckAAAAAAAPB1QAAAAAAAEHlAAAAAAAAwfEAAAAAAAFB/QAAAAAAAOIFAAAAAAABgb0AAAAAAANByQAAAAAAA8HVAAAAAAAAQeUAAAAAAADB8QAAAAAAAUH9AAAAAAAA4gUAAAAAAAMiCQAAAAAAAWIRAAAAAAADohUAAAAAAAHiHQAAAAAAACIlAAAAAAACYikAAAAAAACiMQAAAAAAAuI1A",
          "dtype": "f8"
         },
         "y": {
          "bdata": "AAAAAAAAQEAAAAAAAABAQAAAAAAAAEBAAAAAAAAAQEAAAAAAAABAQAAAAAAAAEBAAAAAAAAAWEAAAAAAAABYQAAAAAAAAFhAAAAAAAAAWEAAAAAAAABYQAAAAAAAAFhAAAAAAAAAWEAAAAAAAABYQAAAAAAAAFhAAAAAAAAAZEAAAAAAAABkQAAAAAAAAGRAAAAAAAAAZEAAAAAAAABkQAAAAAAAAGRAAAAAAAAAZEAAAAAAAABkQAAAAAAAAGRAAAAAAAAAZEAAAAAAAABkQAAAAAAAAGRAAAAAAAAAZEAAAAAAAABkQAAAAAAAAGRA",
          "dtype": "f8"
         },
         "z": {
          "bdata": "DEJ9YKtepT9ktpLw6/KvP10VVECWQ7U/ic9eiLaNuj+1iWnQ1te/P/AhOoz7kMI/K3oheZD9rz/aU4WZq0q1P5/qefaOlro/ZIFuU3Livz8UjDHYKpfCP3fXq4YcPcU/2SImNQ7jxz88bqDj/4jKP565GpLxLs0/tQWVZGefuj8TeXPWDe2/Pzn2KCRancI/6C8YXS1ExT+XaQeWAOvHP0aj9s7Tkco/9dzlB6c4zT+kFtVAet/PPyoo4rwmQ9E/AcVZWZCW0j/ZYdH1+enTP7D+SJJjPdU/iJvALs2Q1j9fODjLNuTXPzfVr2egN9k/",
          "dtype": "f8"
         }
        }
       ],
       "layout": {
        "margin": {
         "b": 0,
         "l": 0,
         "r": 0,
         "t": 40
        },
        "scene": {
         "xaxis": {
          "title": {
           "text": "S (batch size)"
          }
         },
         "yaxis": {
          "title": {
           "text": "L (tokens)"
          }
         },
         "zaxis": {
          "title": {
           "text": "Time per token (s)"
          }
         }
        },
        "template": {
         "data": {
          "bar": [
           {
            "error_x": {
             "color": "#2a3f5f"
            },
            "error_y": {
             "color": "#2a3f5f"
            },
            "marker": {
             "line": {
              "color": "#E5ECF6",
              "width": 0.5
             },
             "pattern": {
              "fillmode": "overlay",
              "size": 10,
              "solidity": 0.2
             }
            },
            "type": "bar"
           }
          ],
          "barpolar": [
           {
            "marker": {
             "line": {
              "color": "#E5ECF6",
              "width": 0.5
             },
             "pattern": {
              "fillmode": "overlay",
              "size": 10,
              "solidity": 0.2
             }
            },
            "type": "barpolar"
           }
          ],
          "carpet": [
           {
            "aaxis": {
             "endlinecolor": "#2a3f5f",
             "gridcolor": "white",
             "linecolor": "white",
             "minorgridcolor": "white",
             "startlinecolor": "#2a3f5f"
            },
            "baxis": {
             "endlinecolor": "#2a3f5f",
             "gridcolor": "white",
             "linecolor": "white",
             "minorgridcolor": "white",
             "startlinecolor": "#2a3f5f"
            },
            "type": "carpet"
           }
          ],
          "choropleth": [
           {
            "colorbar": {
             "outlinewidth": 0,
             "ticks": ""
            },
            "type": "choropleth"
           }
          ],
          "contour": [
           {
            "colorbar": {
             "outlinewidth": 0,
             "ticks": ""
            },
            "colorscale": [
             [
              0,
              "#0d0887"
             ],
             [
              0.1111111111111111,
              "#46039f"
             ],
             [
              0.2222222222222222,
              "#7201a8"
             ],
             [
              0.3333333333333333,
              "#9c179e"
             ],
             [
              0.4444444444444444,
              "#bd3786"
             ],
             [
              0.5555555555555556,
              "#d8576b"
             ],
             [
              0.6666666666666666,
              "#ed7953"
             ],
             [
              0.7777777777777778,
              "#fb9f3a"
             ],
             [
              0.8888888888888888,
              "#fdca26"
             ],
             [
              1,
              "#f0f921"
             ]
            ],
            "type": "contour"
           }
          ],
          "contourcarpet": [
           {
            "colorbar": {
             "outlinewidth": 0,
             "ticks": ""
            },
            "type": "contourcarpet"
           }
          ],
          "heatmap": [
           {
            "colorbar": {
             "outlinewidth": 0,
             "ticks": ""
            },
            "colorscale": [
             [
              0,
              "#0d0887"
             ],
             [
              0.1111111111111111,
              "#46039f"
             ],
             [
              0.2222222222222222,
              "#7201a8"
             ],
             [
              0.3333333333333333,
              "#9c179e"
             ],
             [
              0.4444444444444444,
              "#bd3786"
             ],
             [
              0.5555555555555556,
              "#d8576b"
             ],
             [
              0.6666666666666666,
              "#ed7953"
             ],
             [
              0.7777777777777778,
              "#fb9f3a"
             ],
             [
              0.8888888888888888,
              "#fdca26"
             ],
             [
              1,
              "#f0f921"
             ]
            ],
            "type": "heatmap"
           }
          ],
          "histogram": [
           {
            "marker": {
             "pattern": {
              "fillmode": "overlay",
              "size": 10,
              "solidity": 0.2
             }
            },
            "type": "histogram"
           }
          ],
          "histogram2d": [
           {
            "colorbar": {
             "outlinewidth": 0,
             "ticks": ""
            },
            "colorscale": [
             [
              0,
              "#0d0887"
             ],
             [
              0.1111111111111111,
              "#46039f"
             ],
             [
              0.2222222222222222,
              "#7201a8"
             ],
             [
              0.3333333333333333,
              "#9c179e"
             ],
             [
              0.4444444444444444,
              "#bd3786"
             ],
             [
              0.5555555555555556,
              "#d8576b"
             ],
             [
              0.6666666666666666,
              "#ed7953"
             ],
             [
              0.7777777777777778,
              "#fb9f3a"
             ],
             [
              0.8888888888888888,
              "#fdca26"
             ],
             [
              1,
              "#f0f921"
             ]
            ],
            "type": "histogram2d"
           }
          ],
          "histogram2dcontour": [
           {
            "colorbar": {
             "outlinewidth": 0,
             "ticks": ""
            },
            "colorscale": [
             [
              0,
              "#0d0887"
             ],
             [
              0.1111111111111111,
              "#46039f"
             ],
             [
              0.2222222222222222,
              "#7201a8"
             ],
             [
              0.3333333333333333,
              "#9c179e"
             ],
             [
              0.4444444444444444,
              "#bd3786"
             ],
             [
              0.5555555555555556,
              "#d8576b"
             ],
             [
              0.6666666666666666,
              "#ed7953"
             ],
             [
              0.7777777777777778,
              "#fb9f3a"
             ],
             [
              0.8888888888888888,
              "#fdca26"
             ],
             [
              1,
              "#f0f921"
             ]
            ],
            "type": "histogram2dcontour"
           }
          ],
          "mesh3d": [
           {
            "colorbar": {
             "outlinewidth": 0,
             "ticks": ""
            },
            "type": "mesh3d"
           }
          ],
          "parcoords": [
           {
            "line": {
             "colorbar": {
              "outlinewidth": 0,
              "ticks": ""
             }
            },
            "type": "parcoords"
           }
          ],
          "pie": [
           {
            "automargin": true,
            "type": "pie"
           }
          ],
          "scatter": [
           {
            "fillpattern": {
             "fillmode": "overlay",
             "size": 10,
             "solidity": 0.2
            },
            "type": "scatter"
           }
          ],
          "scatter3d": [
           {
            "line": {
             "colorbar": {
              "outlinewidth": 0,
              "ticks": ""
             }
            },
            "marker": {
             "colorbar": {
              "outlinewidth": 0,
              "ticks": ""
             }
            },
            "type": "scatter3d"
           }
          ],
          "scattercarpet": [
           {
            "marker": {
             "colorbar": {
              "outlinewidth": 0,
              "ticks": ""
             }
            },
            "type": "scattercarpet"
           }
          ],
          "scattergeo": [
           {
            "marker": {
             "colorbar": {
              "outlinewidth": 0,
              "ticks": ""
             }
            },
            "type": "scattergeo"
           }
          ],
          "scattergl": [
           {
            "marker": {
             "colorbar": {
              "outlinewidth": 0,
              "ticks": ""
             }
            },
            "type": "scattergl"
           }
          ],
          "scattermap": [
           {
            "marker": {
             "colorbar": {
              "outlinewidth": 0,
              "ticks": ""
             }
            },
            "type": "scattermap"
           }
          ],
          "scattermapbox": [
           {
            "marker": {
             "colorbar": {
              "outlinewidth": 0,
              "ticks": ""
             }
            },
            "type": "scattermapbox"
           }
          ],
          "scatterpolar": [
           {
            "marker": {
             "colorbar": {
              "outlinewidth": 0,
              "ticks": ""
             }
            },
            "type": "scatterpolar"
           }
          ],
          "scatterpolargl": [
           {
            "marker": {
             "colorbar": {
              "outlinewidth": 0,
              "ticks": ""
             }
            },
            "type": "scatterpolargl"
           }
          ],
          "scatterternary": [
           {
            "marker": {
             "colorbar": {
              "outlinewidth": 0,
              "ticks": ""
             }
            },
            "type": "scatterternary"
           }
          ],
          "surface": [
           {
            "colorbar": {
             "outlinewidth": 0,
             "ticks": ""
            },
            "colorscale": [
             [
              0,
              "#0d0887"
             ],
             [
              0.1111111111111111,
              "#46039f"
             ],
             [
              0.2222222222222222,
              "#7201a8"
             ],
             [
              0.3333333333333333,
              "#9c179e"
             ],
             [
              0.4444444444444444,
              "#bd3786"
             ],
             [
              0.5555555555555556,
              "#d8576b"
             ],
             [
              0.6666666666666666,
              "#ed7953"
             ],
             [
              0.7777777777777778,
              "#fb9f3a"
             ],
             [
              0.8888888888888888,
              "#fdca26"
             ],
             [
              1,
              "#f0f921"
             ]
            ],
            "type": "surface"
           }
          ],
          "table": [
           {
            "cells": {
             "fill": {
              "color": "#EBF0F8"
             },
             "line": {
              "color": "white"
             }
            },
            "header": {
             "fill": {
              "color": "#C8D4E3"
             },
             "line": {
              "color": "white"
             }
            },
            "type": "table"
           }
          ]
         },
         "layout": {
          "annotationdefaults": {
           "arrowcolor": "#2a3f5f",
           "arrowhead": 0,
           "arrowwidth": 1
          },
          "autotypenumbers": "strict",
          "coloraxis": {
           "colorbar": {
            "outlinewidth": 0,
            "ticks": ""
           }
          },
          "colorscale": {
           "diverging": [
            [
             0,
             "#8e0152"
            ],
            [
             0.1,
             "#c51b7d"
            ],
            [
             0.2,
             "#de77ae"
            ],
            [
             0.3,
             "#f1b6da"
            ],
            [
             0.4,
             "#fde0ef"
            ],
            [
             0.5,
             "#f7f7f7"
            ],
            [
             0.6,
             "#e6f5d0"
            ],
            [
             0.7,
             "#b8e186"
            ],
            [
             0.8,
             "#7fbc41"
            ],
            [
             0.9,
             "#4d9221"
            ],
            [
             1,
             "#276419"
            ]
           ],
           "sequential": [
            [
             0,
             "#0d0887"
            ],
            [
             0.1111111111111111,
             "#46039f"
            ],
            [
             0.2222222222222222,
             "#7201a8"
            ],
            [
             0.3333333333333333,
             "#9c179e"
            ],
            [
             0.4444444444444444,
             "#bd3786"
            ],
            [
             0.5555555555555556,
             "#d8576b"
            ],
            [
             0.6666666666666666,
             "#ed7953"
            ],
            [
             0.7777777777777778,
             "#fb9f3a"
            ],
            [
             0.8888888888888888,
             "#fdca26"
            ],
            [
             1,
             "#f0f921"
            ]
           ],
           "sequentialminus": [
            [
             0,
             "#0d0887"
            ],
            [
             0.1111111111111111,
             "#46039f"
            ],
            [
             0.2222222222222222,
             "#7201a8"
            ],
            [
             0.3333333333333333,
             "#9c179e"
            ],
            [
             0.4444444444444444,
             "#bd3786"
            ],
            [
             0.5555555555555556,
             "#d8576b"
            ],
            [
             0.6666666666666666,
             "#ed7953"
            ],
            [
             0.7777777777777778,
             "#fb9f3a"
            ],
            [
             0.8888888888888888,
             "#fdca26"
            ],
            [
             1,
             "#f0f921"
            ]
           ]
          },
          "colorway": [
           "#636efa",
           "#EF553B",
           "#00cc96",
           "#ab63fa",
           "#FFA15A",
           "#19d3f3",
           "#FF6692",
           "#B6E880",
           "#FF97FF",
           "#FECB52"
          ],
          "font": {
           "color": "#2a3f5f"
          },
          "geo": {
           "bgcolor": "white",
           "lakecolor": "white",
           "landcolor": "#E5ECF6",
           "showlakes": true,
           "showland": true,
           "subunitcolor": "white"
          },
          "hoverlabel": {
           "align": "left"
          },
          "hovermode": "closest",
          "mapbox": {
           "style": "light"
          },
          "paper_bgcolor": "white",
          "plot_bgcolor": "#E5ECF6",
          "polar": {
           "angularaxis": {
            "gridcolor": "white",
            "linecolor": "white",
            "ticks": ""
           },
           "bgcolor": "#E5ECF6",
           "radialaxis": {
            "gridcolor": "white",
            "linecolor": "white",
            "ticks": ""
           }
          },
          "scene": {
           "xaxis": {
            "backgroundcolor": "#E5ECF6",
            "gridcolor": "white",
            "gridwidth": 2,
            "linecolor": "white",
            "showbackground": true,
            "ticks": "",
            "zerolinecolor": "white"
           },
           "yaxis": {
            "backgroundcolor": "#E5ECF6",
            "gridcolor": "white",
            "gridwidth": 2,
            "linecolor": "white",
            "showbackground": true,
            "ticks": "",
            "zerolinecolor": "white"
           },
           "zaxis": {
            "backgroundcolor": "#E5ECF6",
            "gridcolor": "white",
            "gridwidth": 2,
            "linecolor": "white",
            "showbackground": true,
            "ticks": "",
            "zerolinecolor": "white"
           }
          },
          "shapedefaults": {
           "line": {
            "color": "#2a3f5f"
           }
          },
          "ternary": {
           "aaxis": {
            "gridcolor": "white",
            "linecolor": "white",
            "ticks": ""
           },
           "baxis": {
            "gridcolor": "white",
            "linecolor": "white",
            "ticks": ""
           },
           "bgcolor": "#E5ECF6",
           "caxis": {
            "gridcolor": "white",
            "linecolor": "white",
            "ticks": ""
           }
          },
          "title": {
           "x": 0.05
          },
          "xaxis": {
           "automargin": true,
           "gridcolor": "white",
           "linecolor": "white",
           "ticks": "",
           "title": {
            "standoff": 15
           },
           "zerolinecolor": "white",
           "zerolinewidth": 2
          },
          "yaxis": {
           "automargin": true,
           "gridcolor": "white",
           "linecolor": "white",
           "ticks": "",
           "title": {
            "standoff": 15
           },
           "zerolinecolor": "white",
           "zerolinewidth": 2
          }
         }
        },
        "title": {
         "text": "Decode — T_compute(S,L) per token"
        }
       }
      }
     },
     "metadata": {},
     "output_type": "display_data"
    },
    {
     "data": {
      "application/vnd.plotly.v1+json": {
       "config": {
        "plotlyServerURL": "https://plot.ly"
       },
       "data": [
        {
         "showscale": true,
         "type": "surface",
         "x": {
          "bdata": "AAAAAAAA8D8AAAAAAIBJQAAAAAAAQFlAAAAAAADgYkAAAAAAACBpQAAAAAAAYG9AAAAAAADQckAAAAAAAPB1QAAAAAAAEHlAAAAAAAAwfEAAAAAAAFB/QAAAAAAAOIFAAAAAAADIgkAAAAAAAFiEQAAAAAAA6IVAAAAAAAB4h0AAAAAAAAiJQAAAAAAAmIpAAAAAAAAojEAAAAAAALiNQA==",
          "dtype": "f8"
         },
         "y": {
          "bdata": "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",
          "dtype": "f8"
         },
         "z": {
          "bdata": "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",
          "dtype": "f8",
          "shape": "312, 20"
         }
        },
        {
         "marker": {
          "opacity": 0.8,
          "size": 3
         },
         "mode": "markers",
         "type": "scatter3d",
         "x": {
          "bdata": "AAAAAABAWUAAAAAAAOBiQAAAAAAAIGlAAAAAAABgb0AAAAAAANByQAAAAAAA8HVAAAAAAADgYkAAAAAAACBpQAAAAAAAYG9AAAAAAADQckAAAAAAAPB1QAAAAAAAEHlAAAAAAAAwfEAAAAAAAFB/QAAAAAAAOIFAAAAAAABgb0AAAAAAANByQAAAAAAA8HVAAAAAAAAQeUAAAAAAADB8QAAAAAAAUH9AAAAAAAA4gUAAAAAAAMiCQAAAAAAAWIRAAAAAAADohUAAAAAAAHiHQAAAAAAACIlAAAAAAACYikAAAAAAACiMQAAAAAAAuI1A",
          "dtype": "f8"
         },
         "y": {
          "bdata": "AAAAAAAAQEAAAAAAAABAQAAAAAAAAEBAAAAAAAAAQEAAAAAAAABAQAAAAAAAAEBAAAAAAAAAWEAAAAAAAABYQAAAAAAAAFhAAAAAAAAAWEAAAAAAAABYQAAAAAAAAFhAAAAAAAAAWEAAAAAAAABYQAAAAAAAAFhAAAAAAAAAZEAAAAAAAABkQAAAAAAAAGRAAAAAAAAAZEAAAAAAAABkQAAAAAAAAGRAAAAAAAAAZEAAAAAAAABkQAAAAAAAAGRAAAAAAAAAZEAAAAAAAABkQAAAAAAAAGRAAAAAAAAAZEAAAAAAAABkQAAAAAAAAGRA",
          "dtype": "f8"
         },
         "z": {
          "bdata": "DEJ9YKtepT9ktpLw6/KvP10VVECWQ7U/ic9eiLaNuj+1iWnQ1te/P/AhOoz7kMI/K3oheZD9rz/aU4WZq0q1P5/qefaOlro/ZIFuU3Livz8UjDHYKpfCP3fXq4YcPcU/2SImNQ7jxz88bqDj/4jKP565GpLxLs0/tQWVZGefuj8TeXPWDe2/Pzn2KCRancI/6C8YXS1ExT+XaQeWAOvHP0aj9s7Tkco/9dzlB6c4zT+kFtVAet/PPyoo4rwmQ9E/AcVZWZCW0j/ZYdH1+enTP7D+SJJjPdU/iJvALs2Q1j9fODjLNuTXPzfVr2egN9k/",
          "dtype": "f8"
         }
        }
       ],
       "layout": {
        "margin": {
         "b": 0,
         "l": 0,
         "r": 0,
         "t": 40
        },
        "scene": {
         "xaxis": {
          "title": {
           "text": "S (batch size)"
          }
         },
         "yaxis": {
          "title": {
           "text": "L (tokens)"
          }
         },
         "zaxis": {
          "title": {
           "text": "Time per token (s)"
          }
         }
        },
        "template": {
         "data": {
          "bar": [
           {
            "error_x": {
             "color": "#2a3f5f"
            },
            "error_y": {
             "color": "#2a3f5f"
            },
            "marker": {
             "line": {
              "color": "#E5ECF6",
              "width": 0.5
             },
             "pattern": {
              "fillmode": "overlay",
              "size": 10,
              "solidity": 0.2
             }
            },
            "type": "bar"
           }
          ],
          "barpolar": [
           {
            "marker": {
             "line": {
              "color": "#E5ECF6",
              "width": 0.5
             },
             "pattern": {
              "fillmode": "overlay",
              "size": 10,
              "solidity": 0.2
             }
            },
            "type": "barpolar"
           }
          ],
          "carpet": [
           {
            "aaxis": {
             "endlinecolor": "#2a3f5f",
             "gridcolor": "white",
             "linecolor": "white",
             "minorgridcolor": "white",
             "startlinecolor": "#2a3f5f"
            },
            "baxis": {
             "endlinecolor": "#2a3f5f",
             "gridcolor": "white",
             "linecolor": "white",
             "minorgridcolor": "white",
             "startlinecolor": "#2a3f5f"
            },
            "type": "carpet"
           }
          ],
          "choropleth": [
           {
            "colorbar": {
             "outlinewidth": 0,
             "ticks": ""
            },
            "type": "choropleth"
           }
          ],
          "contour": [
           {
            "colorbar": {
             "outlinewidth": 0,
             "ticks": ""
            },
            "colorscale": [
             [
              0,
              "#0d0887"
             ],
             [
              0.1111111111111111,
              "#46039f"
             ],
             [
              0.2222222222222222,
              "#7201a8"
             ],
             [
              0.3333333333333333,
              "#9c179e"
             ],
             [
              0.4444444444444444,
              "#bd3786"
             ],
             [
              0.5555555555555556,
              "#d8576b"
             ],
             [
              0.6666666666666666,
              "#ed7953"
             ],
             [
              0.7777777777777778,
              "#fb9f3a"
             ],
             [
              0.8888888888888888,
              "#fdca26"
             ],
             [
              1,
              "#f0f921"
             ]
            ],
            "type": "contour"
           }
          ],
          "contourcarpet": [
           {
            "colorbar": {
             "outlinewidth": 0,
             "ticks": ""
            },
            "type": "contourcarpet"
           }
          ],
          "heatmap": [
           {
            "colorbar": {
             "outlinewidth": 0,
             "ticks": ""
            },
            "colorscale": [
             [
              0,
              "#0d0887"
             ],
             [
              0.1111111111111111,
              "#46039f"
             ],
             [
              0.2222222222222222,
              "#7201a8"
             ],
             [
              0.3333333333333333,
              "#9c179e"
             ],
             [
              0.4444444444444444,
              "#bd3786"
             ],
             [
              0.5555555555555556,
              "#d8576b"
             ],
             [
              0.6666666666666666,
              "#ed7953"
             ],
             [
              0.7777777777777778,
              "#fb9f3a"
             ],
             [
              0.8888888888888888,
              "#fdca26"
             ],
             [
              1,
              "#f0f921"
             ]
            ],
            "type": "heatmap"
           }
          ],
          "histogram": [
           {
            "marker": {
             "pattern": {
              "fillmode": "overlay",
              "size": 10,
              "solidity": 0.2
             }
            },
            "type": "histogram"
           }
          ],
          "histogram2d": [
           {
            "colorbar": {
             "outlinewidth": 0,
             "ticks": ""
            },
            "colorscale": [
             [
              0,
              "#0d0887"
             ],
             [
              0.1111111111111111,
              "#46039f"
             ],
             [
              0.2222222222222222,
              "#7201a8"
             ],
             [
              0.3333333333333333,
              "#9c179e"
             ],
             [
              0.4444444444444444,
              "#bd3786"
             ],
             [
              0.5555555555555556,
              "#d8576b"
             ],
             [
              0.6666666666666666,
              "#ed7953"
             ],
             [
              0.7777777777777778,
              "#fb9f3a"
             ],
             [
              0.8888888888888888,
              "#fdca26"
             ],
             [
              1,
              "#f0f921"
             ]
            ],
            "type": "histogram2d"
           }
          ],
          "histogram2dcontour": [
           {
            "colorbar": {
             "outlinewidth": 0,
             "ticks": ""
            },
            "colorscale": [
             [
              0,
              "#0d0887"
             ],
             [
              0.1111111111111111,
              "#46039f"
             ],
             [
              0.2222222222222222,
              "#7201a8"
             ],
             [
              0.3333333333333333,
              "#9c179e"
             ],
             [
              0.4444444444444444,
              "#bd3786"
             ],
             [
              0.5555555555555556,
              "#d8576b"
             ],
             [
              0.6666666666666666,
              "#ed7953"
             ],
             [
              0.7777777777777778,
              "#fb9f3a"
             ],
             [
              0.8888888888888888,
              "#fdca26"
             ],
             [
              1,
              "#f0f921"
             ]
            ],
            "type": "histogram2dcontour"
           }
          ],
          "mesh3d": [
           {
            "colorbar": {
             "outlinewidth": 0,
             "ticks": ""
            },
            "type": "mesh3d"
           }
          ],
          "parcoords": [
           {
            "line": {
             "colorbar": {
              "outlinewidth": 0,
              "ticks": ""
             }
            },
            "type": "parcoords"
           }
          ],
          "pie": [
           {
            "automargin": true,
            "type": "pie"
           }
          ],
          "scatter": [
           {
            "fillpattern": {
             "fillmode": "overlay",
             "size": 10,
             "solidity": 0.2
            },
            "type": "scatter"
           }
          ],
          "scatter3d": [
           {
            "line": {
             "colorbar": {
              "outlinewidth": 0,
              "ticks": ""
             }
            },
            "marker": {
             "colorbar": {
              "outlinewidth": 0,
              "ticks": ""
             }
            },
            "type": "scatter3d"
           }
          ],
          "scattercarpet": [
           {
            "marker": {
             "colorbar": {
              "outlinewidth": 0,
              "ticks": ""
             }
            },
            "type": "scattercarpet"
           }
          ],
          "scattergeo": [
           {
            "marker": {
             "colorbar": {
              "outlinewidth": 0,
              "ticks": ""
             }
            },
            "type": "scattergeo"
           }
          ],
          "scattergl": [
           {
            "marker": {
             "colorbar": {
              "outlinewidth": 0,
              "ticks": ""
             }
            },
            "type": "scattergl"
           }
          ],
          "scattermap": [
           {
            "marker": {
             "colorbar": {
              "outlinewidth": 0,
              "ticks": ""
             }
            },
            "type": "scattermap"
           }
          ],
          "scattermapbox": [
           {
            "marker": {
             "colorbar": {
              "outlinewidth": 0,
              "ticks": ""
             }
            },
            "type": "scattermapbox"
           }
          ],
          "scatterpolar": [
           {
            "marker": {
             "colorbar": {
              "outlinewidth": 0,
              "ticks": ""
             }
            },
            "type": "scatterpolar"
           }
          ],
          "scatterpolargl": [
           {
            "marker": {
             "colorbar": {
              "outlinewidth": 0,
              "ticks": ""
             }
            },
            "type": "scatterpolargl"
           }
          ],
          "scatterternary": [
           {
            "marker": {
             "colorbar": {
              "outlinewidth": 0,
              "ticks": ""
             }
            },
            "type": "scatterternary"
           }
          ],
          "surface": [
           {
            "colorbar": {
             "outlinewidth": 0,
             "ticks": ""
            },
            "colorscale": [
             [
              0,
              "#0d0887"
             ],
             [
              0.1111111111111111,
              "#46039f"
             ],
             [
              0.2222222222222222,
              "#7201a8"
             ],
             [
              0.3333333333333333,
              "#9c179e"
             ],
             [
              0.4444444444444444,
              "#bd3786"
             ],
             [
              0.5555555555555556,
              "#d8576b"
             ],
             [
              0.6666666666666666,
              "#ed7953"
             ],
             [
              0.7777777777777778,
              "#fb9f3a"
             ],
             [
              0.8888888888888888,
              "#fdca26"
             ],
             [
              1,
              "#f0f921"
             ]
            ],
            "type": "surface"
           }
          ],
          "table": [
           {
            "cells": {
             "fill": {
              "color": "#EBF0F8"
             },
             "line": {
              "color": "white"
             }
            },
            "header": {
             "fill": {
              "color": "#C8D4E3"
             },
             "line": {
              "color": "white"
             }
            },
            "type": "table"
           }
          ]
         },
         "layout": {
          "annotationdefaults": {
           "arrowcolor": "#2a3f5f",
           "arrowhead": 0,
           "arrowwidth": 1
          },
          "autotypenumbers": "strict",
          "coloraxis": {
           "colorbar": {
            "outlinewidth": 0,
            "ticks": ""
           }
          },
          "colorscale": {
           "diverging": [
            [
             0,
             "#8e0152"
            ],
            [
             0.1,
             "#c51b7d"
            ],
            [
             0.2,
             "#de77ae"
            ],
            [
             0.3,
             "#f1b6da"
            ],
            [
             0.4,
             "#fde0ef"
            ],
            [
             0.5,
             "#f7f7f7"
            ],
            [
             0.6,
             "#e6f5d0"
            ],
            [
             0.7,
             "#b8e186"
            ],
            [
             0.8,
             "#7fbc41"
            ],
            [
             0.9,
             "#4d9221"
            ],
            [
             1,
             "#276419"
            ]
           ],
           "sequential": [
            [
             0,
             "#0d0887"
            ],
            [
             0.1111111111111111,
             "#46039f"
            ],
            [
             0.2222222222222222,
             "#7201a8"
            ],
            [
             0.3333333333333333,
             "#9c179e"
            ],
            [
             0.4444444444444444,
             "#bd3786"
            ],
            [
             0.5555555555555556,
             "#d8576b"
            ],
            [
             0.6666666666666666,
             "#ed7953"
            ],
            [
             0.7777777777777778,
             "#fb9f3a"
            ],
            [
             0.8888888888888888,
             "#fdca26"
            ],
            [
             1,
             "#f0f921"
            ]
           ],
           "sequentialminus": [
            [
             0,
             "#0d0887"
            ],
            [
             0.1111111111111111,
             "#46039f"
            ],
            [
             0.2222222222222222,
             "#7201a8"
            ],
            [
             0.3333333333333333,
             "#9c179e"
            ],
            [
             0.4444444444444444,
             "#bd3786"
            ],
            [
             0.5555555555555556,
             "#d8576b"
            ],
            [
             0.6666666666666666,
             "#ed7953"
            ],
            [
             0.7777777777777778,
             "#fb9f3a"
            ],
            [
             0.8888888888888888,
             "#fdca26"
            ],
            [
             1,
             "#f0f921"
            ]
           ]
          },
          "colorway": [
           "#636efa",
           "#EF553B",
           "#00cc96",
           "#ab63fa",
           "#FFA15A",
           "#19d3f3",
           "#FF6692",
           "#B6E880",
           "#FF97FF",
           "#FECB52"
          ],
          "font": {
           "color": "#2a3f5f"
          },
          "geo": {
           "bgcolor": "white",
           "lakecolor": "white",
           "landcolor": "#E5ECF6",
           "showlakes": true,
           "showland": true,
           "subunitcolor": "white"
          },
          "hoverlabel": {
           "align": "left"
          },
          "hovermode": "closest",
          "mapbox": {
           "style": "light"
          },
          "paper_bgcolor": "white",
          "plot_bgcolor": "#E5ECF6",
          "polar": {
           "angularaxis": {
            "gridcolor": "white",
            "linecolor": "white",
            "ticks": ""
           },
           "bgcolor": "#E5ECF6",
           "radialaxis": {
            "gridcolor": "white",
            "linecolor": "white",
            "ticks": ""
           }
          },
          "scene": {
           "xaxis": {
            "backgroundcolor": "#E5ECF6",
            "gridcolor": "white",
            "gridwidth": 2,
            "linecolor": "white",
            "showbackground": true,
            "ticks": "",
            "zerolinecolor": "white"
           },
           "yaxis": {
            "backgroundcolor": "#E5ECF6",
            "gridcolor": "white",
            "gridwidth": 2,
            "linecolor": "white",
            "showbackground": true,
            "ticks": "",
            "zerolinecolor": "white"
           },
           "zaxis": {
            "backgroundcolor": "#E5ECF6",
            "gridcolor": "white",
            "gridwidth": 2,
            "linecolor": "white",
            "showbackground": true,
            "ticks": "",
            "zerolinecolor": "white"
           }
          },
          "shapedefaults": {
           "line": {
            "color": "#2a3f5f"
           }
          },
          "ternary": {
           "aaxis": {
            "gridcolor": "white",
            "linecolor": "white",
            "ticks": ""
           },
           "baxis": {
            "gridcolor": "white",
            "linecolor": "white",
            "ticks": ""
           },
           "bgcolor": "#E5ECF6",
           "caxis": {
            "gridcolor": "white",
            "linecolor": "white",
            "ticks": ""
           }
          },
          "title": {
           "x": 0.05
          },
          "xaxis": {
           "automargin": true,
           "gridcolor": "white",
           "linecolor": "white",
           "ticks": "",
           "title": {
            "standoff": 15
           },
           "zerolinecolor": "white",
           "zerolinewidth": 2
          },
          "yaxis": {
           "automargin": true,
           "gridcolor": "white",
           "linecolor": "white",
           "ticks": "",
           "title": {
            "standoff": 15
           },
           "zerolinecolor": "white",
           "zerolinewidth": 2
          }
         }
        },
        "title": {
         "text": "Decode — T_memory(S,L) per token"
        }
       }
      }
     },
     "metadata": {},
     "output_type": "display_data"
    },
    {
     "data": {
      "application/vnd.plotly.v1+json": {
       "config": {
        "plotlyServerURL": "https://plot.ly"
       },
       "data": [
        {
         "showscale": true,
         "type": "surface",
         "x": {
          "bdata": "AAAAAAAA8D8AAAAAAIBJQAAAAAAAQFlAAAAAAADgYkAAAAAAACBpQAAAAAAAYG9AAAAAAADQckAAAAAAAPB1QAAAAAAAEHlAAAAAAAAwfEAAAAAAAFB/QAAAAAAAOIFAAAAAAADIgkAAAAAAAFiEQAAAAAAA6IVAAAAAAAB4h0AAAAAAAAiJQAAAAAAAmIpAAAAAAAAojEAAAAAAALiNQA==",
          "dtype": "f8"
         },
         "y": {
          "bdata": "AAAAAAAAQEAAAAAAAABYQAAAAAAAAGRAAAAAAAAAbEAAAAAAAAByQAAAAAAAAHZAAAAAAAAAekAAAAAAAAB+QAAAAAAAAIFAAAAAAAAAg0AAAAAAAACFQAAAAAAAAIdAAAAAAAAAiUAAAAAAAACLQAAAAAAAAI1AAAAAAAAAj0AAAAAAAICQQAAAAAAAgJFAAAAAAACAkkAAAAAAAICTQAAAAAAAgJRAAAAAAACAlUAAAAAAAICWQAAAAAAAgJdAAAAAAACAmEAAAAAAAICZQAAAAAAAgJpAAAAAAACAm0AAAAAAAICcQAAAAAAAgJ1AAAAAAACAnkAAAAAAAICfQAAAAAAAQKBAAAAAAADAoEAAAAAAAEChQAAAAAAAwKFAAAAAAABAokAAAAAAAMCiQAAAAAAAQKNAAAAAAADAo0AAAAAAAECkQAAAAAAAwKRAAAAAAABApUAAAAAAAMClQAAAAAAAQKZAAAAAAADApkAAAAAAAECnQAAAAAAAwKdAAAAAAABAqEAAAAAAAMCoQAAAAAAAQKlAAAAAAADAqUAAAAAAAECqQAAAAAAAwKpAAAAAAABAq0AAAAAAAMCrQAAAAAAAQKxAAAAAAADArEAAAAAAAECtQAAAAAAAwK1AAAAAAABArkAAAAAAAMCuQAAAAAAAQK9AAAAAAADAr0AAAAAAACCwQAAAAAAAYLBAAAAAAACgsEAAAAAAAOCwQAAAAAAAILFAAAAAAABgsUAAAAAAAKCxQAAAAAAA4LFAAAAAAAAgskAAAAAAAGCyQAAAAAAAoLJAAAAAAADgskAAAAAAACCzQAAAAAAAYLNAAAAAAACgs0AAAAAAAOCzQAAAAAAAILRAAAAAAABgtEAAAAAAAKC0QAAAAAAA4LRAAAAAAAAgtUAAAAAAAGC1QAAAAAAAoLVAAAAAAADgtUAAAAAAACC2QAAAAAAAYLZAAAAAAACgtkAAAAAAAOC2QAAAAAAAILdAAAAAAABgt0AAAAAAAKC3QAAAAAAA4LdAAAAAAAAguEAAAAAAAGC4QAAAAAAAoLhAAAAAAADguEAAAAAAACC5QAAAAAAAYLlAAAAAAACguUAAAAAAAOC5QAAAAAAAILpAAAAAAABgukAAAAAAAKC6QAAAAAAA4LpAAAAAAAAgu0AAAAAAAGC7QAAAAAAAoLtAAAAAAADgu0AAAAAAACC8QAAAAAAAYLxAAAAAAACgvEAAAAAAAOC8QAAAAAAAIL1AAAAAAABgvUAAAAAAAKC9QAAAAAAA4L1AAAAAAAAgvkAAAAAAAGC+QAAAAAAAoL5AAAAAAADgvkAAAAAAACC/QAAAAAAAYL9AAAAAAACgv0AAAAAAAOC/QAAAAAAAEMBAAAAAAAAwwEAAAAAAAFDAQAAAAAAAcMBAAAAAAACQwEAAAAAAALDAQAAAAAAA0MBAAAAAAADwwEAAAAAAABDBQAAAAAAAMMFAAAAAAABQwUAAAAAAAHDBQAAAAAAAkMFAAAAAAACwwUAAAAAAANDBQAAAAAAA8MFAAAAAAAAQwkAAAAAAADDCQAAAAAAAUMJAAAAAAABwwkAAAAAAAJDCQAAAAAAAsMJAAAAAAADQwkAAAAAAAPDCQAAAAAAAEMNAAAAAAAAww0AAAAAAAFDDQAAAAAAAcMNAAAAAAACQw0AAAAAAALDDQAAAAAAA0MNAAAAAAADww0AAAAAAABDEQAAAAAAAMMRAAAAAAABQxEAAAAAAAHDEQAAAAAAAkMRAAAAAAACwxEAAAAAAANDEQAAAAAAA8MRAAAAAAAAQxUAAAAAAADDFQAAAAAAAUMVAAAAAAABwxUAAAAAAAJDFQAAAAAAAsMVAAAAAAADQxUAAAAAAAPDFQAAAAAAAEMZAAAAAAAAwxkAAAAAAAFDGQAAAAAAAcMZAAAAAAACQxkAAAAAAALDGQAAAAAAA0MZAAAAAAADwxkAAAAAAABDHQAAAAAAAMMdAAAAAAABQx0AAAAAAAHDHQAAAAAAAkMdAAAAAAACwx0AAAAAAANDHQAAAAAAA8MdAAAAAAAAQyEAAAAAAADDIQAAAAAAAUMhAAAAAAABwyEAAAAAAAJDIQAAAAAAAsMhAAAAAAADQyEAAAAAAAPDIQAAAAAAAEMlAAAAAAAAwyUAAAAAAAFDJQAAAAAAAcMlAAAAAAACQyUAAAAAAALDJQAAAAAAA0MlAAAAAAADwyUAAAAAAABDKQAAAAAAAMMpAAAAAAABQykAAAAAAAHDKQAAAAAAAkMpAAAAAAACwykAAAAAAANDKQAAAAAAA8MpAAAAAAAAQy0AAAAAAADDLQAAAAAAAUMtAAAAAAABwy0AAAAAAAJDLQAAAAAAAsMtAAAAAAADQy0AAAAAAAPDLQAAAAAAAEMxAAAAAAAAwzEAAAAAAAFDMQAAAAAAAcMxAAAAAAACQzEAAAAAAALDMQAAAAAAA0MxAAAAAAADwzEAAAAAAABDNQAAAAAAAMM1AAAAAAABQzUAAAAAAAHDNQAAAAAAAkM1AAAAAAACwzUAAAAAAANDNQAAAAAAA8M1AAAAAAAAQzkAAAAAAADDOQAAAAAAAUM5AAAAAAABwzkAAAAAAAJDOQAAAAAAAsM5AAAAAAADQzkAAAAAAAPDOQAAAAAAAEM9AAAAAAAAwz0AAAAAAAFDPQAAAAAAAcM9AAAAAAACQz0AAAAAAALDPQAAAAAAA0M9AAAAAAADwz0AAAAAAAAjQQAAAAAAAGNBAAAAAAAAo0EAAAAAAADjQQAAAAAAASNBAAAAAAABY0EAAAAAAAGjQQAAAAAAAeNBAAAAAAACI0EAAAAAAAJjQQAAAAAAAqNBAAAAAAAC40EAAAAAAAMjQQAAAAAAA2NBAAAAAAADo0EAAAAAAAPjQQAAAAAAACNFAAAAAAAAY0UAAAAAAACjRQAAAAAAAONFAAAAAAABI0UAAAAAAAFjRQAAAAAAAaNFAAAAAAAB40UAAAAAAAIjRQAAAAAAAmNFAAAAAAACo0UAAAAAAALjRQAAAAAAAyNFAAAAAAADY0UAAAAAAAOjRQAAAAAAA+NFAAAAAAAAI0kAAAAAAABjSQAAAAAAAKNJAAAAAAAA40kAAAAAAAEjSQAAAAAAAWNJAAAAAAABo0kAAAAAAAHjSQAAAAAAAiNJAAAAAAACY0kAAAAAAAKjSQAAAAAAAuNJAAAAAAADI0kAAAAAAANjSQAAAAAAA6NJAAAAAAAD40kAAAAAAAAjTQAAAAAAAGNNAAAAAAAAo00AAAAAAADjTQAAAAAAASNNAAAAAAABY00AAAAAAAGjTQAAAAAAAeNNA",
          "dtype": "f8"
         },
         "z": {
          "bdata": "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",
          "dtype": "f8",
          "shape": "312, 20"
         }
        },
        {
         "marker": {
          "opacity": 0.8,
          "size": 3
         },
         "mode": "markers",
         "type": "scatter3d",
         "x": {
          "bdata": "AAAAAABAWUAAAAAAAOBiQAAAAAAAIGlAAAAAAABgb0AAAAAAANByQAAAAAAA8HVAAAAAAADgYkAAAAAAACBpQAAAAAAAYG9AAAAAAADQckAAAAAAAPB1QAAAAAAAEHlAAAAAAAAwfEAAAAAAAFB/QAAAAAAAOIFAAAAAAABgb0AAAAAAANByQAAAAAAA8HVAAAAAAAAQeUAAAAAAADB8QAAAAAAAUH9AAAAAAAA4gUAAAAAAAMiCQAAAAAAAWIRAAAAAAADohUAAAAAAAHiHQAAAAAAACIlAAAAAAACYikAAAAAAACiMQAAAAAAAuI1A",
          "dtype": "f8"
         },
         "y": {
          "bdata": "AAAAAAAAQEAAAAAAAABAQAAAAAAAAEBAAAAAAAAAQEAAAAAAAABAQAAAAAAAAEBAAAAAAAAAWEAAAAAAAABYQAAAAAAAAFhAAAAAAAAAWEAAAAAAAABYQAAAAAAAAFhAAAAAAAAAWEAAAAAAAABYQAAAAAAAAFhAAAAAAAAAZEAAAAAAAABkQAAAAAAAAGRAAAAAAAAAZEAAAAAAAABkQAAAAAAAAGRAAAAAAAAAZEAAAAAAAABkQAAAAAAAAGRAAAAAAAAAZEAAAAAAAABkQAAAAAAAAGRAAAAAAAAAZEAAAAAAAABkQAAAAAAAAGRA",
          "dtype": "f8"
         },
         "z": {
          "bdata": "DEJ9YKtepT9ktpLw6/KvP10VVECWQ7U/ic9eiLaNuj+1iWnQ1te/P/AhOoz7kMI/K3oheZD9rz/aU4WZq0q1P5/qefaOlro/ZIFuU3Livz8UjDHYKpfCP3fXq4YcPcU/2SImNQ7jxz88bqDj/4jKP565GpLxLs0/tQWVZGefuj8TeXPWDe2/Pzn2KCRancI/6C8YXS1ExT+XaQeWAOvHP0aj9s7Tkco/9dzlB6c4zT+kFtVAet/PPyoo4rwmQ9E/AcVZWZCW0j/ZYdH1+enTP7D+SJJjPdU/iJvALs2Q1j9fODjLNuTXPzfVr2egN9k/",
          "dtype": "f8"
         }
        }
       ],
       "layout": {
        "margin": {
         "b": 0,
         "l": 0,
         "r": 0,
         "t": 40
        },
        "scene": {
         "xaxis": {
          "title": {
           "text": "S (batch size)"
          }
         },
         "yaxis": {
          "title": {
           "text": "L (tokens)"
          }
         },
         "zaxis": {
          "title": {
           "text": "Time per token (s)"
          }
         }
        },
        "template": {
         "data": {
          "bar": [
           {
            "error_x": {
             "color": "#2a3f5f"
            },
            "error_y": {
             "color": "#2a3f5f"
            },
            "marker": {
             "line": {
              "color": "#E5ECF6",
              "width": 0.5
             },
             "pattern": {
              "fillmode": "overlay",
              "size": 10,
              "solidity": 0.2
             }
            },
            "type": "bar"
           }
          ],
          "barpolar": [
           {
            "marker": {
             "line": {
              "color": "#E5ECF6",
              "width": 0.5
             },
             "pattern": {
              "fillmode": "overlay",
              "size": 10,
              "solidity": 0.2
             }
            },
            "type": "barpolar"
           }
          ],
          "carpet": [
           {
            "aaxis": {
             "endlinecolor": "#2a3f5f",
             "gridcolor": "white",
             "linecolor": "white",
             "minorgridcolor": "white",
             "startlinecolor": "#2a3f5f"
            },
            "baxis": {
             "endlinecolor": "#2a3f5f",
             "gridcolor": "white",
             "linecolor": "white",
             "minorgridcolor": "white",
             "startlinecolor": "#2a3f5f"
            },
            "type": "carpet"
           }
          ],
          "choropleth": [
           {
            "colorbar": {
             "outlinewidth": 0,
             "ticks": ""
            },
            "type": "choropleth"
           }
          ],
          "contour": [
           {
            "colorbar": {
             "outlinewidth": 0,
             "ticks": ""
            },
            "colorscale": [
             [
              0,
              "#0d0887"
             ],
             [
              0.1111111111111111,
              "#46039f"
             ],
             [
              0.2222222222222222,
              "#7201a8"
             ],
             [
              0.3333333333333333,
              "#9c179e"
             ],
             [
              0.4444444444444444,
              "#bd3786"
             ],
             [
              0.5555555555555556,
              "#d8576b"
             ],
             [
              0.6666666666666666,
              "#ed7953"
             ],
             [
              0.7777777777777778,
              "#fb9f3a"
             ],
             [
              0.8888888888888888,
              "#fdca26"
             ],
             [
              1,
              "#f0f921"
             ]
            ],
            "type": "contour"
           }
          ],
          "contourcarpet": [
           {
            "colorbar": {
             "outlinewidth": 0,
             "ticks": ""
            },
            "type": "contourcarpet"
           }
          ],
          "heatmap": [
           {
            "colorbar": {
             "outlinewidth": 0,
             "ticks": ""
            },
            "colorscale": [
             [
              0,
              "#0d0887"
             ],
             [
              0.1111111111111111,
              "#46039f"
             ],
             [
              0.2222222222222222,
              "#7201a8"
             ],
             [
              0.3333333333333333,
              "#9c179e"
             ],
             [
              0.4444444444444444,
              "#bd3786"
             ],
             [
              0.5555555555555556,
              "#d8576b"
             ],
             [
              0.6666666666666666,
              "#ed7953"
             ],
             [
              0.7777777777777778,
              "#fb9f3a"
             ],
             [
              0.8888888888888888,
              "#fdca26"
             ],
             [
              1,
              "#f0f921"
             ]
            ],
            "type": "heatmap"
           }
          ],
          "histogram": [
           {
            "marker": {
             "pattern": {
              "fillmode": "overlay",
              "size": 10,
              "solidity": 0.2
             }
            },
            "type": "histogram"
           }
          ],
          "histogram2d": [
           {
            "colorbar": {
             "outlinewidth": 0,
             "ticks": ""
            },
            "colorscale": [
             [
              0,
              "#0d0887"
             ],
             [
              0.1111111111111111,
              "#46039f"
             ],
             [
              0.2222222222222222,
              "#7201a8"
             ],
             [
              0.3333333333333333,
              "#9c179e"
             ],
             [
              0.4444444444444444,
              "#bd3786"
             ],
             [
              0.5555555555555556,
              "#d8576b"
             ],
             [
              0.6666666666666666,
              "#ed7953"
             ],
             [
              0.7777777777777778,
              "#fb9f3a"
             ],
             [
              0.8888888888888888,
              "#fdca26"
             ],
             [
              1,
              "#f0f921"
             ]
            ],
            "type": "histogram2d"
           }
          ],
          "histogram2dcontour": [
           {
            "colorbar": {
             "outlinewidth": 0,
             "ticks": ""
            },
            "colorscale": [
             [
              0,
              "#0d0887"
             ],
             [
              0.1111111111111111,
              "#46039f"
             ],
             [
              0.2222222222222222,
              "#7201a8"
             ],
             [
              0.3333333333333333,
              "#9c179e"
             ],
             [
              0.4444444444444444,
              "#bd3786"
             ],
             [
              0.5555555555555556,
              "#d8576b"
             ],
             [
              0.6666666666666666,
              "#ed7953"
             ],
             [
              0.7777777777777778,
              "#fb9f3a"
             ],
             [
              0.8888888888888888,
              "#fdca26"
             ],
             [
              1,
              "#f0f921"
             ]
            ],
            "type": "histogram2dcontour"
           }
          ],
          "mesh3d": [
           {
            "colorbar": {
             "outlinewidth": 0,
             "ticks": ""
            },
            "type": "mesh3d"
           }
          ],
          "parcoords": [
           {
            "line": {
             "colorbar": {
              "outlinewidth": 0,
              "ticks": ""
             }
            },
            "type": "parcoords"
           }
          ],
          "pie": [
           {
            "automargin": true,
            "type": "pie"
           }
          ],
          "scatter": [
           {
            "fillpattern": {
             "fillmode": "overlay",
             "size": 10,
             "solidity": 0.2
            },
            "type": "scatter"
           }
          ],
          "scatter3d": [
           {
            "line": {
             "colorbar": {
              "outlinewidth": 0,
              "ticks": ""
             }
            },
            "marker": {
             "colorbar": {
              "outlinewidth": 0,
              "ticks": ""
             }
            },
            "type": "scatter3d"
           }
          ],
          "scattercarpet": [
           {
            "marker": {
             "colorbar": {
              "outlinewidth": 0,
              "ticks": ""
             }
            },
            "type": "scattercarpet"
           }
          ],
          "scattergeo": [
           {
            "marker": {
             "colorbar": {
              "outlinewidth": 0,
              "ticks": ""
             }
            },
            "type": "scattergeo"
           }
          ],
          "scattergl": [
           {
            "marker": {
             "colorbar": {
              "outlinewidth": 0,
              "ticks": ""
             }
            },
            "type": "scattergl"
           }
          ],
          "scattermap": [
           {
            "marker": {
             "colorbar": {
              "outlinewidth": 0,
              "ticks": ""
             }
            },
            "type": "scattermap"
           }
          ],
          "scattermapbox": [
           {
            "marker": {
             "colorbar": {
              "outlinewidth": 0,
              "ticks": ""
             }
            },
            "type": "scattermapbox"
           }
          ],
          "scatterpolar": [
           {
            "marker": {
             "colorbar": {
              "outlinewidth": 0,
              "ticks": ""
             }
            },
            "type": "scatterpolar"
           }
          ],
          "scatterpolargl": [
           {
            "marker": {
             "colorbar": {
              "outlinewidth": 0,
              "ticks": ""
             }
            },
            "type": "scatterpolargl"
           }
          ],
          "scatterternary": [
           {
            "marker": {
             "colorbar": {
              "outlinewidth": 0,
              "ticks": ""
             }
            },
            "type": "scatterternary"
           }
          ],
          "surface": [
           {
            "colorbar": {
             "outlinewidth": 0,
             "ticks": ""
            },
            "colorscale": [
             [
              0,
              "#0d0887"
             ],
             [
              0.1111111111111111,
              "#46039f"
             ],
             [
              0.2222222222222222,
              "#7201a8"
             ],
             [
              0.3333333333333333,
              "#9c179e"
             ],
             [
              0.4444444444444444,
              "#bd3786"
             ],
             [
              0.5555555555555556,
              "#d8576b"
             ],
             [
              0.6666666666666666,
              "#ed7953"
             ],
             [
              0.7777777777777778,
              "#fb9f3a"
             ],
             [
              0.8888888888888888,
              "#fdca26"
             ],
             [
              1,
              "#f0f921"
             ]
            ],
            "type": "surface"
           }
          ],
          "table": [
           {
            "cells": {
             "fill": {
              "color": "#EBF0F8"
             },
             "line": {
              "color": "white"
             }
            },
            "header": {
             "fill": {
              "color": "#C8D4E3"
             },
             "line": {
              "color": "white"
             }
            },
            "type": "table"
           }
          ]
         },
         "layout": {
          "annotationdefaults": {
           "arrowcolor": "#2a3f5f",
           "arrowhead": 0,
           "arrowwidth": 1
          },
          "autotypenumbers": "strict",
          "coloraxis": {
           "colorbar": {
            "outlinewidth": 0,
            "ticks": ""
           }
          },
          "colorscale": {
           "diverging": [
            [
             0,
             "#8e0152"
            ],
            [
             0.1,
             "#c51b7d"
            ],
            [
             0.2,
             "#de77ae"
            ],
            [
             0.3,
             "#f1b6da"
            ],
            [
             0.4,
             "#fde0ef"
            ],
            [
             0.5,
             "#f7f7f7"
            ],
            [
             0.6,
             "#e6f5d0"
            ],
            [
             0.7,
             "#b8e186"
            ],
            [
             0.8,
             "#7fbc41"
            ],
            [
             0.9,
             "#4d9221"
            ],
            [
             1,
             "#276419"
            ]
           ],
           "sequential": [
            [
             0,
             "#0d0887"
            ],
            [
             0.1111111111111111,
             "#46039f"
            ],
            [
             0.2222222222222222,
             "#7201a8"
            ],
            [
             0.3333333333333333,
             "#9c179e"
            ],
            [
             0.4444444444444444,
             "#bd3786"
            ],
            [
             0.5555555555555556,
             "#d8576b"
            ],
            [
             0.6666666666666666,
             "#ed7953"
            ],
            [
             0.7777777777777778,
             "#fb9f3a"
            ],
            [
             0.8888888888888888,
             "#fdca26"
            ],
            [
             1,
             "#f0f921"
            ]
           ],
           "sequentialminus": [
            [
             0,
             "#0d0887"
            ],
            [
             0.1111111111111111,
             "#46039f"
            ],
            [
             0.2222222222222222,
             "#7201a8"
            ],
            [
             0.3333333333333333,
             "#9c179e"
            ],
            [
             0.4444444444444444,
             "#bd3786"
            ],
            [
             0.5555555555555556,
             "#d8576b"
            ],
            [
             0.6666666666666666,
             "#ed7953"
            ],
            [
             0.7777777777777778,
             "#fb9f3a"
            ],
            [
             0.8888888888888888,
             "#fdca26"
            ],
            [
             1,
             "#f0f921"
            ]
           ]
          },
          "colorway": [
           "#636efa",
           "#EF553B",
           "#00cc96",
           "#ab63fa",
           "#FFA15A",
           "#19d3f3",
           "#FF6692",
           "#B6E880",
           "#FF97FF",
           "#FECB52"
          ],
          "font": {
           "color": "#2a3f5f"
          },
          "geo": {
           "bgcolor": "white",
           "lakecolor": "white",
           "landcolor": "#E5ECF6",
           "showlakes": true,
           "showland": true,
           "subunitcolor": "white"
          },
          "hoverlabel": {
           "align": "left"
          },
          "hovermode": "closest",
          "mapbox": {
           "style": "light"
          },
          "paper_bgcolor": "white",
          "plot_bgcolor": "#E5ECF6",
          "polar": {
           "angularaxis": {
            "gridcolor": "white",
            "linecolor": "white",
            "ticks": ""
           },
           "bgcolor": "#E5ECF6",
           "radialaxis": {
            "gridcolor": "white",
            "linecolor": "white",
            "ticks": ""
           }
          },
          "scene": {
           "xaxis": {
            "backgroundcolor": "#E5ECF6",
            "gridcolor": "white",
            "gridwidth": 2,
            "linecolor": "white",
            "showbackground": true,
            "ticks": "",
            "zerolinecolor": "white"
           },
           "yaxis": {
            "backgroundcolor": "#E5ECF6",
            "gridcolor": "white",
            "gridwidth": 2,
            "linecolor": "white",
            "showbackground": true,
            "ticks": "",
            "zerolinecolor": "white"
           },
           "zaxis": {
            "backgroundcolor": "#E5ECF6",
            "gridcolor": "white",
            "gridwidth": 2,
            "linecolor": "white",
            "showbackground": true,
            "ticks": "",
            "zerolinecolor": "white"
           }
          },
          "shapedefaults": {
           "line": {
            "color": "#2a3f5f"
           }
          },
          "ternary": {
           "aaxis": {
            "gridcolor": "white",
            "linecolor": "white",
            "ticks": ""
           },
           "baxis": {
            "gridcolor": "white",
            "linecolor": "white",
            "ticks": ""
           },
           "bgcolor": "#E5ECF6",
           "caxis": {
            "gridcolor": "white",
            "linecolor": "white",
            "ticks": ""
           }
          },
          "title": {
           "x": 0.05
          },
          "xaxis": {
           "automargin": true,
           "gridcolor": "white",
           "linecolor": "white",
           "ticks": "",
           "title": {
            "standoff": 15
           },
           "zerolinecolor": "white",
           "zerolinewidth": 2
          },
          "yaxis": {
           "automargin": true,
           "gridcolor": "white",
           "linecolor": "white",
           "ticks": "",
           "title": {
            "standoff": 15
           },
           "zerolinecolor": "white",
           "zerolinewidth": 2
          }
         }
        },
        "title": {
         "text": "Decode — max(T) per token"
        }
       }
      }
     },
     "metadata": {},
     "output_type": "display_data"
    }
   ],
   "source": [
    "import numpy as np\n",
    "import plotly.graph_objs as go\n",
    "\n",
    "from utils.config import decode_surface_grids, prefill_surface_grids, get_model_config\n",
    "from utils.math_utils import (\n",
    "    decode_compute_time,\n",
    "    decode_memory_time,\n",
    "    prefill_compute_time,\n",
    "    prefill_memory_time,\n",
    "    safe_ratio,\n",
    ")\n",
    "\n",
    "model = get_model_config(\"70B\")\n",
    "\n",
    "# prefill_surface_S, prefill_surface_L = prefill_surface_grids()\n",
    "\n",
    "# prefill_S_vals = np.array(prefill_surface_S, dtype=float)\n",
    "# prefill_L_vals = np.arange(\n",
    "#     prefill_surface_L[0], prefill_surface_L[1] + prefill_surface_L[2], prefill_surface_L[2], dtype=float\n",
    "# )\n",
    "\n",
    "# prefill_Sg = prefill_S_vals[None, :]\n",
    "# prefill_Lg = prefill_L_vals[:, None]\n",
    "\n",
    "# prefill_T_compute = prefill_compute_time(prefill_Sg, prefill_Lg, prefill_model, hardware)\n",
    "# prefill_T_memory = prefill_memory_time(prefill_Sg, prefill_Lg, prefill_model, hardware)\n",
    "# prefill_T_ratio = safe_ratio(prefill_T_compute, prefill_T_memory)\n",
    "# prefill_T_max = np.maximum(prefill_T_compute, prefill_T_memory)\n",
    "\n",
    "# prefill_eps = 0.05\n",
    "# prefill_den = np.maximum(prefill_T_compute, prefill_T_memory)\n",
    "# prefill_boundary = np.abs(prefill_T_compute - prefill_T_memory) / np.where(prefill_den == 0, 1, prefill_den) <= prefill_eps\n",
    "# pi, pj = np.where(prefill_boundary)\n",
    "# prefill_boundary_L = prefill_L_vals[pi]\n",
    "# prefill_boundary_S = prefill_S_vals[pj]\n",
    "# prefill_boundary_Z = prefill_T_compute[pi, pj]\n",
    "\n",
    "def make_surface(x_vals, y_vals, z, boundary_S, boundary_L, boundary_Z, title, zlabel):\n",
    "    fig = go.Figure(\n",
    "        data=[\n",
    "            go.Surface(x=x_vals, y=y_vals, z=z, showscale=True),\n",
    "            go.Scatter3d(\n",
    "                x=boundary_S,\n",
    "                y=boundary_L,\n",
    "                z=boundary_Z,\n",
    "                mode=\"markers\",\n",
    "                marker=dict(size=3, opacity=0.8),\n",
    "            ),\n",
    "        ]\n",
    "    )\n",
    "    fig.update_layout(\n",
    "        title=title,\n",
    "        scene=dict(\n",
    "            xaxis_title=\"S (batch size)\",\n",
    "            yaxis_title=\"L (tokens)\",\n",
    "            zaxis_title=zlabel,\n",
    "        ),\n",
    "        margin=dict(l=0, r=0, t=40, b=0),\n",
    "    )\n",
    "    fig.show()\n",
    "\n",
    "# make_surface(\n",
    "#     prefill_S_vals,\n",
    "#     prefill_L_vals,\n",
    "#     prefill_T_compute,\n",
    "#     prefill_boundary_S,\n",
    "#     prefill_boundary_L,\n",
    "#     prefill_boundary_Z,\n",
    "#     \"Prefill — T_compute(S,L)\",\n",
    "#     \"Time per prefill step (s)\",\n",
    "# )\n",
    "\n",
    "# make_surface(\n",
    "#     prefill_S_vals,\n",
    "#     prefill_L_vals,\n",
    "#     prefill_T_memory,\n",
    "#     prefill_boundary_S,\n",
    "#     prefill_boundary_L,\n",
    "#     prefill_boundary_Z,\n",
    "#     \"Prefill — T_memory(S,L)\",\n",
    "#     \"Time per prefill step (s)\",\n",
    "# )\n",
    "\n",
    "# make_surface(\n",
    "#     prefill_S_vals,\n",
    "#     prefill_L_vals,\n",
    "#     prefill_T_ratio,\n",
    "#     prefill_boundary_S,\n",
    "#     prefill_boundary_L,\n",
    "#     prefill_boundary_Z,\n",
    "#     \"Prefill — T_compute/T_memory(S,L)\",\n",
    "#     \"Ratio\",\n",
    "# )\n",
    "\n",
    "decode_surface_S, decode_surface_L = decode_surface_grids()\n",
    "decode_S_start, decode_S_stop, decode_S_step = decode_surface_S\n",
    "decode_L_start, decode_L_stop, decode_L_step = decode_surface_L\n",
    "decode_S_vals = np.arange(decode_S_start, decode_S_stop, decode_S_step, dtype=float)\n",
    "decode_L_vals = np.arange(decode_L_start, decode_L_stop, decode_L_step, dtype=float)\n",
    "\n",
    "decode_Sg = decode_S_vals[None, :]\n",
    "decode_Lg = decode_L_vals[:, None]\n",
    "\n",
    "decode_T_compute = decode_compute_time(decode_Sg, decode_Lg, model, hardware)\n",
    "decode_T_memory = decode_memory_time(decode_Sg, decode_Lg, model, hardware)\n",
    "decode_T_max = np.maximum(decode_T_compute, decode_T_memory)\n",
    "\n",
    "decode_eps = 0.05\n",
    "# decode_den = np.maximum(decode_T_compute, decode_T_memory)\n",
    "# decode_boundary = np.abs(decode_T_compute - decode_T_memory) / np.where(decode_T_max == 0, 1, decode_T_max) <= decode_eps\n",
    "decode_boundary = np.abs(decode_T_compute - decode_T_memory)  <= decode_eps\n",
    "\n",
    "di, dj = np.where(decode_boundary)\n",
    "decode_boundary_L = decode_L_vals[di]\n",
    "decode_boundary_S = decode_S_vals[dj]\n",
    "decode_boundary_Z = decode_T_compute[di, dj]\n",
    "\n",
    "make_surface(\n",
    "    decode_S_vals,\n",
    "    decode_L_vals,\n",
    "    decode_T_compute,\n",
    "    decode_boundary_S,\n",
    "    decode_boundary_L,\n",
    "    decode_boundary_Z,\n",
    "    \"Decode — T_compute(S,L) per token\",\n",
    "    \"Time per token (s)\",\n",
    ")\n",
    "\n",
    "make_surface(\n",
    "    decode_S_vals,\n",
    "    decode_L_vals,\n",
    "    decode_T_memory,\n",
    "    decode_boundary_S,\n",
    "    decode_boundary_L,\n",
    "    decode_boundary_Z,\n",
    "    \"Decode — T_memory(S,L) per token\",\n",
    "    \"Time per token (s)\",\n",
    ")\n",
    "\n",
    "make_surface(\n",
    "    decode_S_vals,\n",
    "    decode_L_vals,\n",
    "    decode_T_max,\n",
    "    decode_boundary_S,\n",
    "    decode_boundary_L,\n",
    "    decode_boundary_Z,\n",
    "    \"Decode — max(T) per token\",\n",
    "    \"Time per token (s)\",\n",
    ")\n"
   ]
  },
  {
   "cell_type": "code",
   "execution_count": null,
   "id": "fty5gevfaYey",
   "metadata": {
    "id": "fty5gevfaYey"
   },
   "outputs": [],
   "source": [
    "# citing from flash2.pdf\n",
    "\n",
    "Benchmark setting: we vary the sequence length from 512, 1k, ..., 16k, and set batch size so that the total\n",
    "number of tokens is 16k. We set hidden dimension to 2048, and head dimension to be either 64 or 128 (i.e.,\n",
    "32 heads or 16 heads). To calculate the FLOPs of the forward pass, we use:\n",
    "4 · seqlen2 · head dimension · number of heads."
   ]
  }
 ],
 "metadata": {
  "colab": {
   "provenance": [],
   "toc_visible": true
  },
  "kernelspec": {
   "display_name": "venv",
   "language": "python",
   "name": "python3"
  },
  "language_info": {
   "codemirror_mode": {
    "name": "ipython",
    "version": 3
   },
   "file_extension": ".py",
   "mimetype": "text/x-python",
   "name": "python",
   "nbconvert_exporter": "python",
   "pygments_lexer": "ipython3",
   "version": "3.10.12"
  }
 },
 "nbformat": 4,
 "nbformat_minor": 5
}
