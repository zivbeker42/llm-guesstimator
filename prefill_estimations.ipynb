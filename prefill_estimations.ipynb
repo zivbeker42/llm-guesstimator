{
 "cells": [
  {
   "cell_type": "code",
   "execution_count": null,
   "id": "eabdb0b4",
   "metadata": {},
   "outputs": [],
   "source": [
    "import google.colab\n",
    "import os\n",
    "import sys\n",
    "import subprocess\n",
    "\n",
    "REPO_URL = \"https://github.com/zivbeker42/llm-guesstimator.git\"\n",
    "\n",
    "bash_setup = f\"\"\"\n",
    "setup_llm_guesstimator() {{\n",
    "  if [[ -n \\\"${{COLAB_RELEASE_TAG:-}}\\\" ]]; then\n",
    "    local repo_path=\\\"/content/llm-guesstimator\\\"\n",
    "    if [[ ! -d \\\"$repo_path\\\" ]]; then\n",
    "      git clone \\\"{REPO_URL}\\\" \\\"$repo_path\\\"\n",
    "    fi\n",
    "  fi\n",
    "}}\n",
    "setup_llm_guesstimator\n",
    "\"\"\"\n",
    "\n",
    "subprocess.run([\"bash\", \"-lc\", bash_setup])\n",
    "\n",
    "repo_path = \"/content/llm-guesstimator\" if \"google.colab\" in sys.modules else os.path.abspath('.')\n",
    "\n",
    "if repo_path not in sys.path:\n",
    "    sys.path.append(repo_path)\n",
    "os.chdir(repo_path)\n"
   ]
  },
  {
   "cell_type": "markdown",
   "id": "4146b933",
   "metadata": {
    "id": "4146b933"
   },
   "source": [
    "\n",
    "# Prefill Time Estimates for Transformers - ($2·m·n·p$ convention)\n",
    "\n",
    "This notebook derives and visualizes **prefill** (encode) time across $S$ concurrent requests,\n",
    "counting matmuls as **$2mnp$ FLOPs**.\n",
    "\n",
    "It includes:\n",
    "- Compute and memory time formulas (with inline math in $...$).\n",
    "- Parameters for NVIDIA **A100‑40GB**.\n",
    "- Functions for $T_{prefill}^{compute}(S,L)$ and $T_{prefill}^{memory}(S,L)$.\n",
    "- Plots vs $L$ and vs $S$.\n"
   ]
  },
  {
   "cell_type": "markdown",
   "id": "55575735",
   "metadata": {
    "id": "55575735"
   },
   "source": [
    "\n",
    "## Formulas\n",
    "\n",
    "**Compute FLOPs per layer & request (length $L$):**\n",
    "- Projections $Q,K,V,O$: $8Ld^2$\n",
    "- Attention ($QK^T$ and $AV$): $4L^2d$\n",
    "- FFN: $4rLd^2$\n",
    "\n",
    "So - \n",
    "\n",
    "$$FLOPS_{layer, req} = (8+4r)Ld^2 + 4L^2d$$\n",
    "\n",
    "Across $S$ requests and $n_\\ell$ layers:  \n",
    "$$T_{prefill}^{compute}(S,L) = \\dfrac{n_\\ell S((8+4r)Ld^2 + 4L^2d)}{GPU\\ FLOPs/s}$$\n",
    "\n",
    "---\n",
    "\n",
    "**Memory traffic per prefill round:**\n",
    "1. Weights read: $n_\\ell(4+2r)d^2 \\times dtype\\_bytes$  \n",
    "2. KV write: $n_\\ell(2SLd) \\times dtype\\_bytes$  \n",
    "3. Activations: $n_\\ell(c_{act}SLd) \\times dtype\\_bytes$\n",
    "\n",
    "Total bytes:  \n",
    "$n_\\ell((4+2r)d^2 + (2+c_{act})SLd) \\cdot dtype\\_bytes$\n",
    "\n",
    "So  \n",
    "$T_{prefill}^{memory}(S,L) = \\dfrac{n_\\ell((4+2r)d^2 + (2+c_{act})SLd) \\cdot dtype\\_bytes}{BW}$\n"
   ]
  },
  {
   "cell_type": "markdown",
   "id": "1b793818",
   "metadata": {
    "id": "1b793818"
   },
   "source": [
    "\n",
    "## Example Parameters (A100‑40GB, model Llama-70B)\n",
    "\n",
    "- Hidden size $d = 4096$  \n",
    "- FFN expansion $r = 4$  \n",
    "- Layers $n_\\ell = 64$  \n",
    "- dtype\\_bytes = 2 (FP16/BF16)  \n",
    "- GPU peak FLOPs/s = $312 \\times 10^{12}$  \n",
    "- Bandwidth $BW \\approx 1.555 \\times 10^{12}$ Bytes/s (≈1555 GB/s)  \n"
   ]
  },
  {
   "cell_type": "code",
   "execution_count": null,
   "id": "f0e65b1d",
   "metadata": {
    "executionInfo": {
     "elapsed": 16,
     "status": "ok",
     "timestamp": 1759256907821,
     "user": {
      "displayName": "ziv beker",
      "userId": "07904590467861271362"
     },
     "user_tz": -180
    },
    "id": "f0e65b1d"
   },
   "outputs": [],
   "source": [
    "import numpy as np\n",
    "import matplotlib.pyplot as plt\n",
    "import pandas as pd\n",
    "\n",
    "from utils.config import S_L_GRID_SETTINGS, get_hardware_config, get_model_config\n",
    "from utils.math_utils import prefill_compute_time, prefill_memory_time\n",
    "\n",
    "hardware = get_hardware_config()\n",
    "prefill_model = get_model_config(\"70B\")\n",
    "prefill_settings = S_L_GRID_SETTINGS[\"prefill\"]\n"
   ]
  },
  {
   "cell_type": "markdown",
   "id": "4f548798",
   "metadata": {
    "id": "4f548798"
   },
   "source": [
    "## Functions"
   ]
  },
  {
   "cell_type": "markdown",
   "id": "699853c1",
   "metadata": {
    "id": "699853c1"
   },
   "source": [
    "## Plots vs $L$ for various $S$"
   ]
  },
  {
   "cell_type": "code",
   "execution_count": null,
   "id": "bc36fc27",
   "metadata": {
    "colab": {
     "base_uri": "https://localhost:8080/",
     "height": 564
    },
    "executionInfo": {
     "elapsed": 810,
     "status": "ok",
     "timestamp": 1759256920789,
     "user": {
      "displayName": "ziv beker",
      "userId": "07904590467861271362"
     },
     "user_tz": -180
    },
    "id": "bc36fc27",
    "outputId": "57debc01-f676-4153-c570-0a1792ef50fe"
   },
   "outputs": [],
   "source": [
    "start, stop, num = prefill_settings[\"context_linspace\"]\n",
    "L_vals = np.linspace(start, 10000, int(num))\n",
    "S_list = prefill_settings[\"sample_batch_sizes\"]\n",
    "\n",
    "plt.figure(figsize=(8, 6))\n",
    "for S in S_list:\n",
    "    Tcomp = prefill_compute_time(S, L_vals, prefill_model, hardware) * 1e3\n",
    "    plt.plot(L_vals, Tcomp, label=f'S={S} compute')\n",
    "Tmem = prefill_memory_time(1, L_vals, prefill_model, hardware) * 1e3\n",
    "plt.plot(L_vals, Tmem, '--', label='S=1 memory')\n",
    "plt.xlabel(\"Context length L (tokens)\")\n",
    "plt.ylabel(\"Time (ms)\")\n",
    "plt.title(\"Prefill time vs L on A100-40GB\")\n",
    "plt.legend()\n",
    "plt.grid(True, linestyle=\":\")\n",
    "plt.show()\n"
   ]
  },
  {
   "cell_type": "markdown",
   "id": "59512f67",
   "metadata": {
    "id": "59512f67"
   },
   "source": [
    "## Plots vs $S$ for fixed $L$"
   ]
  },
  {
   "cell_type": "code",
   "execution_count": null,
   "id": "045d4316",
   "metadata": {
    "colab": {
     "base_uri": "https://localhost:8080/",
     "height": 564
    },
    "executionInfo": {
     "elapsed": 438,
     "status": "ok",
     "timestamp": 1759256930175,
     "user": {
      "displayName": "ziv beker",
      "userId": "07904590467861271362"
     },
     "user_tz": -180
    },
    "id": "045d4316",
    "outputId": "39838856-c09d-49a4-f652-5c7c184a46d2"
   },
   "outputs": [],
   "source": [
    "start, stop, num = prefill_settings[\"batch_linspace\"]\n",
    "S_vals = np.linspace(start, stop, int(num))\n",
    "L_list = prefill_settings[\"sample_context_lengths\"]\n",
    "# L_list = [500, 1000, 2000, 4000]\n",
    "plt.figure(figsize=(8, 6))\n",
    "for L in L_list:\n",
    "    Tcomp = prefill_compute_time(S_vals, L, prefill_model, hardware) * 1e3\n",
    "    plt.plot(S_vals, Tcomp, label=f'L={L} compute')\n",
    "Tmem = prefill_memory_time(S_vals, L_list[0], prefill_model, hardware) * 1e3\n",
    "plt.plot(S_vals, Tmem, '--', label=f'L={L_list[0]} memory')\n",
    "plt.xlabel(\"Concurrency S\")\n",
    "plt.ylabel(\"Time (ms)\")\n",
    "plt.title(\"Prefill time vs S on A100-40GB\")\n",
    "plt.legend()\n",
    "plt.grid(True, linestyle=\":\")\n",
    "plt.show()\n"
   ]
  },
  {
   "cell_type": "markdown",
   "id": "0c80b321",
   "metadata": {
    "id": "0c80b321"
   },
   "source": [
    "## Sanity Check Table"
   ]
  },
  {
   "cell_type": "code",
   "execution_count": null,
   "id": "c9c1925b",
   "metadata": {
    "colab": {
     "base_uri": "https://localhost:8080/",
     "height": 206
    },
    "executionInfo": {
     "elapsed": 55,
     "status": "ok",
     "timestamp": 1759256939754,
     "user": {
      "displayName": "ziv beker",
      "userId": "07904590467861271362"
     },
     "user_tz": -180
    },
    "id": "c9c1925b",
    "outputId": "7d63e5d3-9ee8-4f5c-fb1f-523eeed22c6c"
   },
   "outputs": [],
   "source": [
    "rows = []\n",
    "for S_L_dict in prefill_settings[\"summary_points\"]:\n",
    "    print(S_L_dict)\n",
    "    S, L = S_L_dict[\"S\"], S_L_dict[\"L\"]\n",
    "    rows.append({\n",
    "        \"S\": S,\n",
    "        \"L\": L,\n",
    "        \"T_compute\": float(prefill_compute_time(S, L, prefill_model, hardware)),\n",
    "        \"T_memory\": float(prefill_memory_time(S, L, prefill_model, hardware)),\n",
    "    })\n",
    "\n",
    "df = pd.DataFrame(rows)\n",
    "df\n"
   ]
  },
  {
   "cell_type": "code",
   "execution_count": null,
   "id": "5d0b94a6",
   "metadata": {},
   "outputs": [],
   "source": []
  }
 ],
 "metadata": {
  "colab": {
   "provenance": []
  },
  "kernelspec": {
   "display_name": "venv",
   "language": "python",
   "name": "python3"
  },
  "language_info": {
   "codemirror_mode": {
    "name": "ipython",
    "version": 3
   },
   "file_extension": ".py",
   "mimetype": "text/x-python",
   "name": "python",
   "nbconvert_exporter": "python",
   "pygments_lexer": "ipython3",
   "version": "3.10.12"
  }
 },
 "nbformat": 4,
 "nbformat_minor": 5
}
